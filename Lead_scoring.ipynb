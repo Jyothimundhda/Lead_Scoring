{
 "cells": [
  {
   "cell_type": "code",
   "execution_count": 596,
   "id": "6a855026-9c2e-42f1-8c5f-55d72ff2612f",
   "metadata": {},
   "outputs": [
    {
     "name": "stdout",
     "output_type": "stream",
     "text": [
      "Requirement already satisfied: matplotlib in c:\\users\\mohan.nishantam\\appdata\\local\\programs\\python\\python312\\lib\\site-packages (3.10.0)\n",
      "Requirement already satisfied: contourpy>=1.0.1 in c:\\users\\mohan.nishantam\\appdata\\local\\programs\\python\\python312\\lib\\site-packages (from matplotlib) (1.2.1)\n",
      "Requirement already satisfied: cycler>=0.10 in c:\\users\\mohan.nishantam\\appdata\\local\\programs\\python\\python312\\lib\\site-packages (from matplotlib) (0.12.1)\n",
      "Requirement already satisfied: fonttools>=4.22.0 in c:\\users\\mohan.nishantam\\appdata\\local\\programs\\python\\python312\\lib\\site-packages (from matplotlib) (4.53.1)\n",
      "Requirement already satisfied: kiwisolver>=1.3.1 in c:\\users\\mohan.nishantam\\appdata\\local\\programs\\python\\python312\\lib\\site-packages (from matplotlib) (1.4.5)\n",
      "Requirement already satisfied: numpy>=1.23 in c:\\users\\mohan.nishantam\\appdata\\roaming\\python\\python312\\site-packages (from matplotlib) (2.1.3)\n",
      "Requirement already satisfied: packaging>=20.0 in c:\\users\\mohan.nishantam\\appdata\\roaming\\python\\python312\\site-packages (from matplotlib) (24.2)\n",
      "Requirement already satisfied: pillow>=8 in c:\\users\\mohan.nishantam\\appdata\\local\\programs\\python\\python312\\lib\\site-packages (from matplotlib) (10.4.0)\n",
      "Requirement already satisfied: pyparsing>=2.3.1 in c:\\users\\mohan.nishantam\\appdata\\local\\programs\\python\\python312\\lib\\site-packages (from matplotlib) (3.1.2)\n",
      "Requirement already satisfied: python-dateutil>=2.7 in c:\\users\\mohan.nishantam\\appdata\\roaming\\python\\python312\\site-packages (from matplotlib) (2.9.0.post0)\n",
      "Requirement already satisfied: six>=1.5 in c:\\users\\mohan.nishantam\\appdata\\roaming\\python\\python312\\site-packages (from python-dateutil>=2.7->matplotlib) (1.16.0)\n"
     ]
    },
    {
     "name": "stderr",
     "output_type": "stream",
     "text": [
      "\n",
      "[notice] A new release of pip is available: 24.2 -> 24.3.1\n",
      "[notice] To update, run: python.exe -m pip install --upgrade pip\n"
     ]
    }
   ],
   "source": [
    "!pip install --upgrade matplotlib"
   ]
  },
  {
   "cell_type": "code",
   "execution_count": 597,
   "id": "5d518912-e63c-4532-828b-958a0d2402e4",
   "metadata": {},
   "outputs": [],
   "source": [
    "import pandas as pd\n",
    "import numpy as np\n",
    "import matplotlib.pyplot as plt\n",
    "import seaborn as sns\n",
    "import warnings\n",
    "warnings.filterwarnings('ignore')\n",
    "from sklearn.preprocessing import StandardScaler"
   ]
  },
  {
   "cell_type": "code",
   "execution_count": 598,
   "id": "ec4d52f9-dfea-40e9-b117-75c33222b8bc",
   "metadata": {},
   "outputs": [],
   "source": [
    "lead = pd.read_csv(r'Leads.csv')"
   ]
  },
  {
   "cell_type": "code",
   "execution_count": 599,
   "id": "abd59652-fe10-4827-8e67-dcf349251d59",
   "metadata": {},
   "outputs": [
    {
     "data": {
      "text/html": [
       "<div>\n",
       "<style scoped>\n",
       "    .dataframe tbody tr th:only-of-type {\n",
       "        vertical-align: middle;\n",
       "    }\n",
       "\n",
       "    .dataframe tbody tr th {\n",
       "        vertical-align: top;\n",
       "    }\n",
       "\n",
       "    .dataframe thead th {\n",
       "        text-align: right;\n",
       "    }\n",
       "</style>\n",
       "<table border=\"1\" class=\"dataframe\">\n",
       "  <thead>\n",
       "    <tr style=\"text-align: right;\">\n",
       "      <th></th>\n",
       "      <th>Prospect ID</th>\n",
       "      <th>Lead Number</th>\n",
       "      <th>Lead Origin</th>\n",
       "      <th>Lead Source</th>\n",
       "      <th>Do Not Email</th>\n",
       "      <th>Do Not Call</th>\n",
       "      <th>Converted</th>\n",
       "      <th>TotalVisits</th>\n",
       "      <th>Total Time Spent on Website</th>\n",
       "      <th>Page Views Per Visit</th>\n",
       "      <th>...</th>\n",
       "      <th>Get updates on DM Content</th>\n",
       "      <th>Lead Profile</th>\n",
       "      <th>City</th>\n",
       "      <th>Asymmetrique Activity Index</th>\n",
       "      <th>Asymmetrique Profile Index</th>\n",
       "      <th>Asymmetrique Activity Score</th>\n",
       "      <th>Asymmetrique Profile Score</th>\n",
       "      <th>I agree to pay the amount through cheque</th>\n",
       "      <th>A free copy of Mastering The Interview</th>\n",
       "      <th>Last Notable Activity</th>\n",
       "    </tr>\n",
       "  </thead>\n",
       "  <tbody>\n",
       "    <tr>\n",
       "      <th>0</th>\n",
       "      <td>7927b2df-8bba-4d29-b9a2-b6e0beafe620</td>\n",
       "      <td>660737</td>\n",
       "      <td>API</td>\n",
       "      <td>Olark Chat</td>\n",
       "      <td>No</td>\n",
       "      <td>No</td>\n",
       "      <td>0</td>\n",
       "      <td>0.0</td>\n",
       "      <td>0</td>\n",
       "      <td>0.0</td>\n",
       "      <td>...</td>\n",
       "      <td>No</td>\n",
       "      <td>Select</td>\n",
       "      <td>Select</td>\n",
       "      <td>02.Medium</td>\n",
       "      <td>02.Medium</td>\n",
       "      <td>15.0</td>\n",
       "      <td>15.0</td>\n",
       "      <td>No</td>\n",
       "      <td>No</td>\n",
       "      <td>Modified</td>\n",
       "    </tr>\n",
       "    <tr>\n",
       "      <th>1</th>\n",
       "      <td>2a272436-5132-4136-86fa-dcc88c88f482</td>\n",
       "      <td>660728</td>\n",
       "      <td>API</td>\n",
       "      <td>Organic Search</td>\n",
       "      <td>No</td>\n",
       "      <td>No</td>\n",
       "      <td>0</td>\n",
       "      <td>5.0</td>\n",
       "      <td>674</td>\n",
       "      <td>2.5</td>\n",
       "      <td>...</td>\n",
       "      <td>No</td>\n",
       "      <td>Select</td>\n",
       "      <td>Select</td>\n",
       "      <td>02.Medium</td>\n",
       "      <td>02.Medium</td>\n",
       "      <td>15.0</td>\n",
       "      <td>15.0</td>\n",
       "      <td>No</td>\n",
       "      <td>No</td>\n",
       "      <td>Email Opened</td>\n",
       "    </tr>\n",
       "    <tr>\n",
       "      <th>2</th>\n",
       "      <td>8cc8c611-a219-4f35-ad23-fdfd2656bd8a</td>\n",
       "      <td>660727</td>\n",
       "      <td>Landing Page Submission</td>\n",
       "      <td>Direct Traffic</td>\n",
       "      <td>No</td>\n",
       "      <td>No</td>\n",
       "      <td>1</td>\n",
       "      <td>2.0</td>\n",
       "      <td>1532</td>\n",
       "      <td>2.0</td>\n",
       "      <td>...</td>\n",
       "      <td>No</td>\n",
       "      <td>Potential Lead</td>\n",
       "      <td>Mumbai</td>\n",
       "      <td>02.Medium</td>\n",
       "      <td>01.High</td>\n",
       "      <td>14.0</td>\n",
       "      <td>20.0</td>\n",
       "      <td>No</td>\n",
       "      <td>Yes</td>\n",
       "      <td>Email Opened</td>\n",
       "    </tr>\n",
       "    <tr>\n",
       "      <th>3</th>\n",
       "      <td>0cc2df48-7cf4-4e39-9de9-19797f9b38cc</td>\n",
       "      <td>660719</td>\n",
       "      <td>Landing Page Submission</td>\n",
       "      <td>Direct Traffic</td>\n",
       "      <td>No</td>\n",
       "      <td>No</td>\n",
       "      <td>0</td>\n",
       "      <td>1.0</td>\n",
       "      <td>305</td>\n",
       "      <td>1.0</td>\n",
       "      <td>...</td>\n",
       "      <td>No</td>\n",
       "      <td>Select</td>\n",
       "      <td>Mumbai</td>\n",
       "      <td>02.Medium</td>\n",
       "      <td>01.High</td>\n",
       "      <td>13.0</td>\n",
       "      <td>17.0</td>\n",
       "      <td>No</td>\n",
       "      <td>No</td>\n",
       "      <td>Modified</td>\n",
       "    </tr>\n",
       "    <tr>\n",
       "      <th>4</th>\n",
       "      <td>3256f628-e534-4826-9d63-4a8b88782852</td>\n",
       "      <td>660681</td>\n",
       "      <td>Landing Page Submission</td>\n",
       "      <td>Google</td>\n",
       "      <td>No</td>\n",
       "      <td>No</td>\n",
       "      <td>1</td>\n",
       "      <td>2.0</td>\n",
       "      <td>1428</td>\n",
       "      <td>1.0</td>\n",
       "      <td>...</td>\n",
       "      <td>No</td>\n",
       "      <td>Select</td>\n",
       "      <td>Mumbai</td>\n",
       "      <td>02.Medium</td>\n",
       "      <td>01.High</td>\n",
       "      <td>15.0</td>\n",
       "      <td>18.0</td>\n",
       "      <td>No</td>\n",
       "      <td>No</td>\n",
       "      <td>Modified</td>\n",
       "    </tr>\n",
       "  </tbody>\n",
       "</table>\n",
       "<p>5 rows × 37 columns</p>\n",
       "</div>"
      ],
      "text/plain": [
       "                            Prospect ID  Lead Number              Lead Origin  \\\n",
       "0  7927b2df-8bba-4d29-b9a2-b6e0beafe620       660737                      API   \n",
       "1  2a272436-5132-4136-86fa-dcc88c88f482       660728                      API   \n",
       "2  8cc8c611-a219-4f35-ad23-fdfd2656bd8a       660727  Landing Page Submission   \n",
       "3  0cc2df48-7cf4-4e39-9de9-19797f9b38cc       660719  Landing Page Submission   \n",
       "4  3256f628-e534-4826-9d63-4a8b88782852       660681  Landing Page Submission   \n",
       "\n",
       "      Lead Source Do Not Email Do Not Call  Converted  TotalVisits  \\\n",
       "0      Olark Chat           No          No          0          0.0   \n",
       "1  Organic Search           No          No          0          5.0   \n",
       "2  Direct Traffic           No          No          1          2.0   \n",
       "3  Direct Traffic           No          No          0          1.0   \n",
       "4          Google           No          No          1          2.0   \n",
       "\n",
       "   Total Time Spent on Website  Page Views Per Visit  ...  \\\n",
       "0                            0                   0.0  ...   \n",
       "1                          674                   2.5  ...   \n",
       "2                         1532                   2.0  ...   \n",
       "3                          305                   1.0  ...   \n",
       "4                         1428                   1.0  ...   \n",
       "\n",
       "  Get updates on DM Content    Lead Profile    City  \\\n",
       "0                        No          Select  Select   \n",
       "1                        No          Select  Select   \n",
       "2                        No  Potential Lead  Mumbai   \n",
       "3                        No          Select  Mumbai   \n",
       "4                        No          Select  Mumbai   \n",
       "\n",
       "  Asymmetrique Activity Index Asymmetrique Profile Index  \\\n",
       "0                   02.Medium                  02.Medium   \n",
       "1                   02.Medium                  02.Medium   \n",
       "2                   02.Medium                    01.High   \n",
       "3                   02.Medium                    01.High   \n",
       "4                   02.Medium                    01.High   \n",
       "\n",
       "  Asymmetrique Activity Score Asymmetrique Profile Score  \\\n",
       "0                        15.0                       15.0   \n",
       "1                        15.0                       15.0   \n",
       "2                        14.0                       20.0   \n",
       "3                        13.0                       17.0   \n",
       "4                        15.0                       18.0   \n",
       "\n",
       "  I agree to pay the amount through cheque  \\\n",
       "0                                       No   \n",
       "1                                       No   \n",
       "2                                       No   \n",
       "3                                       No   \n",
       "4                                       No   \n",
       "\n",
       "  A free copy of Mastering The Interview Last Notable Activity  \n",
       "0                                     No              Modified  \n",
       "1                                     No          Email Opened  \n",
       "2                                    Yes          Email Opened  \n",
       "3                                     No              Modified  \n",
       "4                                     No              Modified  \n",
       "\n",
       "[5 rows x 37 columns]"
      ]
     },
     "execution_count": 599,
     "metadata": {},
     "output_type": "execute_result"
    }
   ],
   "source": [
    "lead.head()"
   ]
  },
  {
   "cell_type": "code",
   "execution_count": 600,
   "id": "3dbfad50-af39-47f2-852b-373556afa560",
   "metadata": {},
   "outputs": [
    {
     "data": {
      "text/plain": [
       "(9240, 37)"
      ]
     },
     "execution_count": 600,
     "metadata": {},
     "output_type": "execute_result"
    }
   ],
   "source": [
    "lead.shape"
   ]
  },
  {
   "cell_type": "code",
   "execution_count": 601,
   "id": "c57d1328-53ae-4345-8906-8ef265887d68",
   "metadata": {},
   "outputs": [
    {
     "data": {
      "text/html": [
       "<div>\n",
       "<style scoped>\n",
       "    .dataframe tbody tr th:only-of-type {\n",
       "        vertical-align: middle;\n",
       "    }\n",
       "\n",
       "    .dataframe tbody tr th {\n",
       "        vertical-align: top;\n",
       "    }\n",
       "\n",
       "    .dataframe thead th {\n",
       "        text-align: right;\n",
       "    }\n",
       "</style>\n",
       "<table border=\"1\" class=\"dataframe\">\n",
       "  <thead>\n",
       "    <tr style=\"text-align: right;\">\n",
       "      <th></th>\n",
       "      <th>Lead Number</th>\n",
       "      <th>Converted</th>\n",
       "      <th>TotalVisits</th>\n",
       "      <th>Total Time Spent on Website</th>\n",
       "      <th>Page Views Per Visit</th>\n",
       "      <th>Asymmetrique Activity Score</th>\n",
       "      <th>Asymmetrique Profile Score</th>\n",
       "    </tr>\n",
       "  </thead>\n",
       "  <tbody>\n",
       "    <tr>\n",
       "      <th>count</th>\n",
       "      <td>9240.000000</td>\n",
       "      <td>9240.000000</td>\n",
       "      <td>9103.000000</td>\n",
       "      <td>9240.000000</td>\n",
       "      <td>9103.000000</td>\n",
       "      <td>5022.000000</td>\n",
       "      <td>5022.000000</td>\n",
       "    </tr>\n",
       "    <tr>\n",
       "      <th>mean</th>\n",
       "      <td>617188.435606</td>\n",
       "      <td>0.385390</td>\n",
       "      <td>3.445238</td>\n",
       "      <td>487.698268</td>\n",
       "      <td>2.362820</td>\n",
       "      <td>14.306252</td>\n",
       "      <td>16.344883</td>\n",
       "    </tr>\n",
       "    <tr>\n",
       "      <th>std</th>\n",
       "      <td>23405.995698</td>\n",
       "      <td>0.486714</td>\n",
       "      <td>4.854853</td>\n",
       "      <td>548.021466</td>\n",
       "      <td>2.161418</td>\n",
       "      <td>1.386694</td>\n",
       "      <td>1.811395</td>\n",
       "    </tr>\n",
       "    <tr>\n",
       "      <th>min</th>\n",
       "      <td>579533.000000</td>\n",
       "      <td>0.000000</td>\n",
       "      <td>0.000000</td>\n",
       "      <td>0.000000</td>\n",
       "      <td>0.000000</td>\n",
       "      <td>7.000000</td>\n",
       "      <td>11.000000</td>\n",
       "    </tr>\n",
       "    <tr>\n",
       "      <th>25%</th>\n",
       "      <td>596484.500000</td>\n",
       "      <td>0.000000</td>\n",
       "      <td>1.000000</td>\n",
       "      <td>12.000000</td>\n",
       "      <td>1.000000</td>\n",
       "      <td>14.000000</td>\n",
       "      <td>15.000000</td>\n",
       "    </tr>\n",
       "    <tr>\n",
       "      <th>50%</th>\n",
       "      <td>615479.000000</td>\n",
       "      <td>0.000000</td>\n",
       "      <td>3.000000</td>\n",
       "      <td>248.000000</td>\n",
       "      <td>2.000000</td>\n",
       "      <td>14.000000</td>\n",
       "      <td>16.000000</td>\n",
       "    </tr>\n",
       "    <tr>\n",
       "      <th>75%</th>\n",
       "      <td>637387.250000</td>\n",
       "      <td>1.000000</td>\n",
       "      <td>5.000000</td>\n",
       "      <td>936.000000</td>\n",
       "      <td>3.000000</td>\n",
       "      <td>15.000000</td>\n",
       "      <td>18.000000</td>\n",
       "    </tr>\n",
       "    <tr>\n",
       "      <th>max</th>\n",
       "      <td>660737.000000</td>\n",
       "      <td>1.000000</td>\n",
       "      <td>251.000000</td>\n",
       "      <td>2272.000000</td>\n",
       "      <td>55.000000</td>\n",
       "      <td>18.000000</td>\n",
       "      <td>20.000000</td>\n",
       "    </tr>\n",
       "  </tbody>\n",
       "</table>\n",
       "</div>"
      ],
      "text/plain": [
       "         Lead Number    Converted  TotalVisits  Total Time Spent on Website  \\\n",
       "count    9240.000000  9240.000000  9103.000000                  9240.000000   \n",
       "mean   617188.435606     0.385390     3.445238                   487.698268   \n",
       "std     23405.995698     0.486714     4.854853                   548.021466   \n",
       "min    579533.000000     0.000000     0.000000                     0.000000   \n",
       "25%    596484.500000     0.000000     1.000000                    12.000000   \n",
       "50%    615479.000000     0.000000     3.000000                   248.000000   \n",
       "75%    637387.250000     1.000000     5.000000                   936.000000   \n",
       "max    660737.000000     1.000000   251.000000                  2272.000000   \n",
       "\n",
       "       Page Views Per Visit  Asymmetrique Activity Score  \\\n",
       "count           9103.000000                  5022.000000   \n",
       "mean               2.362820                    14.306252   \n",
       "std                2.161418                     1.386694   \n",
       "min                0.000000                     7.000000   \n",
       "25%                1.000000                    14.000000   \n",
       "50%                2.000000                    14.000000   \n",
       "75%                3.000000                    15.000000   \n",
       "max               55.000000                    18.000000   \n",
       "\n",
       "       Asymmetrique Profile Score  \n",
       "count                 5022.000000  \n",
       "mean                    16.344883  \n",
       "std                      1.811395  \n",
       "min                     11.000000  \n",
       "25%                     15.000000  \n",
       "50%                     16.000000  \n",
       "75%                     18.000000  \n",
       "max                     20.000000  "
      ]
     },
     "execution_count": 601,
     "metadata": {},
     "output_type": "execute_result"
    }
   ],
   "source": [
    "lead.describe()"
   ]
  },
  {
   "cell_type": "code",
   "execution_count": 602,
   "id": "639890b4-1f08-49cd-9ef9-cc8a3b1c7e9e",
   "metadata": {},
   "outputs": [
    {
     "name": "stdout",
     "output_type": "stream",
     "text": [
      "<class 'pandas.core.frame.DataFrame'>\n",
      "RangeIndex: 9240 entries, 0 to 9239\n",
      "Data columns (total 37 columns):\n",
      " #   Column                                         Non-Null Count  Dtype  \n",
      "---  ------                                         --------------  -----  \n",
      " 0   Prospect ID                                    9240 non-null   object \n",
      " 1   Lead Number                                    9240 non-null   int64  \n",
      " 2   Lead Origin                                    9240 non-null   object \n",
      " 3   Lead Source                                    9204 non-null   object \n",
      " 4   Do Not Email                                   9240 non-null   object \n",
      " 5   Do Not Call                                    9240 non-null   object \n",
      " 6   Converted                                      9240 non-null   int64  \n",
      " 7   TotalVisits                                    9103 non-null   float64\n",
      " 8   Total Time Spent on Website                    9240 non-null   int64  \n",
      " 9   Page Views Per Visit                           9103 non-null   float64\n",
      " 10  Last Activity                                  9137 non-null   object \n",
      " 11  Country                                        6779 non-null   object \n",
      " 12  Specialization                                 7802 non-null   object \n",
      " 13  How did you hear about X Education             7033 non-null   object \n",
      " 14  What is your current occupation                6550 non-null   object \n",
      " 15  What matters most to you in choosing a course  6531 non-null   object \n",
      " 16  Search                                         9240 non-null   object \n",
      " 17  Magazine                                       9240 non-null   object \n",
      " 18  Newspaper Article                              9240 non-null   object \n",
      " 19  X Education Forums                             9240 non-null   object \n",
      " 20  Newspaper                                      9240 non-null   object \n",
      " 21  Digital Advertisement                          9240 non-null   object \n",
      " 22  Through Recommendations                        9240 non-null   object \n",
      " 23  Receive More Updates About Our Courses         9240 non-null   object \n",
      " 24  Tags                                           5887 non-null   object \n",
      " 25  Lead Quality                                   4473 non-null   object \n",
      " 26  Update me on Supply Chain Content              9240 non-null   object \n",
      " 27  Get updates on DM Content                      9240 non-null   object \n",
      " 28  Lead Profile                                   6531 non-null   object \n",
      " 29  City                                           7820 non-null   object \n",
      " 30  Asymmetrique Activity Index                    5022 non-null   object \n",
      " 31  Asymmetrique Profile Index                     5022 non-null   object \n",
      " 32  Asymmetrique Activity Score                    5022 non-null   float64\n",
      " 33  Asymmetrique Profile Score                     5022 non-null   float64\n",
      " 34  I agree to pay the amount through cheque       9240 non-null   object \n",
      " 35  A free copy of Mastering The Interview         9240 non-null   object \n",
      " 36  Last Notable Activity                          9240 non-null   object \n",
      "dtypes: float64(4), int64(3), object(30)\n",
      "memory usage: 2.6+ MB\n"
     ]
    }
   ],
   "source": [
    "lead.info()"
   ]
  },
  {
   "cell_type": "markdown",
   "id": "ceb385e5-4d7b-48af-bfc7-a70acbcea97c",
   "metadata": {},
   "source": [
    "#### EDA - Exploratory Data Analysis"
   ]
  },
  {
   "cell_type": "code",
   "execution_count": 603,
   "id": "502c0b02-8f11-4637-93cd-1ba1556e36de",
   "metadata": {},
   "outputs": [
    {
     "data": {
      "text/html": [
       "<div>\n",
       "<style scoped>\n",
       "    .dataframe tbody tr th:only-of-type {\n",
       "        vertical-align: middle;\n",
       "    }\n",
       "\n",
       "    .dataframe tbody tr th {\n",
       "        vertical-align: top;\n",
       "    }\n",
       "\n",
       "    .dataframe thead th {\n",
       "        text-align: right;\n",
       "    }\n",
       "</style>\n",
       "<table border=\"1\" class=\"dataframe\">\n",
       "  <thead>\n",
       "    <tr style=\"text-align: right;\">\n",
       "      <th></th>\n",
       "      <th>Prospect ID</th>\n",
       "      <th>Lead Number</th>\n",
       "      <th>Lead Origin</th>\n",
       "      <th>Lead Source</th>\n",
       "      <th>Do Not Email</th>\n",
       "      <th>Do Not Call</th>\n",
       "      <th>Converted</th>\n",
       "      <th>TotalVisits</th>\n",
       "      <th>Total Time Spent on Website</th>\n",
       "      <th>Page Views Per Visit</th>\n",
       "      <th>...</th>\n",
       "      <th>Get updates on DM Content</th>\n",
       "      <th>Lead Profile</th>\n",
       "      <th>City</th>\n",
       "      <th>Asymmetrique Activity Index</th>\n",
       "      <th>Asymmetrique Profile Index</th>\n",
       "      <th>Asymmetrique Activity Score</th>\n",
       "      <th>Asymmetrique Profile Score</th>\n",
       "      <th>I agree to pay the amount through cheque</th>\n",
       "      <th>A free copy of Mastering The Interview</th>\n",
       "      <th>Last Notable Activity</th>\n",
       "    </tr>\n",
       "  </thead>\n",
       "  <tbody>\n",
       "    <tr>\n",
       "      <th>0</th>\n",
       "      <td>7927b2df-8bba-4d29-b9a2-b6e0beafe620</td>\n",
       "      <td>660737</td>\n",
       "      <td>API</td>\n",
       "      <td>Olark Chat</td>\n",
       "      <td>No</td>\n",
       "      <td>No</td>\n",
       "      <td>0</td>\n",
       "      <td>0.0</td>\n",
       "      <td>0</td>\n",
       "      <td>0.0</td>\n",
       "      <td>...</td>\n",
       "      <td>No</td>\n",
       "      <td>Select</td>\n",
       "      <td>Select</td>\n",
       "      <td>02.Medium</td>\n",
       "      <td>02.Medium</td>\n",
       "      <td>15.0</td>\n",
       "      <td>15.0</td>\n",
       "      <td>No</td>\n",
       "      <td>No</td>\n",
       "      <td>Modified</td>\n",
       "    </tr>\n",
       "    <tr>\n",
       "      <th>1</th>\n",
       "      <td>2a272436-5132-4136-86fa-dcc88c88f482</td>\n",
       "      <td>660728</td>\n",
       "      <td>API</td>\n",
       "      <td>Organic Search</td>\n",
       "      <td>No</td>\n",
       "      <td>No</td>\n",
       "      <td>0</td>\n",
       "      <td>5.0</td>\n",
       "      <td>674</td>\n",
       "      <td>2.5</td>\n",
       "      <td>...</td>\n",
       "      <td>No</td>\n",
       "      <td>Select</td>\n",
       "      <td>Select</td>\n",
       "      <td>02.Medium</td>\n",
       "      <td>02.Medium</td>\n",
       "      <td>15.0</td>\n",
       "      <td>15.0</td>\n",
       "      <td>No</td>\n",
       "      <td>No</td>\n",
       "      <td>Email Opened</td>\n",
       "    </tr>\n",
       "  </tbody>\n",
       "</table>\n",
       "<p>2 rows × 37 columns</p>\n",
       "</div>"
      ],
      "text/plain": [
       "                            Prospect ID  Lead Number Lead Origin  \\\n",
       "0  7927b2df-8bba-4d29-b9a2-b6e0beafe620       660737         API   \n",
       "1  2a272436-5132-4136-86fa-dcc88c88f482       660728         API   \n",
       "\n",
       "      Lead Source Do Not Email Do Not Call  Converted  TotalVisits  \\\n",
       "0      Olark Chat           No          No          0          0.0   \n",
       "1  Organic Search           No          No          0          5.0   \n",
       "\n",
       "   Total Time Spent on Website  Page Views Per Visit  ...  \\\n",
       "0                            0                   0.0  ...   \n",
       "1                          674                   2.5  ...   \n",
       "\n",
       "  Get updates on DM Content Lead Profile    City Asymmetrique Activity Index  \\\n",
       "0                        No       Select  Select                   02.Medium   \n",
       "1                        No       Select  Select                   02.Medium   \n",
       "\n",
       "  Asymmetrique Profile Index Asymmetrique Activity Score  \\\n",
       "0                  02.Medium                        15.0   \n",
       "1                  02.Medium                        15.0   \n",
       "\n",
       "  Asymmetrique Profile Score I agree to pay the amount through cheque  \\\n",
       "0                       15.0                                       No   \n",
       "1                       15.0                                       No   \n",
       "\n",
       "  A free copy of Mastering The Interview Last Notable Activity  \n",
       "0                                     No              Modified  \n",
       "1                                     No          Email Opened  \n",
       "\n",
       "[2 rows x 37 columns]"
      ]
     },
     "execution_count": 603,
     "metadata": {},
     "output_type": "execute_result"
    }
   ],
   "source": [
    "lead.head(2)"
   ]
  },
  {
   "cell_type": "markdown",
   "id": "1508f8d9-9503-4012-a9db-686937620047",
   "metadata": {},
   "source": [
    "##### Need to check if we have any duplicate values for leadnumber and prospect ID"
   ]
  },
  {
   "cell_type": "code",
   "execution_count": 604,
   "id": "2704495a-455f-401a-a454-a8da091df247",
   "metadata": {},
   "outputs": [
    {
     "data": {
      "text/plain": [
       "True"
      ]
     },
     "execution_count": 604,
     "metadata": {},
     "output_type": "execute_result"
    }
   ],
   "source": [
    "sum(lead.duplicated(subset = 'Prospect ID')) ==0\n",
    "sum(lead.duplicated(subset = 'Lead Number')) ==0\n",
    "# as we see below no duplicate values found"
   ]
  },
  {
   "cell_type": "markdown",
   "id": "7bb4c1be-1b71-4b72-bc18-1d843dde26ba",
   "metadata": {},
   "source": [
    "##### Prospect ID & Lead Number are two variables that are just indicative of the ID number of the approched People so can be dropped like serial num"
   ]
  },
  {
   "cell_type": "code",
   "execution_count": 605,
   "id": "0997bd07-9e49-4efb-bb10-5f985d000a81",
   "metadata": {},
   "outputs": [],
   "source": [
    "lead.drop(['Prospect ID','Lead Number'], axis= 1, inplace=True)"
   ]
  },
  {
   "cell_type": "code",
   "execution_count": 606,
   "id": "4986cb6c-0a91-415a-a390-33719f26e85a",
   "metadata": {},
   "outputs": [
    {
     "data": {
      "text/plain": [
       "Lead Origin                                         0\n",
       "Lead Source                                        36\n",
       "Do Not Email                                        0\n",
       "Do Not Call                                         0\n",
       "Converted                                           0\n",
       "TotalVisits                                       137\n",
       "Total Time Spent on Website                         0\n",
       "Page Views Per Visit                              137\n",
       "Last Activity                                     103\n",
       "Country                                          2461\n",
       "Specialization                                   1438\n",
       "How did you hear about X Education               2207\n",
       "What is your current occupation                  2690\n",
       "What matters most to you in choosing a course    2709\n",
       "Search                                              0\n",
       "Magazine                                            0\n",
       "Newspaper Article                                   0\n",
       "X Education Forums                                  0\n",
       "Newspaper                                           0\n",
       "Digital Advertisement                               0\n",
       "Through Recommendations                             0\n",
       "Receive More Updates About Our Courses              0\n",
       "Tags                                             3353\n",
       "Lead Quality                                     4767\n",
       "Update me on Supply Chain Content                   0\n",
       "Get updates on DM Content                           0\n",
       "Lead Profile                                     2709\n",
       "City                                             1420\n",
       "Asymmetrique Activity Index                      4218\n",
       "Asymmetrique Profile Index                       4218\n",
       "Asymmetrique Activity Score                      4218\n",
       "Asymmetrique Profile Score                       4218\n",
       "I agree to pay the amount through cheque            0\n",
       "A free copy of Mastering The Interview              0\n",
       "Last Notable Activity                               0\n",
       "dtype: int64"
      ]
     },
     "execution_count": 606,
     "metadata": {},
     "output_type": "execute_result"
    }
   ],
   "source": [
    "## checking null values in each row\n",
    "lead.isnull().sum()"
   ]
  },
  {
   "cell_type": "code",
   "execution_count": 607,
   "id": "5503ff24-350c-4974-996e-c5ef5ba554aa",
   "metadata": {},
   "outputs": [
    {
     "data": {
      "text/plain": [
       "Lead Origin                                       0.00\n",
       "Lead Source                                       0.39\n",
       "Do Not Email                                      0.00\n",
       "Do Not Call                                       0.00\n",
       "Converted                                         0.00\n",
       "TotalVisits                                       1.48\n",
       "Total Time Spent on Website                       0.00\n",
       "Page Views Per Visit                              1.48\n",
       "Last Activity                                     1.11\n",
       "Country                                          26.63\n",
       "Specialization                                   15.56\n",
       "How did you hear about X Education               23.89\n",
       "What is your current occupation                  29.11\n",
       "What matters most to you in choosing a course    29.32\n",
       "Search                                            0.00\n",
       "Magazine                                          0.00\n",
       "Newspaper Article                                 0.00\n",
       "X Education Forums                                0.00\n",
       "Newspaper                                         0.00\n",
       "Digital Advertisement                             0.00\n",
       "Through Recommendations                           0.00\n",
       "Receive More Updates About Our Courses            0.00\n",
       "Tags                                             36.29\n",
       "Lead Quality                                     51.59\n",
       "Update me on Supply Chain Content                 0.00\n",
       "Get updates on DM Content                         0.00\n",
       "Lead Profile                                     29.32\n",
       "City                                             15.37\n",
       "Asymmetrique Activity Index                      45.65\n",
       "Asymmetrique Profile Index                       45.65\n",
       "Asymmetrique Activity Score                      45.65\n",
       "Asymmetrique Profile Score                       45.65\n",
       "I agree to pay the amount through cheque          0.00\n",
       "A free copy of Mastering The Interview            0.00\n",
       "Last Notable Activity                             0.00\n",
       "dtype: float64"
      ]
     },
     "execution_count": 607,
     "metadata": {},
     "output_type": "execute_result"
    }
   ],
   "source": [
    "# checking null percentage\n",
    "round(100*(lead.isnull().sum()/len(lead.index)),2)"
   ]
  },
  {
   "cell_type": "code",
   "execution_count": 608,
   "id": "d07d1b4b-9e9e-4360-a724-be25aadf09bd",
   "metadata": {},
   "outputs": [],
   "source": [
    "### dropping columns with missing % more than 45\n",
    "cols = lead.columns\n",
    "for i in cols:\n",
    "    if((100*(lead[i].isnull().sum()/len(lead.index))) >=45 ):\n",
    "        lead.drop(i, axis=1, inplace = True)"
   ]
  },
  {
   "cell_type": "code",
   "execution_count": 609,
   "id": "d0a51a3e-9da3-4e6e-922d-aa88b5f2db76",
   "metadata": {},
   "outputs": [
    {
     "data": {
      "text/html": [
       "<div>\n",
       "<style scoped>\n",
       "    .dataframe tbody tr th:only-of-type {\n",
       "        vertical-align: middle;\n",
       "    }\n",
       "\n",
       "    .dataframe tbody tr th {\n",
       "        vertical-align: top;\n",
       "    }\n",
       "\n",
       "    .dataframe thead th {\n",
       "        text-align: right;\n",
       "    }\n",
       "</style>\n",
       "<table border=\"1\" class=\"dataframe\">\n",
       "  <thead>\n",
       "    <tr style=\"text-align: right;\">\n",
       "      <th></th>\n",
       "      <th>Lead Origin</th>\n",
       "      <th>Lead Source</th>\n",
       "      <th>Do Not Email</th>\n",
       "      <th>Do Not Call</th>\n",
       "      <th>Converted</th>\n",
       "      <th>TotalVisits</th>\n",
       "      <th>Total Time Spent on Website</th>\n",
       "      <th>Page Views Per Visit</th>\n",
       "      <th>Last Activity</th>\n",
       "      <th>Country</th>\n",
       "      <th>...</th>\n",
       "      <th>Through Recommendations</th>\n",
       "      <th>Receive More Updates About Our Courses</th>\n",
       "      <th>Tags</th>\n",
       "      <th>Update me on Supply Chain Content</th>\n",
       "      <th>Get updates on DM Content</th>\n",
       "      <th>Lead Profile</th>\n",
       "      <th>City</th>\n",
       "      <th>I agree to pay the amount through cheque</th>\n",
       "      <th>A free copy of Mastering The Interview</th>\n",
       "      <th>Last Notable Activity</th>\n",
       "    </tr>\n",
       "  </thead>\n",
       "  <tbody>\n",
       "    <tr>\n",
       "      <th>0</th>\n",
       "      <td>API</td>\n",
       "      <td>Olark Chat</td>\n",
       "      <td>No</td>\n",
       "      <td>No</td>\n",
       "      <td>0</td>\n",
       "      <td>0.0</td>\n",
       "      <td>0</td>\n",
       "      <td>0.0</td>\n",
       "      <td>Page Visited on Website</td>\n",
       "      <td>NaN</td>\n",
       "      <td>...</td>\n",
       "      <td>No</td>\n",
       "      <td>No</td>\n",
       "      <td>Interested in other courses</td>\n",
       "      <td>No</td>\n",
       "      <td>No</td>\n",
       "      <td>Select</td>\n",
       "      <td>Select</td>\n",
       "      <td>No</td>\n",
       "      <td>No</td>\n",
       "      <td>Modified</td>\n",
       "    </tr>\n",
       "    <tr>\n",
       "      <th>1</th>\n",
       "      <td>API</td>\n",
       "      <td>Organic Search</td>\n",
       "      <td>No</td>\n",
       "      <td>No</td>\n",
       "      <td>0</td>\n",
       "      <td>5.0</td>\n",
       "      <td>674</td>\n",
       "      <td>2.5</td>\n",
       "      <td>Email Opened</td>\n",
       "      <td>India</td>\n",
       "      <td>...</td>\n",
       "      <td>No</td>\n",
       "      <td>No</td>\n",
       "      <td>Ringing</td>\n",
       "      <td>No</td>\n",
       "      <td>No</td>\n",
       "      <td>Select</td>\n",
       "      <td>Select</td>\n",
       "      <td>No</td>\n",
       "      <td>No</td>\n",
       "      <td>Email Opened</td>\n",
       "    </tr>\n",
       "  </tbody>\n",
       "</table>\n",
       "<p>2 rows × 30 columns</p>\n",
       "</div>"
      ],
      "text/plain": [
       "  Lead Origin     Lead Source Do Not Email Do Not Call  Converted  \\\n",
       "0         API      Olark Chat           No          No          0   \n",
       "1         API  Organic Search           No          No          0   \n",
       "\n",
       "   TotalVisits  Total Time Spent on Website  Page Views Per Visit  \\\n",
       "0          0.0                            0                   0.0   \n",
       "1          5.0                          674                   2.5   \n",
       "\n",
       "             Last Activity Country  ... Through Recommendations  \\\n",
       "0  Page Visited on Website     NaN  ...                      No   \n",
       "1             Email Opened   India  ...                      No   \n",
       "\n",
       "  Receive More Updates About Our Courses                         Tags  \\\n",
       "0                                     No  Interested in other courses   \n",
       "1                                     No                      Ringing   \n",
       "\n",
       "  Update me on Supply Chain Content Get updates on DM Content Lead Profile  \\\n",
       "0                                No                        No       Select   \n",
       "1                                No                        No       Select   \n",
       "\n",
       "     City I agree to pay the amount through cheque  \\\n",
       "0  Select                                       No   \n",
       "1  Select                                       No   \n",
       "\n",
       "  A free copy of Mastering The Interview Last Notable Activity  \n",
       "0                                     No              Modified  \n",
       "1                                     No          Email Opened  \n",
       "\n",
       "[2 rows x 30 columns]"
      ]
     },
     "execution_count": 609,
     "metadata": {},
     "output_type": "execute_result"
    }
   ],
   "source": [
    "lead.head(2)"
   ]
  },
  {
   "cell_type": "code",
   "execution_count": 610,
   "id": "a69189e3-8a19-4109-83a9-49600383eb10",
   "metadata": {},
   "outputs": [
    {
     "data": {
      "text/plain": [
       "(9240, 30)"
      ]
     },
     "execution_count": 610,
     "metadata": {},
     "output_type": "execute_result"
    }
   ],
   "source": [
    "lead.shape"
   ]
  },
  {
   "cell_type": "code",
   "execution_count": 611,
   "id": "0136c99a-6731-4e69-9c6c-bde3cbe92a3c",
   "metadata": {},
   "outputs": [
    {
     "name": "stdout",
     "output_type": "stream",
     "text": [
      "Lead Source                                       0.39\n",
      "TotalVisits                                       1.48\n",
      "Page Views Per Visit                              1.48\n",
      "Last Activity                                     1.11\n",
      "Country                                          26.63\n",
      "Specialization                                   15.56\n",
      "How did you hear about X Education               23.89\n",
      "What is your current occupation                  29.11\n",
      "What matters most to you in choosing a course    29.32\n",
      "Tags                                             36.29\n",
      "Lead Profile                                     29.32\n",
      "City                                             15.37\n",
      "dtype: float64\n"
     ]
    }
   ],
   "source": [
    "null_percentage = round(100*(lead.isnull().sum()/len(lead.index)),2)\n",
    "null_columns= null_percentage[null_percentage > 0]\n",
    "print(null_columns)"
   ]
  },
  {
   "cell_type": "code",
   "execution_count": 612,
   "id": "7fbd83e6-a78f-4d98-936b-c10384d1f7dc",
   "metadata": {},
   "outputs": [
    {
     "data": {
      "text/plain": [
       "Tags\n",
       "NaN                                                  3353\n",
       "Will revert after reading the email                  2072\n",
       "Ringing                                              1203\n",
       "Interested in other courses                           513\n",
       "Already a student                                     465\n",
       "Closed by Horizzon                                    358\n",
       "switched off                                          240\n",
       "Busy                                                  186\n",
       "Lost to EINS                                          175\n",
       "Not doing further education                           145\n",
       "Interested  in full time MBA                          117\n",
       "Graduation in progress                                111\n",
       "invalid number                                         83\n",
       "Diploma holder (Not Eligible)                          63\n",
       "wrong number given                                     47\n",
       "opp hangup                                             33\n",
       "number not provided                                    27\n",
       "in touch with EINS                                     12\n",
       "Lost to Others                                          7\n",
       "Want to take admission but has financial problems       6\n",
       "Still Thinking                                          6\n",
       "In confusion whether part time or DLP                   5\n",
       "Interested in Next batch                                5\n",
       "Lateral student                                         3\n",
       "Shall take in the next coming month                     2\n",
       "University not recognized                               2\n",
       "Recognition issue (DEC approval)                        1\n",
       "Name: count, dtype: int64"
      ]
     },
     "execution_count": 612,
     "metadata": {},
     "output_type": "execute_result"
    }
   ],
   "source": [
    "#### now checking missing value based on next highest percentage which is 36 for tags will see in detail\n",
    "lead['Tags'].value_counts(dropna=False)"
   ]
  },
  {
   "cell_type": "code",
   "execution_count": 613,
   "id": "64dcf3d9-c681-44a4-af65-8da5b3dd3dae",
   "metadata": {},
   "outputs": [],
   "source": [
    "### replacing NaN values with not specified\n",
    "lead['Tags']=lead['Tags'].replace(np.nan, 'Not Specified')"
   ]
  },
  {
   "cell_type": "code",
   "execution_count": 614,
   "id": "1ffd07b1-b223-4970-a722-213606b5bac3",
   "metadata": {},
   "outputs": [
    {
     "data": {
      "text/plain": [
       "What matters most to you in choosing a course\n",
       "Better Career Prospects      6528\n",
       "NaN                          2709\n",
       "Flexibility & Convenience       2\n",
       "Other                           1\n",
       "Name: count, dtype: int64"
      ]
     },
     "execution_count": 614,
     "metadata": {},
     "output_type": "execute_result"
    }
   ],
   "source": [
    "lead['What matters most to you in choosing a course'].value_counts(dropna= False)"
   ]
  },
  {
   "cell_type": "code",
   "execution_count": 615,
   "id": "806d2ebc-2747-48bd-89c4-2cc73e4a23b3",
   "metadata": {},
   "outputs": [],
   "source": [
    "### as we see most of them are in Better Career Prospects so its became single variable for research, so dropping it.\n",
    "lead = lead.drop('What matters most to you in choosing a course', axis=1)"
   ]
  },
  {
   "cell_type": "code",
   "execution_count": 616,
   "id": "1822f4f9-0efb-4b6e-b831-44b2bff1a62d",
   "metadata": {},
   "outputs": [
    {
     "data": {
      "text/plain": [
       "Lead Profile\n",
       "Select                         4146\n",
       "NaN                            2709\n",
       "Potential Lead                 1613\n",
       "Other Leads                     487\n",
       "Student of SomeSchool           241\n",
       "Lateral Student                  24\n",
       "Dual Specialization Student      20\n",
       "Name: count, dtype: int64"
      ]
     },
     "execution_count": 616,
     "metadata": {},
     "output_type": "execute_result"
    }
   ],
   "source": [
    "lead['Lead Profile'].value_counts(dropna= False)"
   ]
  },
  {
   "cell_type": "code",
   "execution_count": 617,
   "id": "9adb6097-1fce-4b1e-9a89-74be8e5c4ad0",
   "metadata": {},
   "outputs": [],
   "source": [
    "lead=lead.drop('Lead Profile', axis=1)"
   ]
  },
  {
   "cell_type": "code",
   "execution_count": 618,
   "id": "81c0a97c-48f7-491c-b110-06bdd55713a1",
   "metadata": {},
   "outputs": [
    {
     "name": "stdout",
     "output_type": "stream",
     "text": [
      "Lead Source                            0.39\n",
      "TotalVisits                            1.48\n",
      "Page Views Per Visit                   1.48\n",
      "Last Activity                          1.11\n",
      "Country                               26.63\n",
      "Specialization                        15.56\n",
      "How did you hear about X Education    23.89\n",
      "What is your current occupation       29.11\n",
      "City                                  15.37\n",
      "dtype: float64\n"
     ]
    }
   ],
   "source": [
    "null_percentage = round(100*(lead.isnull().sum()/len(lead.index)),2)\n",
    "null_columns= null_percentage[null_percentage > 0]\n",
    "print(null_columns)"
   ]
  },
  {
   "cell_type": "code",
   "execution_count": 619,
   "id": "67d5c7ff-edc7-4e5d-a24e-2e9451ce1179",
   "metadata": {},
   "outputs": [
    {
     "data": {
      "text/plain": [
       "(9240, 28)"
      ]
     },
     "execution_count": 619,
     "metadata": {},
     "output_type": "execute_result"
    }
   ],
   "source": [
    "lead.shape"
   ]
  },
  {
   "cell_type": "code",
   "execution_count": 620,
   "id": "807668d3-d01e-4042-b235-66e0d1a01113",
   "metadata": {},
   "outputs": [
    {
     "data": {
      "text/plain": [
       "What is your current occupation\n",
       "Unemployed              5600\n",
       "NaN                     2690\n",
       "Working Professional     706\n",
       "Student                  210\n",
       "Other                     16\n",
       "Housewife                 10\n",
       "Businessman                8\n",
       "Name: count, dtype: int64"
      ]
     },
     "execution_count": 620,
     "metadata": {},
     "output_type": "execute_result"
    }
   ],
   "source": [
    "lead['What is your current occupation'].value_counts(dropna= False)"
   ]
  },
  {
   "cell_type": "code",
   "execution_count": 621,
   "id": "86dbbf32-8707-41d8-ad58-e1b99368c26a",
   "metadata": {},
   "outputs": [],
   "source": [
    "# As we see more than 50% in unemployed sector so dropping it. \n",
    "lead=lead.drop('What is your current occupation', axis =1)"
   ]
  },
  {
   "cell_type": "code",
   "execution_count": 622,
   "id": "12e2df1c-2f02-49a2-bb37-7d734372b4bc",
   "metadata": {},
   "outputs": [
    {
     "data": {
      "text/plain": [
       "Country\n",
       "India                   6492\n",
       "NaN                     2461\n",
       "United States             69\n",
       "United Arab Emirates      53\n",
       "Singapore                 24\n",
       "Saudi Arabia              21\n",
       "United Kingdom            15\n",
       "Australia                 13\n",
       "Qatar                     10\n",
       "Hong Kong                  7\n",
       "Bahrain                    7\n",
       "Oman                       6\n",
       "France                     6\n",
       "unknown                    5\n",
       "Kuwait                     4\n",
       "South Africa               4\n",
       "Nigeria                    4\n",
       "Germany                    4\n",
       "Canada                     4\n",
       "Sweden                     3\n",
       "Italy                      2\n",
       "Belgium                    2\n",
       "Ghana                      2\n",
       "Philippines                2\n",
       "Netherlands                2\n",
       "China                      2\n",
       "Asia/Pacific Region        2\n",
       "Bangladesh                 2\n",
       "Uganda                     2\n",
       "Russia                     1\n",
       "Sri Lanka                  1\n",
       "Tanzania                   1\n",
       "Kenya                      1\n",
       "Malaysia                   1\n",
       "Liberia                    1\n",
       "Denmark                    1\n",
       "Switzerland                1\n",
       "Vietnam                    1\n",
       "Indonesia                  1\n",
       "Name: count, dtype: int64"
      ]
     },
     "execution_count": 622,
     "metadata": {},
     "output_type": "execute_result"
    }
   ],
   "source": [
    "lead['Country'].value_counts(dropna= False)"
   ]
  },
  {
   "cell_type": "code",
   "execution_count": 623,
   "id": "af9fb977-b600-4d5f-96d1-63f282e6b340",
   "metadata": {},
   "outputs": [
    {
     "data": {
      "image/png": "[encoded data removed]",
      "text/plain": [
       "<Figure size 1500x500 with 1 Axes>"
      ]
     },
     "metadata": {},
     "output_type": "display_data"
    }
   ],
   "source": [
    "plt.figure(figsize=(15, 5))\n",
    "s1 = sns.countplot(x='Country', hue='Converted', data=lead)\n",
    "s1.set_xticklabels(s1.get_xticklabels(), rotation=90)\n",
    "plt.show()"
   ]
  },
  {
   "cell_type": "code",
   "execution_count": 624,
   "id": "de306687-581c-47c3-9d61-9f4e11ade300",
   "metadata": {},
   "outputs": [],
   "source": [
    "### as we see majority lies at Country India so dropping it.\n",
    "lead = lead.drop(['Country'], axis=1)"
   ]
  },
  {
   "cell_type": "code",
   "execution_count": 625,
   "id": "64c86e28-94f1-490a-81b8-76fe3d8facec",
   "metadata": {},
   "outputs": [
    {
     "data": {
      "text/plain": [
       "City\n",
       "Mumbai                         3222\n",
       "Select                         2249\n",
       "NaN                            1420\n",
       "Thane & Outskirts               752\n",
       "Other Cities                    686\n",
       "Other Cities of Maharashtra     457\n",
       "Other Metro Cities              380\n",
       "Tier II Cities                   74\n",
       "Name: count, dtype: int64"
      ]
     },
     "execution_count": 625,
     "metadata": {},
     "output_type": "execute_result"
    }
   ],
   "source": [
    "lead['City'].value_counts(dropna=False)"
   ]
  },
  {
   "cell_type": "code",
   "execution_count": 626,
   "id": "79d3d137-bba8-4132-a211-af3175477038",
   "metadata": {},
   "outputs": [],
   "source": [
    "lead['City']=lead['City'].replace(np.nan, 'Mumbai')"
   ]
  },
  {
   "cell_type": "code",
   "execution_count": 627,
   "id": "3a161d47-b52b-4a48-a8cb-30819c3c1f5e",
   "metadata": {},
   "outputs": [
    {
     "data": {
      "image/png": "[encoded data removed]",
      "text/plain": [
       "<Figure size 1000x500 with 1 Axes>"
      ]
     },
     "metadata": {},
     "output_type": "display_data"
    }
   ],
   "source": [
    "plt.figure(figsize=(10,5))\n",
    "s1=sns.countplot(x ='City', hue='Converted', data=lead)\n",
    "s1.set_xticklabels(s1.get_xticklabels(),rotation=90)\n",
    "plt.show()"
   ]
  },
  {
   "cell_type": "code",
   "execution_count": 628,
   "id": "ff5b4b14-f961-433f-929e-ac17deb66f86",
   "metadata": {},
   "outputs": [
    {
     "name": "stdout",
     "output_type": "stream",
     "text": [
      "Lead Source                            0.39\n",
      "TotalVisits                            1.48\n",
      "Page Views Per Visit                   1.48\n",
      "Last Activity                          1.11\n",
      "Specialization                        15.56\n",
      "How did you hear about X Education    23.89\n",
      "dtype: float64\n"
     ]
    }
   ],
   "source": [
    "null_percentage = round(100*(lead.isnull().sum()/len(lead.index)),2)\n",
    "null_columns= null_percentage[null_percentage > 0]\n",
    "print(null_columns)"
   ]
  },
  {
   "cell_type": "code",
   "execution_count": 629,
   "id": "48e0f318-6f69-4b24-b2bb-bc273100adac",
   "metadata": {},
   "outputs": [
    {
     "data": {
      "text/plain": [
       "(9240, 26)"
      ]
     },
     "execution_count": 629,
     "metadata": {},
     "output_type": "execute_result"
    }
   ],
   "source": [
    "lead.shape"
   ]
  },
  {
   "cell_type": "code",
   "execution_count": 630,
   "id": "073e6bf9-5587-47ff-81eb-2931294e135e",
   "metadata": {},
   "outputs": [
    {
     "data": {
      "text/plain": [
       "How did you hear about X Education\n",
       "Select                   5043\n",
       "NaN                      2207\n",
       "Online Search             808\n",
       "Word Of Mouth             348\n",
       "Student of SomeSchool     310\n",
       "Other                     186\n",
       "Multiple Sources          152\n",
       "Advertisements             70\n",
       "Social Media               67\n",
       "Email                      26\n",
       "SMS                        23\n",
       "Name: count, dtype: int64"
      ]
     },
     "execution_count": 630,
     "metadata": {},
     "output_type": "execute_result"
    }
   ],
   "source": [
    "lead['How did you hear about X Education'].value_counts(dropna=False)"
   ]
  },
  {
   "cell_type": "code",
   "execution_count": 631,
   "id": "2608e035-ff6d-4038-baa3-1111752edc7a",
   "metadata": {},
   "outputs": [],
   "source": [
    "lead=lead.drop('How did you hear about X Education', axis=1)"
   ]
  },
  {
   "cell_type": "code",
   "execution_count": 632,
   "id": "0580833b-56fd-4451-83d7-3f7498950131",
   "metadata": {},
   "outputs": [
    {
     "data": {
      "text/plain": [
       "(9240, 25)"
      ]
     },
     "execution_count": 632,
     "metadata": {},
     "output_type": "execute_result"
    }
   ],
   "source": [
    "lead.shape"
   ]
  },
  {
   "cell_type": "code",
   "execution_count": 633,
   "id": "e68e5833-1110-41de-9685-c57cec9d7333",
   "metadata": {},
   "outputs": [
    {
     "data": {
      "text/plain": [
       "Lead Source\n",
       "Google               2868\n",
       "Direct Traffic       2543\n",
       "Olark Chat           1755\n",
       "Organic Search       1154\n",
       "Reference             534\n",
       "Welingak Website      142\n",
       "Referral Sites        125\n",
       "Facebook               55\n",
       "NaN                    36\n",
       "bing                    6\n",
       "google                  5\n",
       "Click2call              4\n",
       "Live Chat               2\n",
       "Social Media            2\n",
       "Press_Release           2\n",
       "Pay per Click Ads       1\n",
       "blog                    1\n",
       "WeLearn                 1\n",
       "welearnblog_Home        1\n",
       "youtubechannel          1\n",
       "testone                 1\n",
       "NC_EDM                  1\n",
       "Name: count, dtype: int64"
      ]
     },
     "execution_count": 633,
     "metadata": {},
     "output_type": "execute_result"
    }
   ],
   "source": [
    "lead['Lead Source'].value_counts(dropna=False)"
   ]
  },
  {
   "cell_type": "code",
   "execution_count": 634,
   "id": "e20bb91a-3d5f-4f3f-a911-4ad5b908225c",
   "metadata": {},
   "outputs": [],
   "source": [
    "lead['Lead Source']=lead['Lead Source'].replace(np.nan, 'Google')"
   ]
  },
  {
   "cell_type": "code",
   "execution_count": 635,
   "id": "b702c857-7f72-4014-810a-892b7433a666",
   "metadata": {},
   "outputs": [
    {
     "name": "stdout",
     "output_type": "stream",
     "text": [
      "TotalVisits              1.48\n",
      "Page Views Per Visit     1.48\n",
      "Last Activity            1.11\n",
      "Specialization          15.56\n",
      "dtype: float64\n"
     ]
    }
   ],
   "source": [
    "null_percentage = round(100*(lead.isnull().sum()/len(lead.index)),2)\n",
    "null_columns= null_percentage[null_percentage > 0]\n",
    "print(null_columns)"
   ]
  },
  {
   "cell_type": "code",
   "execution_count": 636,
   "id": "dcc7d625-256e-43c8-b74a-9a0d676a0922",
   "metadata": {},
   "outputs": [
    {
     "data": {
      "text/plain": [
       "Specialization\n",
       "Select                               1942\n",
       "NaN                                  1438\n",
       "Finance Management                    976\n",
       "Human Resource Management             848\n",
       "Marketing Management                  838\n",
       "Operations Management                 503\n",
       "Business Administration               403\n",
       "IT Projects Management                366\n",
       "Supply Chain Management               349\n",
       "Banking, Investment And Insurance     338\n",
       "Media and Advertising                 203\n",
       "Travel and Tourism                    203\n",
       "International Business                178\n",
       "Healthcare Management                 159\n",
       "Hospitality Management                114\n",
       "E-COMMERCE                            112\n",
       "Retail Management                     100\n",
       "Rural and Agribusiness                 73\n",
       "E-Business                             57\n",
       "Services Excellence                    40\n",
       "Name: count, dtype: int64"
      ]
     },
     "execution_count": 636,
     "metadata": {},
     "output_type": "execute_result"
    }
   ],
   "source": [
    "lead['Specialization'].value_counts(dropna=False)"
   ]
  },
  {
   "cell_type": "code",
   "execution_count": 637,
   "id": "1be21b03-8d05-4190-a20d-94c70e48cc15",
   "metadata": {},
   "outputs": [],
   "source": [
    "lead['Specialization']=lead['Specialization'].replace(np.nan, 'Not_Specified')"
   ]
  },
  {
   "cell_type": "code",
   "execution_count": 638,
   "id": "c0746060-3f14-4a91-a78d-3a144752deb5",
   "metadata": {},
   "outputs": [
    {
     "data": {
      "text/plain": [
       "(9240, 25)"
      ]
     },
     "execution_count": 638,
     "metadata": {},
     "output_type": "execute_result"
    }
   ],
   "source": [
    "lead.shape"
   ]
  },
  {
   "cell_type": "code",
   "execution_count": 639,
   "id": "9531feee-d94b-4cfb-9aae-0ceb446494fd",
   "metadata": {},
   "outputs": [],
   "source": [
    "lead_cleaned = lead.dropna()"
   ]
  },
  {
   "cell_type": "code",
   "execution_count": 640,
   "id": "8c04c2a5-8c3c-4f95-a947-8258e11fd0e2",
   "metadata": {},
   "outputs": [
    {
     "data": {
      "text/plain": [
       "(9103, 25)"
      ]
     },
     "execution_count": 640,
     "metadata": {},
     "output_type": "execute_result"
    }
   ],
   "source": [
    "lead_cleaned.shape"
   ]
  },
  {
   "cell_type": "code",
   "execution_count": 641,
   "id": "1863fdb7-fc8e-46c1-ba13-ddb263489b70",
   "metadata": {},
   "outputs": [
    {
     "name": "stdout",
     "output_type": "stream",
     "text": [
      "Series([], dtype: float64)\n"
     ]
    }
   ],
   "source": [
    "null_percentage = round(100*(lead_cleaned.isnull().sum()/len(lead_cleaned.index)),2)\n",
    "null_columns= null_percentage[null_percentage > 0]\n",
    "print(null_columns)"
   ]
  },
  {
   "cell_type": "code",
   "execution_count": 642,
   "id": "1c727d5b-267f-4df0-af4b-1667598500b5",
   "metadata": {},
   "outputs": [
    {
     "data": {
      "text/html": [
       "<div>\n",
       "<style scoped>\n",
       "    .dataframe tbody tr th:only-of-type {\n",
       "        vertical-align: middle;\n",
       "    }\n",
       "\n",
       "    .dataframe tbody tr th {\n",
       "        vertical-align: top;\n",
       "    }\n",
       "\n",
       "    .dataframe thead th {\n",
       "        text-align: right;\n",
       "    }\n",
       "</style>\n",
       "<table border=\"1\" class=\"dataframe\">\n",
       "  <thead>\n",
       "    <tr style=\"text-align: right;\">\n",
       "      <th></th>\n",
       "      <th>Lead Origin</th>\n",
       "      <th>Lead Source</th>\n",
       "      <th>Do Not Email</th>\n",
       "      <th>Do Not Call</th>\n",
       "      <th>Converted</th>\n",
       "      <th>TotalVisits</th>\n",
       "      <th>Total Time Spent on Website</th>\n",
       "      <th>Page Views Per Visit</th>\n",
       "      <th>Last Activity</th>\n",
       "      <th>Specialization</th>\n",
       "      <th>...</th>\n",
       "      <th>Digital Advertisement</th>\n",
       "      <th>Through Recommendations</th>\n",
       "      <th>Receive More Updates About Our Courses</th>\n",
       "      <th>Tags</th>\n",
       "      <th>Update me on Supply Chain Content</th>\n",
       "      <th>Get updates on DM Content</th>\n",
       "      <th>City</th>\n",
       "      <th>I agree to pay the amount through cheque</th>\n",
       "      <th>A free copy of Mastering The Interview</th>\n",
       "      <th>Last Notable Activity</th>\n",
       "    </tr>\n",
       "  </thead>\n",
       "  <tbody>\n",
       "    <tr>\n",
       "      <th>0</th>\n",
       "      <td>API</td>\n",
       "      <td>Olark Chat</td>\n",
       "      <td>No</td>\n",
       "      <td>No</td>\n",
       "      <td>0</td>\n",
       "      <td>0.0</td>\n",
       "      <td>0</td>\n",
       "      <td>0.0</td>\n",
       "      <td>Page Visited on Website</td>\n",
       "      <td>Select</td>\n",
       "      <td>...</td>\n",
       "      <td>No</td>\n",
       "      <td>No</td>\n",
       "      <td>No</td>\n",
       "      <td>Interested in other courses</td>\n",
       "      <td>No</td>\n",
       "      <td>No</td>\n",
       "      <td>Select</td>\n",
       "      <td>No</td>\n",
       "      <td>No</td>\n",
       "      <td>Modified</td>\n",
       "    </tr>\n",
       "    <tr>\n",
       "      <th>1</th>\n",
       "      <td>API</td>\n",
       "      <td>Organic Search</td>\n",
       "      <td>No</td>\n",
       "      <td>No</td>\n",
       "      <td>0</td>\n",
       "      <td>5.0</td>\n",
       "      <td>674</td>\n",
       "      <td>2.5</td>\n",
       "      <td>Email Opened</td>\n",
       "      <td>Select</td>\n",
       "      <td>...</td>\n",
       "      <td>No</td>\n",
       "      <td>No</td>\n",
       "      <td>No</td>\n",
       "      <td>Ringing</td>\n",
       "      <td>No</td>\n",
       "      <td>No</td>\n",
       "      <td>Select</td>\n",
       "      <td>No</td>\n",
       "      <td>No</td>\n",
       "      <td>Email Opened</td>\n",
       "    </tr>\n",
       "  </tbody>\n",
       "</table>\n",
       "<p>2 rows × 25 columns</p>\n",
       "</div>"
      ],
      "text/plain": [
       "  Lead Origin     Lead Source Do Not Email Do Not Call  Converted  \\\n",
       "0         API      Olark Chat           No          No          0   \n",
       "1         API  Organic Search           No          No          0   \n",
       "\n",
       "   TotalVisits  Total Time Spent on Website  Page Views Per Visit  \\\n",
       "0          0.0                            0                   0.0   \n",
       "1          5.0                          674                   2.5   \n",
       "\n",
       "             Last Activity Specialization  ... Digital Advertisement  \\\n",
       "0  Page Visited on Website         Select  ...                    No   \n",
       "1             Email Opened         Select  ...                    No   \n",
       "\n",
       "  Through Recommendations Receive More Updates About Our Courses  \\\n",
       "0                      No                                     No   \n",
       "1                      No                                     No   \n",
       "\n",
       "                          Tags Update me on Supply Chain Content  \\\n",
       "0  Interested in other courses                                No   \n",
       "1                      Ringing                                No   \n",
       "\n",
       "  Get updates on DM Content    City I agree to pay the amount through cheque  \\\n",
       "0                        No  Select                                       No   \n",
       "1                        No  Select                                       No   \n",
       "\n",
       "  A free copy of Mastering The Interview Last Notable Activity  \n",
       "0                                     No              Modified  \n",
       "1                                     No          Email Opened  \n",
       "\n",
       "[2 rows x 25 columns]"
      ]
     },
     "execution_count": 642,
     "metadata": {},
     "output_type": "execute_result"
    }
   ],
   "source": [
    "lead.head(2)"
   ]
  },
  {
   "cell_type": "code",
   "execution_count": 643,
   "id": "a24c3d93-0b21-424e-9eda-5295d175a844",
   "metadata": {},
   "outputs": [
    {
     "data": {
      "text/plain": [
       "Lead Origin\n",
       "Landing Page Submission    4886\n",
       "API                        3580\n",
       "Lead Add Form               718\n",
       "Lead Import                  55\n",
       "Quick Add Form                1\n",
       "Name: count, dtype: int64"
      ]
     },
     "execution_count": 643,
     "metadata": {},
     "output_type": "execute_result"
    }
   ],
   "source": [
    "lead['Lead Origin'].value_counts(dropna=False)"
   ]
  },
  {
   "cell_type": "code",
   "execution_count": 644,
   "id": "a8d326f9-31f1-48e5-90d0-6b75c94cc875",
   "metadata": {},
   "outputs": [
    {
     "data": {
      "image/png": "[encoded data removed]",
      "text/plain": [
       "<Figure size 800x500 with 1 Axes>"
      ]
     },
     "metadata": {},
     "output_type": "display_data"
    }
   ],
   "source": [
    "plt.figure(figsize=(8,5))\n",
    "s1=sns.countplot(x='Lead Origin', hue='Converted', data=lead_cleaned)\n",
    "s1.set_xticklabels(s1.get_xticklabels(),rotation=90)\n",
    "plt.show()"
   ]
  },
  {
   "cell_type": "code",
   "execution_count": 645,
   "id": "2518b11a-8663-44b9-88d2-d09adf635edc",
   "metadata": {
    "scrolled": true
   },
   "outputs": [
    {
     "data": {
      "image/png": "[encoded data removed]",
      "text/plain": [
       "<Figure size 1500x500 with 2 Axes>"
      ]
     },
     "metadata": {},
     "output_type": "display_data"
    }
   ],
   "source": [
    "plt.figure(figsize=(15,5))\n",
    "ax1=plt.subplot(1,2,1)\n",
    "ax1=sns.countplot(x='Do Not Call', hue='Converted', data=lead_cleaned)\n",
    "ax1.set_xticklabels(ax1.get_xticklabels(),rotation=90)\n",
    "\n",
    "ax2=plt.subplot(1,2,2)\n",
    "ax2=sns.countplot(x='Do Not Email', hue='Converted', data=lead_cleaned)\n",
    "ax2.set_xticklabels(ax1.get_xticklabels(),rotation=90)\n",
    "plt.show()"
   ]
  },
  {
   "cell_type": "markdown",
   "id": "f25fee73-3f36-4ecf-8084-f8d6936daa32",
   "metadata": {},
   "source": [
    "#### Now we will see which columns does have impact on our analysis or what needs to be looked at"
   ]
  },
  {
   "cell_type": "code",
   "execution_count": 646,
   "id": "24b9d588-b6f8-4a3d-9eb3-65bed4bb5e70",
   "metadata": {},
   "outputs": [
    {
     "data": {
      "text/plain": [
       "Do Not Call\n",
       "No     9101\n",
       "Yes       2\n",
       "Name: count, dtype: int64"
      ]
     },
     "execution_count": 646,
     "metadata": {},
     "output_type": "execute_result"
    }
   ],
   "source": [
    "lead_cleaned['Do Not Call'].value_counts(dropna=False)"
   ]
  },
  {
   "cell_type": "code",
   "execution_count": 647,
   "id": "e5f13293-caa3-4f72-ae51-b5368a7f4c1c",
   "metadata": {},
   "outputs": [
    {
     "data": {
      "text/plain": [
       "Do Not Email\n",
       "No     8379\n",
       "Yes     724\n",
       "Name: count, dtype: int64"
      ]
     },
     "execution_count": 647,
     "metadata": {},
     "output_type": "execute_result"
    }
   ],
   "source": [
    "lead_cleaned['Do Not Email'].value_counts(dropna=False)"
   ]
  },
  {
   "cell_type": "code",
   "execution_count": 648,
   "id": "07bd3b98-024f-4b8a-934b-0c605432867d",
   "metadata": {},
   "outputs": [],
   "source": [
    "#### We Can append the Do Not Call Column to the list of Columns to be Dropped since > 90% is of only one Value\n",
    "lead_cleaned=lead_cleaned.drop('Do Not Call', axis=1)"
   ]
  },
  {
   "cell_type": "code",
   "execution_count": 649,
   "id": "ba074d04-2dae-48d2-a996-c7921d4a4115",
   "metadata": {},
   "outputs": [
    {
     "data": {
      "text/plain": [
       "(9103, 24)"
      ]
     },
     "execution_count": 649,
     "metadata": {},
     "output_type": "execute_result"
    }
   ],
   "source": [
    "lead_cleaned.shape"
   ]
  },
  {
   "cell_type": "code",
   "execution_count": 650,
   "id": "16b00c03-f6c9-4e68-8739-b94cec2622ad",
   "metadata": {},
   "outputs": [
    {
     "data": {
      "text/plain": [
       "Search\n",
       "No     9089\n",
       "Yes      14\n",
       "Name: count, dtype: int64"
      ]
     },
     "execution_count": 650,
     "metadata": {},
     "output_type": "execute_result"
    }
   ],
   "source": [
    "lead_cleaned['Search'].value_counts(dropna=False)"
   ]
  },
  {
   "cell_type": "code",
   "execution_count": 651,
   "id": "cea86d83-db72-4133-b253-0e3387e37ea0",
   "metadata": {},
   "outputs": [],
   "source": [
    "lead_cleaned=lead_cleaned.drop('Search', axis=1)"
   ]
  },
  {
   "cell_type": "code",
   "execution_count": 652,
   "id": "fc56dc82-9910-4399-96ca-58806d5c5eb8",
   "metadata": {},
   "outputs": [
    {
     "data": {
      "text/plain": [
       "Magazine\n",
       "No    9103\n",
       "Name: count, dtype: int64"
      ]
     },
     "execution_count": 652,
     "metadata": {},
     "output_type": "execute_result"
    }
   ],
   "source": [
    "lead_cleaned['Magazine'].value_counts(dropna=False)"
   ]
  },
  {
   "cell_type": "code",
   "execution_count": 653,
   "id": "22aca541-a314-4776-b144-131321c5922c",
   "metadata": {},
   "outputs": [
    {
     "data": {
      "text/plain": [
       "Newspaper Article\n",
       "No     9101\n",
       "Yes       2\n",
       "Name: count, dtype: int64"
      ]
     },
     "execution_count": 653,
     "metadata": {},
     "output_type": "execute_result"
    }
   ],
   "source": [
    "lead_cleaned['Newspaper Article'].value_counts(dropna=False)"
   ]
  },
  {
   "cell_type": "code",
   "execution_count": 654,
   "id": "d3a1dcca-76e1-46e1-b7c9-be9b90a064c0",
   "metadata": {},
   "outputs": [
    {
     "data": {
      "text/plain": [
       "X Education Forums\n",
       "No     9102\n",
       "Yes       1\n",
       "Name: count, dtype: int64"
      ]
     },
     "execution_count": 654,
     "metadata": {},
     "output_type": "execute_result"
    }
   ],
   "source": [
    "lead_cleaned['X Education Forums'].value_counts(dropna=False)"
   ]
  },
  {
   "cell_type": "code",
   "execution_count": 655,
   "id": "56b91a3b-0134-4302-abbf-eb8805129e54",
   "metadata": {},
   "outputs": [
    {
     "data": {
      "text/plain": [
       "Newspaper\n",
       "No     9102\n",
       "Yes       1\n",
       "Name: count, dtype: int64"
      ]
     },
     "execution_count": 655,
     "metadata": {},
     "output_type": "execute_result"
    }
   ],
   "source": [
    "lead_cleaned['Newspaper'].value_counts(dropna=False)"
   ]
  },
  {
   "cell_type": "code",
   "execution_count": 656,
   "id": "a5cccf37-43c5-4aed-b0c8-9b37fc6c9c2f",
   "metadata": {},
   "outputs": [
    {
     "data": {
      "text/plain": [
       "Digital Advertisement\n",
       "No     9099\n",
       "Yes       4\n",
       "Name: count, dtype: int64"
      ]
     },
     "execution_count": 656,
     "metadata": {},
     "output_type": "execute_result"
    }
   ],
   "source": [
    "lead_cleaned['Digital Advertisement'].value_counts(dropna=False)"
   ]
  },
  {
   "cell_type": "code",
   "execution_count": 657,
   "id": "acee543b-0891-47c5-a4d5-381159eec7b5",
   "metadata": {},
   "outputs": [
    {
     "data": {
      "text/plain": [
       "Through Recommendations\n",
       "No     9096\n",
       "Yes       7\n",
       "Name: count, dtype: int64"
      ]
     },
     "execution_count": 657,
     "metadata": {},
     "output_type": "execute_result"
    }
   ],
   "source": [
    "lead_cleaned['Through Recommendations'].value_counts(dropna=False)"
   ]
  },
  {
   "cell_type": "code",
   "execution_count": 658,
   "id": "efb57992-abbd-4728-9abd-356d066b44e2",
   "metadata": {},
   "outputs": [
    {
     "data": {
      "text/plain": [
       "Receive More Updates About Our Courses\n",
       "No    9103\n",
       "Name: count, dtype: int64"
      ]
     },
     "execution_count": 658,
     "metadata": {},
     "output_type": "execute_result"
    }
   ],
   "source": [
    "lead_cleaned['Receive More Updates About Our Courses'].value_counts(dropna=False)"
   ]
  },
  {
   "cell_type": "code",
   "execution_count": 659,
   "id": "00b53a96-7bdd-4493-98db-d68828211b44",
   "metadata": {},
   "outputs": [
    {
     "data": {
      "text/plain": [
       "Get updates on DM Content\n",
       "No    9103\n",
       "Name: count, dtype: int64"
      ]
     },
     "execution_count": 659,
     "metadata": {},
     "output_type": "execute_result"
    }
   ],
   "source": [
    "lead_cleaned['Get updates on DM Content'].value_counts(dropna=False)"
   ]
  },
  {
   "cell_type": "code",
   "execution_count": 660,
   "id": "3fbc230d-3e74-4809-b383-725d4ae85864",
   "metadata": {},
   "outputs": [
    {
     "data": {
      "text/plain": [
       "A free copy of Mastering The Interview\n",
       "No     6215\n",
       "Yes    2888\n",
       "Name: count, dtype: int64"
      ]
     },
     "execution_count": 660,
     "metadata": {},
     "output_type": "execute_result"
    }
   ],
   "source": [
    "lead_cleaned['A free copy of Mastering The Interview'].value_counts(dropna=False)"
   ]
  },
  {
   "cell_type": "code",
   "execution_count": 661,
   "id": "4004058a-0d3f-435a-82c8-a2de0cc57394",
   "metadata": {},
   "outputs": [
    {
     "data": {
      "text/plain": [
       "I agree to pay the amount through cheque\n",
       "No    9103\n",
       "Name: count, dtype: int64"
      ]
     },
     "execution_count": 661,
     "metadata": {},
     "output_type": "execute_result"
    }
   ],
   "source": [
    "lead_cleaned['I agree to pay the amount through cheque'].value_counts(dropna=False)"
   ]
  },
  {
   "cell_type": "code",
   "execution_count": 662,
   "id": "69e98aff-34ad-4a96-8382-497ee31760b3",
   "metadata": {},
   "outputs": [
    {
     "data": {
      "text/plain": [
       "Update me on Supply Chain Content\n",
       "No    9103\n",
       "Name: count, dtype: int64"
      ]
     },
     "execution_count": 662,
     "metadata": {},
     "output_type": "execute_result"
    }
   ],
   "source": [
    "lead_cleaned['Update me on Supply Chain Content'].value_counts(dropna=False)"
   ]
  },
  {
   "cell_type": "markdown",
   "id": "23fd0796-a34b-4cb1-978d-13220d15f5e2",
   "metadata": {},
   "source": [
    "##### The columns with univariate in nature we are dropping as those will not add value to our analysism"
   ]
  },
  {
   "cell_type": "code",
   "execution_count": 663,
   "id": "61189d6f-87cd-44a4-ad6d-85c0f2e31341",
   "metadata": {},
   "outputs": [],
   "source": [
    "lead_cleaned = lead_cleaned.drop(['Get updates on DM Content', 'Update me on Supply Chain Content','I agree to pay the amount through cheque','Receive More Updates About Our Courses','Through Recommendations','Digital Advertisement','Newspaper','Newspaper Article','X Education Forums','Magazine'], axis=1)"
   ]
  },
  {
   "cell_type": "code",
   "execution_count": 664,
   "id": "1d780fec-c628-4e72-9495-8edadf9eb99e",
   "metadata": {},
   "outputs": [
    {
     "data": {
      "text/plain": [
       "(9103, 13)"
      ]
     },
     "execution_count": 664,
     "metadata": {},
     "output_type": "execute_result"
    }
   ],
   "source": [
    "lead_cleaned.shape"
   ]
  },
  {
   "cell_type": "code",
   "execution_count": 665,
   "id": "dfef372c-843f-4ffc-ba42-9adc39849baf",
   "metadata": {},
   "outputs": [
    {
     "data": {
      "text/html": [
       "<div>\n",
       "<style scoped>\n",
       "    .dataframe tbody tr th:only-of-type {\n",
       "        vertical-align: middle;\n",
       "    }\n",
       "\n",
       "    .dataframe tbody tr th {\n",
       "        vertical-align: top;\n",
       "    }\n",
       "\n",
       "    .dataframe thead th {\n",
       "        text-align: right;\n",
       "    }\n",
       "</style>\n",
       "<table border=\"1\" class=\"dataframe\">\n",
       "  <thead>\n",
       "    <tr style=\"text-align: right;\">\n",
       "      <th></th>\n",
       "      <th>Lead Origin</th>\n",
       "      <th>Lead Source</th>\n",
       "      <th>Do Not Email</th>\n",
       "      <th>Converted</th>\n",
       "      <th>TotalVisits</th>\n",
       "      <th>Total Time Spent on Website</th>\n",
       "      <th>Page Views Per Visit</th>\n",
       "      <th>Last Activity</th>\n",
       "      <th>Specialization</th>\n",
       "      <th>Tags</th>\n",
       "      <th>City</th>\n",
       "      <th>A free copy of Mastering The Interview</th>\n",
       "      <th>Last Notable Activity</th>\n",
       "    </tr>\n",
       "  </thead>\n",
       "  <tbody>\n",
       "    <tr>\n",
       "      <th>0</th>\n",
       "      <td>API</td>\n",
       "      <td>Olark Chat</td>\n",
       "      <td>No</td>\n",
       "      <td>0</td>\n",
       "      <td>0.0</td>\n",
       "      <td>0</td>\n",
       "      <td>0.0</td>\n",
       "      <td>Page Visited on Website</td>\n",
       "      <td>Select</td>\n",
       "      <td>Interested in other courses</td>\n",
       "      <td>Select</td>\n",
       "      <td>No</td>\n",
       "      <td>Modified</td>\n",
       "    </tr>\n",
       "    <tr>\n",
       "      <th>1</th>\n",
       "      <td>API</td>\n",
       "      <td>Organic Search</td>\n",
       "      <td>No</td>\n",
       "      <td>0</td>\n",
       "      <td>5.0</td>\n",
       "      <td>674</td>\n",
       "      <td>2.5</td>\n",
       "      <td>Email Opened</td>\n",
       "      <td>Select</td>\n",
       "      <td>Ringing</td>\n",
       "      <td>Select</td>\n",
       "      <td>No</td>\n",
       "      <td>Email Opened</td>\n",
       "    </tr>\n",
       "  </tbody>\n",
       "</table>\n",
       "</div>"
      ],
      "text/plain": [
       "  Lead Origin     Lead Source Do Not Email  Converted  TotalVisits  \\\n",
       "0         API      Olark Chat           No          0          0.0   \n",
       "1         API  Organic Search           No          0          5.0   \n",
       "\n",
       "   Total Time Spent on Website  Page Views Per Visit            Last Activity  \\\n",
       "0                            0                   0.0  Page Visited on Website   \n",
       "1                          674                   2.5             Email Opened   \n",
       "\n",
       "  Specialization                         Tags    City  \\\n",
       "0         Select  Interested in other courses  Select   \n",
       "1         Select                      Ringing  Select   \n",
       "\n",
       "  A free copy of Mastering The Interview Last Notable Activity  \n",
       "0                                     No              Modified  \n",
       "1                                     No          Email Opened  "
      ]
     },
     "execution_count": 665,
     "metadata": {},
     "output_type": "execute_result"
    }
   ],
   "source": [
    "lead_cleaned.head(2)"
   ]
  },
  {
   "cell_type": "code",
   "execution_count": 666,
   "id": "a9cf5887-167a-4980-b3f2-85452511faaf",
   "metadata": {},
   "outputs": [
    {
     "name": "stdout",
     "output_type": "stream",
     "text": [
      "<class 'pandas.core.frame.DataFrame'>\n",
      "Index: 9103 entries, 0 to 9239\n",
      "Data columns (total 13 columns):\n",
      " #   Column                                  Non-Null Count  Dtype  \n",
      "---  ------                                  --------------  -----  \n",
      " 0   Lead Origin                             9103 non-null   object \n",
      " 1   Lead Source                             9103 non-null   object \n",
      " 2   Do Not Email                            9103 non-null   object \n",
      " 3   Converted                               9103 non-null   int64  \n",
      " 4   TotalVisits                             9103 non-null   float64\n",
      " 5   Total Time Spent on Website             9103 non-null   int64  \n",
      " 6   Page Views Per Visit                    9103 non-null   float64\n",
      " 7   Last Activity                           9103 non-null   object \n",
      " 8   Specialization                          9103 non-null   object \n",
      " 9   Tags                                    9103 non-null   object \n",
      " 10  City                                    9103 non-null   object \n",
      " 11  A free copy of Mastering The Interview  9103 non-null   object \n",
      " 12  Last Notable Activity                   9103 non-null   object \n",
      "dtypes: float64(2), int64(2), object(9)\n",
      "memory usage: 995.6+ KB\n"
     ]
    }
   ],
   "source": [
    "lead_cleaned.info()"
   ]
  },
  {
   "cell_type": "code",
   "execution_count": 667,
   "id": "c71c9d88-6ef3-40aa-bf5b-7adb02627952",
   "metadata": {},
   "outputs": [
    {
     "data": {
      "image/png": "[encoded data removed]",
      "text/plain": [
       "<Figure size 1000x800 with 2 Axes>"
      ]
     },
     "metadata": {},
     "output_type": "display_data"
    }
   ],
   "source": [
    "numeric_data = lead_cleaned.select_dtypes(include=['number'])\n",
    "corr_matrix = numeric_data.corr()\n",
    "plt.figure(figsize=(10, 8))\n",
    "sns.heatmap(corr_matrix, cmap=\"YlGnBu\", annot=True)\n",
    "plt.show()"
   ]
  },
  {
   "cell_type": "markdown",
   "id": "e6bc1356-2e6a-45b1-97f6-645b1a4c71ee",
   "metadata": {},
   "source": [
    "#### Checking for outliers"
   ]
  },
  {
   "cell_type": "code",
   "execution_count": 668,
   "id": "1faa56be-bc93-4c4f-8794-3ea6a01fcef9",
   "metadata": {},
   "outputs": [
    {
     "data": {
      "image/png": "[encoded data removed]",
      "text/plain": [
       "<Figure size 1000x500 with 1 Axes>"
      ]
     },
     "metadata": {},
     "output_type": "display_data"
    }
   ],
   "source": [
    "plt.figure(figsize=(10,5))\n",
    "sns.boxplot(y=lead_cleaned['TotalVisits'])\n",
    "plt.show()"
   ]
  },
  {
   "cell_type": "code",
   "execution_count": 669,
   "id": "c9909ea0-d14c-4b48-a2bb-011524fb2e8f",
   "metadata": {},
   "outputs": [
    {
     "data": {
      "text/plain": [
       "count    9103.000000\n",
       "mean        3.445238\n",
       "std         4.854853\n",
       "min         0.000000\n",
       "5%          0.000000\n",
       "25%         1.000000\n",
       "40%         2.000000\n",
       "50%         3.000000\n",
       "75%         5.000000\n",
       "90%         7.000000\n",
       "95%        10.000000\n",
       "99%        17.000000\n",
       "max       251.000000\n",
       "Name: TotalVisits, dtype: float64"
      ]
     },
     "execution_count": 669,
     "metadata": {},
     "output_type": "execute_result"
    }
   ],
   "source": [
    "lead_cleaned['TotalVisits'].describe(percentiles=[0.05, 0.25, 0.40, 0.50, 0.75, 0.90, 0.95, 0.99])"
   ]
  },
  {
   "cell_type": "code",
   "execution_count": 670,
   "id": "b02bd6ea-9fe9-48eb-9cb7-b2eceece4e57",
   "metadata": {},
   "outputs": [
    {
     "data": {
      "image/png": "[encoded data removed]",
      "text/plain": [
       "<Figure size 640x480 with 1 Axes>"
      ]
     },
     "metadata": {},
     "output_type": "display_data"
    }
   ],
   "source": [
    "Q3 = lead_cleaned.TotalVisits.quantile(0.99)\n",
    "lead_cleaned = lead_cleaned[(lead_cleaned.TotalVisits <= Q3)]\n",
    "Q1 = lead_cleaned.TotalVisits.quantile(0.01)\n",
    "lead_cleaned = lead_cleaned[(lead_cleaned.TotalVisits >= Q1)]\n",
    "sns.boxplot(y=lead_cleaned['TotalVisits'])\n",
    "plt.show()"
   ]
  },
  {
   "cell_type": "code",
   "execution_count": 671,
   "id": "c52bae6d-1a10-4ada-ae15-fbd557d18384",
   "metadata": {},
   "outputs": [
    {
     "data": {
      "text/plain": [
       "(9020, 13)"
      ]
     },
     "execution_count": 671,
     "metadata": {},
     "output_type": "execute_result"
    }
   ],
   "source": [
    "lead_cleaned.shape"
   ]
  },
  {
   "cell_type": "code",
   "execution_count": 672,
   "id": "e86e3cb5-4790-4501-92b0-6a17bf3dcbe1",
   "metadata": {},
   "outputs": [
    {
     "data": {
      "image/png": "[encoded data removed]",
      "text/plain": [
       "<Figure size 600x400 with 1 Axes>"
      ]
     },
     "metadata": {},
     "output_type": "display_data"
    }
   ],
   "source": [
    "plt.figure(figsize=(6,4))\n",
    "sns.boxplot(y=lead_cleaned['Total Time Spent on Website'])\n",
    "plt.show()"
   ]
  },
  {
   "cell_type": "markdown",
   "id": "9100e6d2-9061-494b-b0a7-6044d4f3d352",
   "metadata": {},
   "source": [
    "##### no outliers found in above graph"
   ]
  },
  {
   "cell_type": "code",
   "execution_count": 673,
   "id": "f3c68ff8-4aaf-44f9-a2f7-4148f4575784",
   "metadata": {},
   "outputs": [
    {
     "data": {
      "image/png": "[encoded data removed]",
      "text/plain": [
       "<Figure size 600x400 with 1 Axes>"
      ]
     },
     "metadata": {},
     "output_type": "display_data"
    }
   ],
   "source": [
    "plt.figure(figsize=(6,4))\n",
    "sns.boxplot(y=lead_cleaned['Page Views Per Visit'])\n",
    "plt.show()"
   ]
  },
  {
   "cell_type": "code",
   "execution_count": 674,
   "id": "b5efce69-0371-4084-a79d-5a377a06afd9",
   "metadata": {},
   "outputs": [
    {
     "data": {
      "text/plain": [
       "count    9020.000000\n",
       "mean        2.337271\n",
       "std         2.062363\n",
       "min         0.000000\n",
       "5%          0.000000\n",
       "25%         1.000000\n",
       "40%         2.000000\n",
       "50%         2.000000\n",
       "75%         3.000000\n",
       "90%         5.000000\n",
       "95%         6.000000\n",
       "99%         9.000000\n",
       "max        16.000000\n",
       "Name: Page Views Per Visit, dtype: float64"
      ]
     },
     "execution_count": 674,
     "metadata": {},
     "output_type": "execute_result"
    }
   ],
   "source": [
    "lead_cleaned['Page Views Per Visit'].describe(percentiles=[0.05, 0.25, 0.40, 0.50, 0.75, 0.90, 0.95, 0.99])"
   ]
  },
  {
   "cell_type": "code",
   "execution_count": 675,
   "id": "0c3d1b4e-a24e-4543-9836-4eb1519f9428",
   "metadata": {},
   "outputs": [
    {
     "data": {
      "image/png": "[encoded data removed]",
      "text/plain": [
       "<Figure size 640x480 with 1 Axes>"
      ]
     },
     "metadata": {},
     "output_type": "display_data"
    }
   ],
   "source": [
    "Q3 = lead_cleaned['Page Views Per Visit'].quantile(0.99)\n",
    "leads = lead_cleaned[lead_cleaned['Page Views Per Visit'] <= Q3]\n",
    "Q1 = lead_cleaned['Page Views Per Visit'].quantile(0.01)\n",
    "leads = lead_cleaned[lead_cleaned['Page Views Per Visit'] >= Q1]\n",
    "sns.boxplot(y=lead_cleaned['Page Views Per Visit'])\n",
    "plt.show()"
   ]
  },
  {
   "cell_type": "code",
   "execution_count": 676,
   "id": "9906cb91-edb8-4767-9975-78d8d6a35364",
   "metadata": {},
   "outputs": [
    {
     "data": {
      "text/plain": [
       "(9020, 13)"
      ]
     },
     "execution_count": 676,
     "metadata": {},
     "output_type": "execute_result"
    }
   ],
   "source": [
    "lead_cleaned.shape"
   ]
  },
  {
   "cell_type": "code",
   "execution_count": 677,
   "id": "1e2eff01-1709-4ada-9025-c8f130858d66",
   "metadata": {},
   "outputs": [
    {
     "data": {
      "image/png": "[encoded data removed]",
      "text/plain": [
       "<Figure size 640x480 with 1 Axes>"
      ]
     },
     "metadata": {},
     "output_type": "display_data"
    }
   ],
   "source": [
    "sns.boxplot(y = 'TotalVisits', x = 'Converted', data = lead_cleaned)\n",
    "plt.show()"
   ]
  },
  {
   "cell_type": "code",
   "execution_count": 678,
   "id": "2e040dcc-f7a1-4b4c-9f20-e466611662bf",
   "metadata": {},
   "outputs": [
    {
     "data": {
      "image/png": "[encoded data removed]",
      "text/plain": [
       "<Figure size 640x480 with 1 Axes>"
      ]
     },
     "metadata": {},
     "output_type": "display_data"
    }
   ],
   "source": [
    "sns.boxplot(x=leads.Converted, y=lead_cleaned['Total Time Spent on Website'])\n",
    "plt.show()"
   ]
  },
  {
   "cell_type": "code",
   "execution_count": 679,
   "id": "08b01cac-4bec-4753-931b-73aaa94707cf",
   "metadata": {},
   "outputs": [
    {
     "data": {
      "image/png": "[encoded data removed]",
      "text/plain": [
       "<Figure size 640x480 with 1 Axes>"
      ]
     },
     "metadata": {},
     "output_type": "display_data"
    }
   ],
   "source": [
    "sns.boxplot(x=leads.Converted,y=leads['Page Views Per Visit'])\n",
    "plt.show()"
   ]
  },
  {
   "cell_type": "code",
   "execution_count": 680,
   "id": "4444db29-1164-440c-9da7-72bc1327641b",
   "metadata": {},
   "outputs": [
    {
     "data": {
      "text/plain": [
       "Lead Origin                               0.0\n",
       "Lead Source                               0.0\n",
       "Do Not Email                              0.0\n",
       "Converted                                 0.0\n",
       "TotalVisits                               0.0\n",
       "Total Time Spent on Website               0.0\n",
       "Page Views Per Visit                      0.0\n",
       "Last Activity                             0.0\n",
       "Specialization                            0.0\n",
       "Tags                                      0.0\n",
       "City                                      0.0\n",
       "A free copy of Mastering The Interview    0.0\n",
       "Last Notable Activity                     0.0\n",
       "dtype: float64"
      ]
     },
     "execution_count": 680,
     "metadata": {},
     "output_type": "execute_result"
    }
   ],
   "source": [
    "##### checking for missing values left in anycolumn\n",
    "round(100*(lead_cleaned.isnull().sum()/len(lead_cleaned.index)),2)"
   ]
  },
  {
   "cell_type": "code",
   "execution_count": 681,
   "id": "6d2822df-e15e-4633-884e-9e6272447b7d",
   "metadata": {},
   "outputs": [
    {
     "name": "stdout",
     "output_type": "stream",
     "text": [
      "<class 'pandas.core.frame.DataFrame'>\n",
      "Index: 9020 entries, 0 to 9239\n",
      "Data columns (total 13 columns):\n",
      " #   Column                                  Non-Null Count  Dtype  \n",
      "---  ------                                  --------------  -----  \n",
      " 0   Lead Origin                             9020 non-null   object \n",
      " 1   Lead Source                             9020 non-null   object \n",
      " 2   Do Not Email                            9020 non-null   object \n",
      " 3   Converted                               9020 non-null   int64  \n",
      " 4   TotalVisits                             9020 non-null   float64\n",
      " 5   Total Time Spent on Website             9020 non-null   int64  \n",
      " 6   Page Views Per Visit                    9020 non-null   float64\n",
      " 7   Last Activity                           9020 non-null   object \n",
      " 8   Specialization                          9020 non-null   object \n",
      " 9   Tags                                    9020 non-null   object \n",
      " 10  City                                    9020 non-null   object \n",
      " 11  A free copy of Mastering The Interview  9020 non-null   object \n",
      " 12  Last Notable Activity                   9020 non-null   object \n",
      "dtypes: float64(2), int64(2), object(9)\n",
      "memory usage: 986.6+ KB\n"
     ]
    }
   ],
   "source": [
    "lead_cleaned.info()"
   ]
  },
  {
   "cell_type": "markdown",
   "id": "9e2b70de-0f18-4421-8757-f2984771bc90",
   "metadata": {},
   "source": [
    "##### As we see all Null values have been adjusted/dropped based on the percentage and usage, data has been cleaned"
   ]
  },
  {
   "cell_type": "code",
   "execution_count": 682,
   "id": "7f72d7b5-bef3-400d-adb4-4625eb9ff321",
   "metadata": {},
   "outputs": [
    {
     "data": {
      "text/plain": [
       "Index(['Lead Origin', 'Lead Source', 'Do Not Email', 'Last Activity',\n",
       "       'Specialization', 'Tags', 'City',\n",
       "       'A free copy of Mastering The Interview', 'Last Notable Activity'],\n",
       "      dtype='object')"
      ]
     },
     "execution_count": 682,
     "metadata": {},
     "output_type": "execute_result"
    }
   ],
   "source": [
    "cat_cols=lead_cleaned.select_dtypes(include=['object']).columns\n",
    "cat_cols"
   ]
  },
  {
   "cell_type": "code",
   "execution_count": 683,
   "id": "67aa6ded-49b0-4960-8fd9-b747149fda0f",
   "metadata": {},
   "outputs": [
    {
     "data": {
      "text/html": [
       "<div>\n",
       "<style scoped>\n",
       "    .dataframe tbody tr th:only-of-type {\n",
       "        vertical-align: middle;\n",
       "    }\n",
       "\n",
       "    .dataframe tbody tr th {\n",
       "        vertical-align: top;\n",
       "    }\n",
       "\n",
       "    .dataframe thead th {\n",
       "        text-align: right;\n",
       "    }\n",
       "</style>\n",
       "<table border=\"1\" class=\"dataframe\">\n",
       "  <thead>\n",
       "    <tr style=\"text-align: right;\">\n",
       "      <th></th>\n",
       "      <th>Lead Origin</th>\n",
       "      <th>Lead Source</th>\n",
       "      <th>Do Not Email</th>\n",
       "      <th>Converted</th>\n",
       "      <th>TotalVisits</th>\n",
       "      <th>Total Time Spent on Website</th>\n",
       "      <th>Page Views Per Visit</th>\n",
       "      <th>Last Activity</th>\n",
       "      <th>Specialization</th>\n",
       "      <th>Tags</th>\n",
       "      <th>City</th>\n",
       "      <th>A free copy of Mastering The Interview</th>\n",
       "      <th>Last Notable Activity</th>\n",
       "    </tr>\n",
       "  </thead>\n",
       "  <tbody>\n",
       "    <tr>\n",
       "      <th>0</th>\n",
       "      <td>API</td>\n",
       "      <td>Olark Chat</td>\n",
       "      <td>No</td>\n",
       "      <td>0</td>\n",
       "      <td>0.0</td>\n",
       "      <td>0</td>\n",
       "      <td>0.0</td>\n",
       "      <td>Page Visited on Website</td>\n",
       "      <td>Select</td>\n",
       "      <td>Interested in other courses</td>\n",
       "      <td>Select</td>\n",
       "      <td>No</td>\n",
       "      <td>Modified</td>\n",
       "    </tr>\n",
       "    <tr>\n",
       "      <th>1</th>\n",
       "      <td>API</td>\n",
       "      <td>Organic Search</td>\n",
       "      <td>No</td>\n",
       "      <td>0</td>\n",
       "      <td>5.0</td>\n",
       "      <td>674</td>\n",
       "      <td>2.5</td>\n",
       "      <td>Email Opened</td>\n",
       "      <td>Select</td>\n",
       "      <td>Ringing</td>\n",
       "      <td>Select</td>\n",
       "      <td>No</td>\n",
       "      <td>Email Opened</td>\n",
       "    </tr>\n",
       "  </tbody>\n",
       "</table>\n",
       "</div>"
      ],
      "text/plain": [
       "  Lead Origin     Lead Source Do Not Email  Converted  TotalVisits  \\\n",
       "0         API      Olark Chat           No          0          0.0   \n",
       "1         API  Organic Search           No          0          5.0   \n",
       "\n",
       "   Total Time Spent on Website  Page Views Per Visit            Last Activity  \\\n",
       "0                            0                   0.0  Page Visited on Website   \n",
       "1                          674                   2.5             Email Opened   \n",
       "\n",
       "  Specialization                         Tags    City  \\\n",
       "0         Select  Interested in other courses  Select   \n",
       "1         Select                      Ringing  Select   \n",
       "\n",
       "  A free copy of Mastering The Interview Last Notable Activity  \n",
       "0                                     No              Modified  \n",
       "1                                     No          Email Opened  "
      ]
     },
     "execution_count": 683,
     "metadata": {},
     "output_type": "execute_result"
    }
   ],
   "source": [
    "lead_cleaned.head(2)"
   ]
  },
  {
   "cell_type": "code",
   "execution_count": 684,
   "id": "caf16bd5-adc6-442f-a331-a78bf45aeee7",
   "metadata": {},
   "outputs": [],
   "source": [
    "### Converting yes or no to Binomial variable as 0 & 1\n",
    "varlist=['Do Not Email','A free copy of Mastering The Interview']\n",
    "def binary_map(x):\n",
    "    return x.map({'Yes':1, 'No':0})\n",
    "lead_cleaned[varlist]=lead_cleaned[varlist].apply(binary_map)"
   ]
  },
  {
   "cell_type": "code",
   "execution_count": 685,
   "id": "62cf987a-6610-4899-aeb7-cad4eb4e3b57",
   "metadata": {},
   "outputs": [
    {
     "name": "stdout",
     "output_type": "stream",
     "text": [
      "<class 'pandas.core.frame.DataFrame'>\n",
      "Index: 9020 entries, 0 to 9239\n",
      "Data columns (total 13 columns):\n",
      " #   Column                                  Non-Null Count  Dtype  \n",
      "---  ------                                  --------------  -----  \n",
      " 0   Lead Origin                             9020 non-null   object \n",
      " 1   Lead Source                             9020 non-null   object \n",
      " 2   Do Not Email                            9020 non-null   int64  \n",
      " 3   Converted                               9020 non-null   int64  \n",
      " 4   TotalVisits                             9020 non-null   float64\n",
      " 5   Total Time Spent on Website             9020 non-null   int64  \n",
      " 6   Page Views Per Visit                    9020 non-null   float64\n",
      " 7   Last Activity                           9020 non-null   object \n",
      " 8   Specialization                          9020 non-null   object \n",
      " 9   Tags                                    9020 non-null   object \n",
      " 10  City                                    9020 non-null   object \n",
      " 11  A free copy of Mastering The Interview  9020 non-null   int64  \n",
      " 12  Last Notable Activity                   9020 non-null   object \n",
      "dtypes: float64(2), int64(4), object(7)\n",
      "memory usage: 986.6+ KB\n"
     ]
    }
   ],
   "source": [
    "lead_cleaned.info()"
   ]
  },
  {
   "cell_type": "code",
   "execution_count": 686,
   "id": "137d3090-e9bf-495f-bed0-df8120602088",
   "metadata": {},
   "outputs": [
    {
     "data": {
      "text/html": [
       "<div>\n",
       "<style scoped>\n",
       "    .dataframe tbody tr th:only-of-type {\n",
       "        vertical-align: middle;\n",
       "    }\n",
       "\n",
       "    .dataframe tbody tr th {\n",
       "        vertical-align: top;\n",
       "    }\n",
       "\n",
       "    .dataframe thead th {\n",
       "        text-align: right;\n",
       "    }\n",
       "</style>\n",
       "<table border=\"1\" class=\"dataframe\">\n",
       "  <thead>\n",
       "    <tr style=\"text-align: right;\">\n",
       "      <th></th>\n",
       "      <th>Lead Origin</th>\n",
       "      <th>Lead Source</th>\n",
       "      <th>Do Not Email</th>\n",
       "      <th>Converted</th>\n",
       "      <th>TotalVisits</th>\n",
       "      <th>Total Time Spent on Website</th>\n",
       "      <th>Page Views Per Visit</th>\n",
       "      <th>Last Activity</th>\n",
       "      <th>Specialization</th>\n",
       "      <th>Tags</th>\n",
       "      <th>City</th>\n",
       "      <th>A free copy of Mastering The Interview</th>\n",
       "      <th>Last Notable Activity</th>\n",
       "    </tr>\n",
       "  </thead>\n",
       "  <tbody>\n",
       "    <tr>\n",
       "      <th>0</th>\n",
       "      <td>API</td>\n",
       "      <td>Olark Chat</td>\n",
       "      <td>0</td>\n",
       "      <td>0</td>\n",
       "      <td>0.0</td>\n",
       "      <td>0</td>\n",
       "      <td>0.0</td>\n",
       "      <td>Page Visited on Website</td>\n",
       "      <td>Select</td>\n",
       "      <td>Interested in other courses</td>\n",
       "      <td>Select</td>\n",
       "      <td>0</td>\n",
       "      <td>Modified</td>\n",
       "    </tr>\n",
       "    <tr>\n",
       "      <th>1</th>\n",
       "      <td>API</td>\n",
       "      <td>Organic Search</td>\n",
       "      <td>0</td>\n",
       "      <td>0</td>\n",
       "      <td>5.0</td>\n",
       "      <td>674</td>\n",
       "      <td>2.5</td>\n",
       "      <td>Email Opened</td>\n",
       "      <td>Select</td>\n",
       "      <td>Ringing</td>\n",
       "      <td>Select</td>\n",
       "      <td>0</td>\n",
       "      <td>Email Opened</td>\n",
       "    </tr>\n",
       "  </tbody>\n",
       "</table>\n",
       "</div>"
      ],
      "text/plain": [
       "  Lead Origin     Lead Source  Do Not Email  Converted  TotalVisits  \\\n",
       "0         API      Olark Chat             0          0          0.0   \n",
       "1         API  Organic Search             0          0          5.0   \n",
       "\n",
       "   Total Time Spent on Website  Page Views Per Visit            Last Activity  \\\n",
       "0                            0                   0.0  Page Visited on Website   \n",
       "1                          674                   2.5             Email Opened   \n",
       "\n",
       "  Specialization                         Tags    City  \\\n",
       "0         Select  Interested in other courses  Select   \n",
       "1         Select                      Ringing  Select   \n",
       "\n",
       "   A free copy of Mastering The Interview Last Notable Activity  \n",
       "0                                       0              Modified  \n",
       "1                                       0          Email Opened  "
      ]
     },
     "execution_count": 686,
     "metadata": {},
     "output_type": "execute_result"
    }
   ],
   "source": [
    "lead_cleaned.head(2)"
   ]
  },
  {
   "cell_type": "code",
   "execution_count": 687,
   "id": "75dc7346-ed6f-41c9-a4fe-c6d4b8f730ab",
   "metadata": {},
   "outputs": [
    {
     "data": {
      "text/plain": [
       "Lead Origin\n",
       "Landing Page Submission    4820\n",
       "API                        3562\n",
       "Lead Add Form               607\n",
       "Lead Import                  31\n",
       "Name: count, dtype: int64"
      ]
     },
     "execution_count": 687,
     "metadata": {},
     "output_type": "execute_result"
    }
   ],
   "source": [
    "lead_cleaned['Lead Origin'].value_counts(dropna=False)"
   ]
  },
  {
   "cell_type": "code",
   "execution_count": 688,
   "id": "1af46d1b-5b67-4356-9a76-bcdd201efad1",
   "metadata": {},
   "outputs": [
    {
     "data": {
      "text/plain": [
       "Lead Source\n",
       "Google               2879\n",
       "Direct Traffic       2512\n",
       "Olark Chat           1751\n",
       "Organic Search       1125\n",
       "Reference             442\n",
       "Welingak Website      129\n",
       "Referral Sites        123\n",
       "Facebook               31\n",
       "bing                    6\n",
       "google                  5\n",
       "Click2call              4\n",
       "Live Chat               2\n",
       "Social Media            2\n",
       "Press_Release           2\n",
       "Pay per Click Ads       1\n",
       "blog                    1\n",
       "WeLearn                 1\n",
       "welearnblog_Home        1\n",
       "youtubechannel          1\n",
       "testone                 1\n",
       "NC_EDM                  1\n",
       "Name: count, dtype: int64"
      ]
     },
     "execution_count": 688,
     "metadata": {},
     "output_type": "execute_result"
    }
   ],
   "source": [
    "lead_cleaned['Lead Source'].value_counts(dropna=False)"
   ]
  },
  {
   "cell_type": "markdown",
   "id": "7cc34644",
   "metadata": {},
   "source": [
    "Performing bivariate analysis"
   ]
  },
  {
   "cell_type": "code",
   "execution_count": 689,
   "id": "34cdcb58",
   "metadata": {},
   "outputs": [
    {
     "data": {
      "image/png": "[encoded data removed]",
      "text/plain": [
       "<Figure size 1200x600 with 1 Axes>"
      ]
     },
     "metadata": {},
     "output_type": "display_data"
    }
   ],
   "source": [
    "import seaborn as sns\n",
    "\n",
    "import matplotlib.pyplot as plt\n",
    "\n",
    "plt.figure(figsize=(12, 6))\n",
    "sns.countplot(x='Tags', hue='Converted', data=lead_cleaned)\n",
    "plt.xticks(rotation=90)\n",
    "plt.title('Relationship between Tags and Converted')\n",
    "plt.show()"
   ]
  },
  {
   "cell_type": "markdown",
   "id": "5f123975",
   "metadata": {},
   "source": [
    "Clearly people who have said \"Will revert after reading the email\" have a very high chance of conversion\n"
   ]
  },
  {
   "cell_type": "code",
   "execution_count": 690,
   "id": "719332f2",
   "metadata": {},
   "outputs": [
    {
     "data": {
      "image/png": "[encoded data removed]",
      "text/plain": [
       "<Figure size 1200x600 with 1 Axes>"
      ]
     },
     "metadata": {},
     "output_type": "display_data"
    }
   ],
   "source": [
    "plt.figure(figsize=(12, 6))\n",
    "sns.countplot(x='Lead Source', hue='Converted', data=lead_cleaned)\n",
    "plt.xticks(rotation=90)\n",
    "plt.title('Relationship between Lead Source and Converted')\n",
    "plt.show()"
   ]
  },
  {
   "cell_type": "markdown",
   "id": "7510ee53",
   "metadata": {},
   "source": [
    "Clearly the leads coming through reference have a high probability of conversion\n"
   ]
  },
  {
   "cell_type": "code",
   "execution_count": 692,
   "id": "ee292815",
   "metadata": {},
   "outputs": [
    {
     "data": {
      "image/png": "[encoded data removed]",
      "text/plain": [
       "<Figure size 1200x600 with 1 Axes>"
      ]
     },
     "metadata": {},
     "output_type": "display_data"
    }
   ],
   "source": [
    "plt.figure(figsize=(12, 6))\n",
    "sns.countplot(x='Lead Origin', hue='Converted', data=lead_cleaned)\n",
    "plt.xticks(rotation=90)\n",
    "plt.title('Relationship between Lead Origin and Converted')\n",
    "plt.show()"
   ]
  },
  {
   "cell_type": "markdown",
   "id": "543a5849",
   "metadata": {},
   "source": []
  },
  {
   "cell_type": "markdown",
   "id": "ee0bf399",
   "metadata": {},
   "source": [
    "This means that the leads coming via Form filling have a ligher conversion rate."
   ]
  },
  {
   "cell_type": "markdown",
   "id": "31ab4ed9-7931-4610-b8f3-e252c26ef409",
   "metadata": {},
   "source": [
    "#### Dummy Creation\n",
    "##### As we have multiple heading with single variables will collate and add it to others for creation of Dummies"
   ]
  },
  {
   "cell_type": "code",
   "execution_count": null,
   "id": "c0196bdf-e0d1-411d-b372-6f660933c93b",
   "metadata": {},
   "outputs": [],
   "source": [
    "### as we have multiple heading with single variables will collate and it to others\n",
    "value_counts = lead_cleaned['Lead Source'].value_counts()\n",
    "lead_cleaned['Lead Source']= lead_cleaned['Lead Source'].apply(lambda x:x if value_counts[x] >=150 else 'Others')"
   ]
  },
  {
   "cell_type": "code",
   "execution_count": null,
   "id": "807033ac-9c1f-4f11-b7cb-b6c8c0349738",
   "metadata": {},
   "outputs": [
    {
     "data": {
      "text/plain": [
       "Lead Source\n",
       "Google            2879\n",
       "Direct Traffic    2512\n",
       "Olark Chat        1751\n",
       "Organic Search    1125\n",
       "Reference          442\n",
       "Others             311\n",
       "Name: count, dtype: int64"
      ]
     },
     "execution_count": 537,
     "metadata": {},
     "output_type": "execute_result"
    }
   ],
   "source": [
    "lead_cleaned['Lead Source'].value_counts(dropna=False)"
   ]
  },
  {
   "cell_type": "code",
   "execution_count": null,
   "id": "93a1bc41-6577-4a77-b060-ed2ce905bbbe",
   "metadata": {},
   "outputs": [],
   "source": [
    "dummy = pd.get_dummies(lead_cleaned[['Lead Source', 'Lead Origin']],drop_first=True)\n",
    "lead_cleaned=pd.concat([lead_cleaned,dummy],axis=1)"
   ]
  },
  {
   "cell_type": "code",
   "execution_count": null,
   "id": "014658e8-892f-492b-ba0f-a47c2012bb81",
   "metadata": {},
   "outputs": [
    {
     "data": {
      "text/plain": [
       "Last Activity\n",
       "Email Opened                    3415\n",
       "SMS Sent                        2722\n",
       "Olark Chat Conversation          970\n",
       "Page Visited on Website          602\n",
       "Converted to Lead                428\n",
       "Email Bounced                    311\n",
       "Email Link Clicked               266\n",
       "Form Submitted on Website        115\n",
       "Unreachable                       90\n",
       "Unsubscribed                      61\n",
       "Had a Phone Conversation          24\n",
       "View in browser link Clicked       5\n",
       "Approached upfront                 5\n",
       "Email Marked Spam                  2\n",
       "Email Received                     2\n",
       "Visited Booth in Tradeshow         1\n",
       "Resubscribed to emails             1\n",
       "Name: count, dtype: int64"
      ]
     },
     "execution_count": 539,
     "metadata": {},
     "output_type": "execute_result"
    }
   ],
   "source": [
    "lead_cleaned['Last Activity'].value_counts(dropna=False)"
   ]
  },
  {
   "cell_type": "code",
   "execution_count": null,
   "id": "8fd34a80-c4de-471f-85a9-ef7fa6ae4217",
   "metadata": {},
   "outputs": [],
   "source": [
    "value_counts = lead_cleaned['Last Activity'].value_counts()\n",
    "lead_cleaned['Last Activity']= lead_cleaned['Last Activity'].apply(lambda x:x if value_counts[x] >=150 else 'Others')"
   ]
  },
  {
   "cell_type": "code",
   "execution_count": null,
   "id": "ffa6076e-23b4-40ed-a1c9-15103a4ca0fa",
   "metadata": {},
   "outputs": [
    {
     "data": {
      "text/plain": [
       "Last Activity\n",
       "Email Opened               3415\n",
       "SMS Sent                   2722\n",
       "Olark Chat Conversation     970\n",
       "Page Visited on Website     602\n",
       "Converted to Lead           428\n",
       "Email Bounced               311\n",
       "Others                      306\n",
       "Email Link Clicked          266\n",
       "Name: count, dtype: int64"
      ]
     },
     "execution_count": 541,
     "metadata": {},
     "output_type": "execute_result"
    }
   ],
   "source": [
    "lead_cleaned['Last Activity'].value_counts(dropna=False)"
   ]
  },
  {
   "cell_type": "code",
   "execution_count": null,
   "id": "eff5b2ec-ef74-4ef0-9681-57efd5a0bbf3",
   "metadata": {},
   "outputs": [
    {
     "data": {
      "text/plain": [
       "Specialization\n",
       "Select                               1867\n",
       "Not_Specified                        1426\n",
       "Finance Management                    954\n",
       "Human Resource Management             826\n",
       "Marketing Management                  819\n",
       "Operations Management                 498\n",
       "Business Administration               393\n",
       "IT Projects Management                363\n",
       "Supply Chain Management               343\n",
       "Banking, Investment And Insurance     327\n",
       "Media and Advertising                 199\n",
       "Travel and Tourism                    197\n",
       "International Business                174\n",
       "Healthcare Management                 152\n",
       "E-COMMERCE                            110\n",
       "Hospitality Management                109\n",
       "Retail Management                      97\n",
       "Rural and Agribusiness                 70\n",
       "E-Business                             56\n",
       "Services Excellence                    40\n",
       "Name: count, dtype: int64"
      ]
     },
     "execution_count": 542,
     "metadata": {},
     "output_type": "execute_result"
    }
   ],
   "source": [
    "lead_cleaned['Specialization'].value_counts(dropna=False)"
   ]
  },
  {
   "cell_type": "code",
   "execution_count": null,
   "id": "fc6394c3-9bd5-4a8d-86d2-85964bd40bd7",
   "metadata": {},
   "outputs": [],
   "source": [
    "value_counts = lead_cleaned['Specialization'].value_counts()\n",
    "lead_cleaned['Specialization']= lead_cleaned['Specialization'].apply(lambda x:x if value_counts[x] >=200 else 'Others')"
   ]
  },
  {
   "cell_type": "code",
   "execution_count": null,
   "id": "269b5a76-7ff8-49bd-b452-1b515f1b7bbb",
   "metadata": {},
   "outputs": [],
   "source": [
    "dummy = pd.get_dummies(lead_cleaned[['Last Activity', 'Specialization']],drop_first=True)\n",
    "lead_cleaned=pd.concat([lead_cleaned,dummy],axis=1)"
   ]
  },
  {
   "cell_type": "code",
   "execution_count": null,
   "id": "5f3f3033-ee29-4fb4-8773-5e1d171d54ea",
   "metadata": {},
   "outputs": [
    {
     "data": {
      "text/plain": [
       "Tags\n",
       "Not Specified                                        3308\n",
       "Will revert after reading the email                  2017\n",
       "Ringing                                              1173\n",
       "Interested in other courses                           506\n",
       "Already a student                                     464\n",
       "Closed by Horizzon                                    292\n",
       "switched off                                          239\n",
       "Busy                                                  185\n",
       "Lost to EINS                                          171\n",
       "Not doing further education                           138\n",
       "Interested  in full time MBA                          116\n",
       "Graduation in progress                                111\n",
       "invalid number                                         83\n",
       "Diploma holder (Not Eligible)                          63\n",
       "wrong number given                                     47\n",
       "opp hangup                                             33\n",
       "number not provided                                    26\n",
       "in touch with EINS                                     12\n",
       "Lost to Others                                          7\n",
       "Still Thinking                                          6\n",
       "In confusion whether part time or DLP                   5\n",
       "Want to take admission but has financial problems       5\n",
       "Interested in Next batch                                5\n",
       "Lateral student                                         3\n",
       "Shall take in the next coming month                     2\n",
       "University not recognized                               2\n",
       "Recognition issue (DEC approval)                        1\n",
       "Name: count, dtype: int64"
      ]
     },
     "execution_count": 545,
     "metadata": {},
     "output_type": "execute_result"
    }
   ],
   "source": [
    "lead_cleaned['Tags'].value_counts(dropna=False)"
   ]
  },
  {
   "cell_type": "code",
   "execution_count": null,
   "id": "d5258b9b-a10b-455a-9619-7725d0579d7f",
   "metadata": {},
   "outputs": [],
   "source": [
    "value_counts = lead_cleaned['Tags'].value_counts()\n",
    "lead_cleaned['Tags']= lead_cleaned['Tags'].apply(lambda x:x if value_counts[x] >=200 else 'Others')"
   ]
  },
  {
   "cell_type": "code",
   "execution_count": null,
   "id": "19fe5bcd-cb31-4d75-8120-193ea722f3f5",
   "metadata": {},
   "outputs": [
    {
     "data": {
      "text/plain": [
       "City\n",
       "Mumbai                         4549\n",
       "Select                         2177\n",
       "Thane & Outskirts               732\n",
       "Other Cities                    671\n",
       "Other Cities of Maharashtra     446\n",
       "Other Metro Cities              372\n",
       "Tier II Cities                   73\n",
       "Name: count, dtype: int64"
      ]
     },
     "execution_count": 547,
     "metadata": {},
     "output_type": "execute_result"
    }
   ],
   "source": [
    "lead_cleaned['City'].value_counts(dropna=False)"
   ]
  },
  {
   "cell_type": "code",
   "execution_count": null,
   "id": "ff43bb88-e07f-4efb-81b4-1a7126eb2674",
   "metadata": {},
   "outputs": [
    {
     "data": {
      "text/plain": [
       "Last Notable Activity\n",
       "Modified                        3253\n",
       "Email Opened                    2807\n",
       "SMS Sent                        2159\n",
       "Page Visited on Website          289\n",
       "Olark Chat Conversation          182\n",
       "Email Link Clicked               172\n",
       "Email Bounced                     59\n",
       "Unsubscribed                      47\n",
       "Unreachable                       32\n",
       "Had a Phone Conversation          13\n",
       "Email Marked Spam                  2\n",
       "Approached upfront                 1\n",
       "Resubscribed to emails             1\n",
       "View in browser link Clicked       1\n",
       "Form Submitted on Website          1\n",
       "Email Received                     1\n",
       "Name: count, dtype: int64"
      ]
     },
     "execution_count": 548,
     "metadata": {},
     "output_type": "execute_result"
    }
   ],
   "source": [
    "lead_cleaned['Last Notable Activity'].value_counts(dropna=False)"
   ]
  },
  {
   "cell_type": "code",
   "execution_count": null,
   "id": "055c33f4-c1fd-429e-a770-7822a87dfd15",
   "metadata": {},
   "outputs": [],
   "source": [
    "value_counts = lead_cleaned['Last Notable Activity'].value_counts()\n",
    "lead_cleaned['Last Notable Activity']= lead_cleaned['Last Notable Activity'].apply(lambda x:x if value_counts[x] >=150 else 'Others')"
   ]
  },
  {
   "cell_type": "code",
   "execution_count": null,
   "id": "e8090c30-9999-4d5e-97e8-3e5c7d38b657",
   "metadata": {},
   "outputs": [],
   "source": [
    "dummy = pd.get_dummies(lead_cleaned[['Last Notable Activity', 'Tags','City']],drop_first=True)\n",
    "lead_cleaned=pd.concat([lead_cleaned,dummy],axis=1)"
   ]
  },
  {
   "cell_type": "code",
   "execution_count": null,
   "id": "156b8436-1d02-42c7-bff3-5ad8f7d76dc9",
   "metadata": {},
   "outputs": [],
   "source": [
    "lead_cleaned.drop(cat_cols,axis=1,inplace=True)"
   ]
  },
  {
   "cell_type": "code",
   "execution_count": null,
   "id": "2fc0fb2d-7d28-445a-bce4-2072290009ad",
   "metadata": {},
   "outputs": [
    {
     "name": "stdout",
     "output_type": "stream",
     "text": [
      "<class 'pandas.core.frame.DataFrame'>\n",
      "Index: 9020 entries, 0 to 9239\n",
      "Data columns (total 48 columns):\n",
      " #   Column                                         Non-Null Count  Dtype  \n",
      "---  ------                                         --------------  -----  \n",
      " 0   Converted                                      9020 non-null   int64  \n",
      " 1   TotalVisits                                    9020 non-null   float64\n",
      " 2   Total Time Spent on Website                    9020 non-null   int64  \n",
      " 3   Page Views Per Visit                           9020 non-null   float64\n",
      " 4   Lead Source_Google                             9020 non-null   bool   \n",
      " 5   Lead Source_Olark Chat                         9020 non-null   bool   \n",
      " 6   Lead Source_Organic Search                     9020 non-null   bool   \n",
      " 7   Lead Source_Others                             9020 non-null   bool   \n",
      " 8   Lead Source_Reference                          9020 non-null   bool   \n",
      " 9   Lead Origin_Landing Page Submission            9020 non-null   bool   \n",
      " 10  Lead Origin_Lead Add Form                      9020 non-null   bool   \n",
      " 11  Lead Origin_Lead Import                        9020 non-null   bool   \n",
      " 12  Last Activity_Email Bounced                    9020 non-null   bool   \n",
      " 13  Last Activity_Email Link Clicked               9020 non-null   bool   \n",
      " 14  Last Activity_Email Opened                     9020 non-null   bool   \n",
      " 15  Last Activity_Olark Chat Conversation          9020 non-null   bool   \n",
      " 16  Last Activity_Others                           9020 non-null   bool   \n",
      " 17  Last Activity_Page Visited on Website          9020 non-null   bool   \n",
      " 18  Last Activity_SMS Sent                         9020 non-null   bool   \n",
      " 19  Specialization_Business Administration         9020 non-null   bool   \n",
      " 20  Specialization_Finance Management              9020 non-null   bool   \n",
      " 21  Specialization_Human Resource Management       9020 non-null   bool   \n",
      " 22  Specialization_IT Projects Management          9020 non-null   bool   \n",
      " 23  Specialization_Marketing Management            9020 non-null   bool   \n",
      " 24  Specialization_Not_Specified                   9020 non-null   bool   \n",
      " 25  Specialization_Operations Management           9020 non-null   bool   \n",
      " 26  Specialization_Others                          9020 non-null   bool   \n",
      " 27  Specialization_Select                          9020 non-null   bool   \n",
      " 28  Specialization_Supply Chain Management         9020 non-null   bool   \n",
      " 29  Last Notable Activity_Email Opened             9020 non-null   bool   \n",
      " 30  Last Notable Activity_Modified                 9020 non-null   bool   \n",
      " 31  Last Notable Activity_Olark Chat Conversation  9020 non-null   bool   \n",
      " 32  Last Notable Activity_Others                   9020 non-null   bool   \n",
      " 33  Last Notable Activity_Page Visited on Website  9020 non-null   bool   \n",
      " 34  Last Notable Activity_SMS Sent                 9020 non-null   bool   \n",
      " 35  Tags_Closed by Horizzon                        9020 non-null   bool   \n",
      " 36  Tags_Interested in other courses               9020 non-null   bool   \n",
      " 37  Tags_Not Specified                             9020 non-null   bool   \n",
      " 38  Tags_Others                                    9020 non-null   bool   \n",
      " 39  Tags_Ringing                                   9020 non-null   bool   \n",
      " 40  Tags_Will revert after reading the email       9020 non-null   bool   \n",
      " 41  Tags_switched off                              9020 non-null   bool   \n",
      " 42  City_Other Cities                              9020 non-null   bool   \n",
      " 43  City_Other Cities of Maharashtra               9020 non-null   bool   \n",
      " 44  City_Other Metro Cities                        9020 non-null   bool   \n",
      " 45  City_Select                                    9020 non-null   bool   \n",
      " 46  City_Thane & Outskirts                         9020 non-null   bool   \n",
      " 47  City_Tier II Cities                            9020 non-null   bool   \n",
      "dtypes: bool(44), float64(2), int64(2)\n",
      "memory usage: 739.9 KB\n"
     ]
    }
   ],
   "source": [
    "lead_cleaned.info()"
   ]
  },
  {
   "cell_type": "code",
   "execution_count": null,
   "id": "afb68a54-670a-492d-aecf-201abd3a51b3",
   "metadata": {},
   "outputs": [
    {
     "data": {
      "text/html": [
       "<div>\n",
       "<style scoped>\n",
       "    .dataframe tbody tr th:only-of-type {\n",
       "        vertical-align: middle;\n",
       "    }\n",
       "\n",
       "    .dataframe tbody tr th {\n",
       "        vertical-align: top;\n",
       "    }\n",
       "\n",
       "    .dataframe thead th {\n",
       "        text-align: right;\n",
       "    }\n",
       "</style>\n",
       "<table border=\"1\" class=\"dataframe\">\n",
       "  <thead>\n",
       "    <tr style=\"text-align: right;\">\n",
       "      <th></th>\n",
       "      <th>Converted</th>\n",
       "      <th>TotalVisits</th>\n",
       "      <th>Total Time Spent on Website</th>\n",
       "      <th>Page Views Per Visit</th>\n",
       "      <th>Lead Source_Google</th>\n",
       "      <th>Lead Source_Olark Chat</th>\n",
       "      <th>Lead Source_Organic Search</th>\n",
       "      <th>Lead Source_Others</th>\n",
       "      <th>Lead Source_Reference</th>\n",
       "      <th>Lead Origin_Landing Page Submission</th>\n",
       "      <th>...</th>\n",
       "      <th>Tags_Others</th>\n",
       "      <th>Tags_Ringing</th>\n",
       "      <th>Tags_Will revert after reading the email</th>\n",
       "      <th>Tags_switched off</th>\n",
       "      <th>City_Other Cities</th>\n",
       "      <th>City_Other Cities of Maharashtra</th>\n",
       "      <th>City_Other Metro Cities</th>\n",
       "      <th>City_Select</th>\n",
       "      <th>City_Thane &amp; Outskirts</th>\n",
       "      <th>City_Tier II Cities</th>\n",
       "    </tr>\n",
       "  </thead>\n",
       "  <tbody>\n",
       "    <tr>\n",
       "      <th>0</th>\n",
       "      <td>0</td>\n",
       "      <td>0.0</td>\n",
       "      <td>0</td>\n",
       "      <td>0.0</td>\n",
       "      <td>False</td>\n",
       "      <td>True</td>\n",
       "      <td>False</td>\n",
       "      <td>False</td>\n",
       "      <td>False</td>\n",
       "      <td>False</td>\n",
       "      <td>...</td>\n",
       "      <td>False</td>\n",
       "      <td>False</td>\n",
       "      <td>False</td>\n",
       "      <td>False</td>\n",
       "      <td>False</td>\n",
       "      <td>False</td>\n",
       "      <td>False</td>\n",
       "      <td>True</td>\n",
       "      <td>False</td>\n",
       "      <td>False</td>\n",
       "    </tr>\n",
       "    <tr>\n",
       "      <th>1</th>\n",
       "      <td>0</td>\n",
       "      <td>5.0</td>\n",
       "      <td>674</td>\n",
       "      <td>2.5</td>\n",
       "      <td>False</td>\n",
       "      <td>False</td>\n",
       "      <td>True</td>\n",
       "      <td>False</td>\n",
       "      <td>False</td>\n",
       "      <td>False</td>\n",
       "      <td>...</td>\n",
       "      <td>False</td>\n",
       "      <td>True</td>\n",
       "      <td>False</td>\n",
       "      <td>False</td>\n",
       "      <td>False</td>\n",
       "      <td>False</td>\n",
       "      <td>False</td>\n",
       "      <td>True</td>\n",
       "      <td>False</td>\n",
       "      <td>False</td>\n",
       "    </tr>\n",
       "  </tbody>\n",
       "</table>\n",
       "<p>2 rows × 48 columns</p>\n",
       "</div>"
      ],
      "text/plain": [
       "   Converted  TotalVisits  Total Time Spent on Website  Page Views Per Visit  \\\n",
       "0          0          0.0                            0                   0.0   \n",
       "1          0          5.0                          674                   2.5   \n",
       "\n",
       "   Lead Source_Google  Lead Source_Olark Chat  Lead Source_Organic Search  \\\n",
       "0               False                    True                       False   \n",
       "1               False                   False                        True   \n",
       "\n",
       "   Lead Source_Others  Lead Source_Reference  \\\n",
       "0               False                  False   \n",
       "1               False                  False   \n",
       "\n",
       "   Lead Origin_Landing Page Submission  ...  Tags_Others  Tags_Ringing  \\\n",
       "0                                False  ...        False         False   \n",
       "1                                False  ...        False          True   \n",
       "\n",
       "   Tags_Will revert after reading the email  Tags_switched off  \\\n",
       "0                                     False              False   \n",
       "1                                     False              False   \n",
       "\n",
       "   City_Other Cities  City_Other Cities of Maharashtra  \\\n",
       "0              False                             False   \n",
       "1              False                             False   \n",
       "\n",
       "   City_Other Metro Cities  City_Select  City_Thane & Outskirts  \\\n",
       "0                    False         True                   False   \n",
       "1                    False         True                   False   \n",
       "\n",
       "   City_Tier II Cities  \n",
       "0                False  \n",
       "1                False  \n",
       "\n",
       "[2 rows x 48 columns]"
      ]
     },
     "execution_count": 553,
     "metadata": {},
     "output_type": "execute_result"
    }
   ],
   "source": [
    "lead_cleaned.head(2)"
   ]
  },
  {
   "cell_type": "markdown",
   "id": "20596eb9-337c-4296-8673-94f052ccaf42",
   "metadata": {},
   "source": [
    "#### Using Sklearn model selection for train test split"
   ]
  },
  {
   "cell_type": "code",
   "execution_count": null,
   "id": "732f8f49-489a-423f-a556-acd9d7497acc",
   "metadata": {},
   "outputs": [],
   "source": [
    "from sklearn.model_selection import train_test_split\n",
    "y=lead_cleaned['Converted']\n",
    "y.head()\n",
    "X=lead_cleaned.drop('Converted', axis=1)"
   ]
  },
  {
   "cell_type": "code",
   "execution_count": null,
   "id": "da84f111-e1ce-402c-a48f-56b8ad2e767f",
   "metadata": {},
   "outputs": [],
   "source": [
    "X_train, X_test, y_train, y_test = train_test_split(X, y, train_size=0.8, test_size=0.2, random_state=100)"
   ]
  },
  {
   "cell_type": "code",
   "execution_count": null,
   "id": "e3d476fe-d177-4ded-91dc-a6e51340248f",
   "metadata": {},
   "outputs": [
    {
     "name": "stdout",
     "output_type": "stream",
     "text": [
      "<class 'pandas.core.frame.DataFrame'>\n",
      "Index: 7216 entries, 181 to 5783\n",
      "Data columns (total 47 columns):\n",
      " #   Column                                         Non-Null Count  Dtype  \n",
      "---  ------                                         --------------  -----  \n",
      " 0   TotalVisits                                    7216 non-null   float64\n",
      " 1   Total Time Spent on Website                    7216 non-null   int64  \n",
      " 2   Page Views Per Visit                           7216 non-null   float64\n",
      " 3   Lead Source_Google                             7216 non-null   bool   \n",
      " 4   Lead Source_Olark Chat                         7216 non-null   bool   \n",
      " 5   Lead Source_Organic Search                     7216 non-null   bool   \n",
      " 6   Lead Source_Others                             7216 non-null   bool   \n",
      " 7   Lead Source_Reference                          7216 non-null   bool   \n",
      " 8   Lead Origin_Landing Page Submission            7216 non-null   bool   \n",
      " 9   Lead Origin_Lead Add Form                      7216 non-null   bool   \n",
      " 10  Lead Origin_Lead Import                        7216 non-null   bool   \n",
      " 11  Last Activity_Email Bounced                    7216 non-null   bool   \n",
      " 12  Last Activity_Email Link Clicked               7216 non-null   bool   \n",
      " 13  Last Activity_Email Opened                     7216 non-null   bool   \n",
      " 14  Last Activity_Olark Chat Conversation          7216 non-null   bool   \n",
      " 15  Last Activity_Others                           7216 non-null   bool   \n",
      " 16  Last Activity_Page Visited on Website          7216 non-null   bool   \n",
      " 17  Last Activity_SMS Sent                         7216 non-null   bool   \n",
      " 18  Specialization_Business Administration         7216 non-null   bool   \n",
      " 19  Specialization_Finance Management              7216 non-null   bool   \n",
      " 20  Specialization_Human Resource Management       7216 non-null   bool   \n",
      " 21  Specialization_IT Projects Management          7216 non-null   bool   \n",
      " 22  Specialization_Marketing Management            7216 non-null   bool   \n",
      " 23  Specialization_Not_Specified                   7216 non-null   bool   \n",
      " 24  Specialization_Operations Management           7216 non-null   bool   \n",
      " 25  Specialization_Others                          7216 non-null   bool   \n",
      " 26  Specialization_Select                          7216 non-null   bool   \n",
      " 27  Specialization_Supply Chain Management         7216 non-null   bool   \n",
      " 28  Last Notable Activity_Email Opened             7216 non-null   bool   \n",
      " 29  Last Notable Activity_Modified                 7216 non-null   bool   \n",
      " 30  Last Notable Activity_Olark Chat Conversation  7216 non-null   bool   \n",
      " 31  Last Notable Activity_Others                   7216 non-null   bool   \n",
      " 32  Last Notable Activity_Page Visited on Website  7216 non-null   bool   \n",
      " 33  Last Notable Activity_SMS Sent                 7216 non-null   bool   \n",
      " 34  Tags_Closed by Horizzon                        7216 non-null   bool   \n",
      " 35  Tags_Interested in other courses               7216 non-null   bool   \n",
      " 36  Tags_Not Specified                             7216 non-null   bool   \n",
      " 37  Tags_Others                                    7216 non-null   bool   \n",
      " 38  Tags_Ringing                                   7216 non-null   bool   \n",
      " 39  Tags_Will revert after reading the email       7216 non-null   bool   \n",
      " 40  Tags_switched off                              7216 non-null   bool   \n",
      " 41  City_Other Cities                              7216 non-null   bool   \n",
      " 42  City_Other Cities of Maharashtra               7216 non-null   bool   \n",
      " 43  City_Other Metro Cities                        7216 non-null   bool   \n",
      " 44  City_Select                                    7216 non-null   bool   \n",
      " 45  City_Thane & Outskirts                         7216 non-null   bool   \n",
      " 46  City_Tier II Cities                            7216 non-null   bool   \n",
      "dtypes: bool(44), float64(2), int64(1)\n",
      "memory usage: 535.6 KB\n"
     ]
    }
   ],
   "source": [
    "X_train.info()"
   ]
  },
  {
   "cell_type": "code",
   "execution_count": null,
   "id": "a693e872-e8c9-42f3-8a54-6e8dff7912d4",
   "metadata": {},
   "outputs": [
    {
     "data": {
      "text/html": [
       "<div>\n",
       "<style scoped>\n",
       "    .dataframe tbody tr th:only-of-type {\n",
       "        vertical-align: middle;\n",
       "    }\n",
       "\n",
       "    .dataframe tbody tr th {\n",
       "        vertical-align: top;\n",
       "    }\n",
       "\n",
       "    .dataframe thead th {\n",
       "        text-align: right;\n",
       "    }\n",
       "</style>\n",
       "<table border=\"1\" class=\"dataframe\">\n",
       "  <thead>\n",
       "    <tr style=\"text-align: right;\">\n",
       "      <th></th>\n",
       "      <th>TotalVisits</th>\n",
       "      <th>Total Time Spent on Website</th>\n",
       "      <th>Page Views Per Visit</th>\n",
       "      <th>Lead Source_Google</th>\n",
       "      <th>Lead Source_Olark Chat</th>\n",
       "      <th>Lead Source_Organic Search</th>\n",
       "      <th>Lead Source_Others</th>\n",
       "      <th>Lead Source_Reference</th>\n",
       "      <th>Lead Origin_Landing Page Submission</th>\n",
       "      <th>Lead Origin_Lead Add Form</th>\n",
       "      <th>...</th>\n",
       "      <th>Tags_Others</th>\n",
       "      <th>Tags_Ringing</th>\n",
       "      <th>Tags_Will revert after reading the email</th>\n",
       "      <th>Tags_switched off</th>\n",
       "      <th>City_Other Cities</th>\n",
       "      <th>City_Other Cities of Maharashtra</th>\n",
       "      <th>City_Other Metro Cities</th>\n",
       "      <th>City_Select</th>\n",
       "      <th>City_Thane &amp; Outskirts</th>\n",
       "      <th>City_Tier II Cities</th>\n",
       "    </tr>\n",
       "  </thead>\n",
       "  <tbody>\n",
       "    <tr>\n",
       "      <th>181</th>\n",
       "      <td>-1.070983</td>\n",
       "      <td>-0.876892</td>\n",
       "      <td>-1.135114</td>\n",
       "      <td>False</td>\n",
       "      <td>True</td>\n",
       "      <td>False</td>\n",
       "      <td>False</td>\n",
       "      <td>False</td>\n",
       "      <td>False</td>\n",
       "      <td>False</td>\n",
       "      <td>...</td>\n",
       "      <td>False</td>\n",
       "      <td>False</td>\n",
       "      <td>False</td>\n",
       "      <td>False</td>\n",
       "      <td>False</td>\n",
       "      <td>False</td>\n",
       "      <td>False</td>\n",
       "      <td>True</td>\n",
       "      <td>False</td>\n",
       "      <td>False</td>\n",
       "    </tr>\n",
       "    <tr>\n",
       "      <th>3683</th>\n",
       "      <td>0.269790</td>\n",
       "      <td>0.578541</td>\n",
       "      <td>0.810806</td>\n",
       "      <td>False</td>\n",
       "      <td>False</td>\n",
       "      <td>True</td>\n",
       "      <td>False</td>\n",
       "      <td>False</td>\n",
       "      <td>True</td>\n",
       "      <td>False</td>\n",
       "      <td>...</td>\n",
       "      <td>False</td>\n",
       "      <td>False</td>\n",
       "      <td>False</td>\n",
       "      <td>True</td>\n",
       "      <td>True</td>\n",
       "      <td>False</td>\n",
       "      <td>False</td>\n",
       "      <td>False</td>\n",
       "      <td>False</td>\n",
       "      <td>False</td>\n",
       "    </tr>\n",
       "    <tr>\n",
       "      <th>8541</th>\n",
       "      <td>2.616143</td>\n",
       "      <td>2.577238</td>\n",
       "      <td>0.202706</td>\n",
       "      <td>False</td>\n",
       "      <td>True</td>\n",
       "      <td>False</td>\n",
       "      <td>False</td>\n",
       "      <td>False</td>\n",
       "      <td>False</td>\n",
       "      <td>False</td>\n",
       "      <td>...</td>\n",
       "      <td>False</td>\n",
       "      <td>False</td>\n",
       "      <td>True</td>\n",
       "      <td>False</td>\n",
       "      <td>False</td>\n",
       "      <td>False</td>\n",
       "      <td>False</td>\n",
       "      <td>True</td>\n",
       "      <td>False</td>\n",
       "      <td>False</td>\n",
       "    </tr>\n",
       "    <tr>\n",
       "      <th>2016</th>\n",
       "      <td>0.269790</td>\n",
       "      <td>1.042885</td>\n",
       "      <td>0.810806</td>\n",
       "      <td>True</td>\n",
       "      <td>False</td>\n",
       "      <td>False</td>\n",
       "      <td>False</td>\n",
       "      <td>False</td>\n",
       "      <td>True</td>\n",
       "      <td>False</td>\n",
       "      <td>...</td>\n",
       "      <td>False</td>\n",
       "      <td>False</td>\n",
       "      <td>True</td>\n",
       "      <td>False</td>\n",
       "      <td>False</td>\n",
       "      <td>True</td>\n",
       "      <td>False</td>\n",
       "      <td>False</td>\n",
       "      <td>False</td>\n",
       "      <td>False</td>\n",
       "    </tr>\n",
       "    <tr>\n",
       "      <th>1784</th>\n",
       "      <td>-1.070983</td>\n",
       "      <td>-0.876892</td>\n",
       "      <td>-1.135114</td>\n",
       "      <td>False</td>\n",
       "      <td>True</td>\n",
       "      <td>False</td>\n",
       "      <td>False</td>\n",
       "      <td>False</td>\n",
       "      <td>False</td>\n",
       "      <td>False</td>\n",
       "      <td>...</td>\n",
       "      <td>False</td>\n",
       "      <td>False</td>\n",
       "      <td>False</td>\n",
       "      <td>False</td>\n",
       "      <td>False</td>\n",
       "      <td>False</td>\n",
       "      <td>False</td>\n",
       "      <td>True</td>\n",
       "      <td>False</td>\n",
       "      <td>False</td>\n",
       "    </tr>\n",
       "  </tbody>\n",
       "</table>\n",
       "<p>5 rows × 47 columns</p>\n",
       "</div>"
      ],
      "text/plain": [
       "      TotalVisits  Total Time Spent on Website  Page Views Per Visit  \\\n",
       "181     -1.070983                    -0.876892             -1.135114   \n",
       "3683     0.269790                     0.578541              0.810806   \n",
       "8541     2.616143                     2.577238              0.202706   \n",
       "2016     0.269790                     1.042885              0.810806   \n",
       "1784    -1.070983                    -0.876892             -1.135114   \n",
       "\n",
       "      Lead Source_Google  Lead Source_Olark Chat  Lead Source_Organic Search  \\\n",
       "181                False                    True                       False   \n",
       "3683               False                   False                        True   \n",
       "8541               False                    True                       False   \n",
       "2016                True                   False                       False   \n",
       "1784               False                    True                       False   \n",
       "\n",
       "      Lead Source_Others  Lead Source_Reference  \\\n",
       "181                False                  False   \n",
       "3683               False                  False   \n",
       "8541               False                  False   \n",
       "2016               False                  False   \n",
       "1784               False                  False   \n",
       "\n",
       "      Lead Origin_Landing Page Submission  Lead Origin_Lead Add Form  ...  \\\n",
       "181                                 False                      False  ...   \n",
       "3683                                 True                      False  ...   \n",
       "8541                                False                      False  ...   \n",
       "2016                                 True                      False  ...   \n",
       "1784                                False                      False  ...   \n",
       "\n",
       "      Tags_Others  Tags_Ringing  Tags_Will revert after reading the email  \\\n",
       "181         False         False                                     False   \n",
       "3683        False         False                                     False   \n",
       "8541        False         False                                      True   \n",
       "2016        False         False                                      True   \n",
       "1784        False         False                                     False   \n",
       "\n",
       "      Tags_switched off  City_Other Cities  City_Other Cities of Maharashtra  \\\n",
       "181               False              False                             False   \n",
       "3683               True               True                             False   \n",
       "8541              False              False                             False   \n",
       "2016              False              False                              True   \n",
       "1784              False              False                             False   \n",
       "\n",
       "      City_Other Metro Cities  City_Select  City_Thane & Outskirts  \\\n",
       "181                     False         True                   False   \n",
       "3683                    False        False                   False   \n",
       "8541                    False         True                   False   \n",
       "2016                    False        False                   False   \n",
       "1784                    False         True                   False   \n",
       "\n",
       "      City_Tier II Cities  \n",
       "181                 False  \n",
       "3683                False  \n",
       "8541                False  \n",
       "2016                False  \n",
       "1784                False  \n",
       "\n",
       "[5 rows x 47 columns]"
      ]
     },
     "execution_count": 557,
     "metadata": {},
     "output_type": "execute_result"
    }
   ],
   "source": [
    "from sklearn.preprocessing import StandardScaler\n",
    "scaler=StandardScaler()\n",
    "num_cols = X_train.select_dtypes(include = ['float64', 'int64']).columns\n",
    "X_train[num_cols]=scaler.fit_transform(X_train[num_cols])\n",
    "X_train.head()"
   ]
  },
  {
   "cell_type": "code",
   "execution_count": null,
   "id": "0ab22b5b-b996-4b7a-a4e0-699ba3a83915",
   "metadata": {},
   "outputs": [],
   "source": [
    "import statsmodels.api as sm"
   ]
  },
  {
   "cell_type": "markdown",
   "id": "4918f239-5be0-423c-a285-17fb74855349",
   "metadata": {},
   "source": [
    "#### Using RFE model to limit the number of variables to 15"
   ]
  },
  {
   "cell_type": "code",
   "execution_count": null,
   "id": "58647f69-98c0-4001-ba1d-ce2fb2921974",
   "metadata": {},
   "outputs": [],
   "source": [
    "from sklearn.linear_model import LogisticRegression\n",
    "logreg = LogisticRegression()\n",
    "from sklearn.feature_selection import RFE\n",
    "rfe = RFE(estimator=logreg, n_features_to_select=15)\n",
    "rfe = rfe.fit(X_train, y_train)"
   ]
  },
  {
   "cell_type": "code",
   "execution_count": null,
   "id": "dad88900-c21e-4e61-8b3c-a32c8865563e",
   "metadata": {},
   "outputs": [
    {
     "data": {
      "text/plain": [
       "array([False,  True, False, False,  True, False, False,  True, False,\n",
       "        True, False,  True, False, False,  True, False, False, False,\n",
       "       False, False, False, False, False, False, False, False, False,\n",
       "       False, False, False, False, False, False,  True,  True,  True,\n",
       "        True,  True,  True,  True,  True, False, False, False,  True,\n",
       "       False, False])"
      ]
     },
     "execution_count": 560,
     "metadata": {},
     "output_type": "execute_result"
    }
   ],
   "source": [
    "rfe.support_"
   ]
  },
  {
   "cell_type": "code",
   "execution_count": null,
   "id": "85b1085d-956d-407c-b44c-872c434b7eb7",
   "metadata": {},
   "outputs": [
    {
     "data": {
      "text/plain": [
       "[('TotalVisits', np.False_, np.int64(15)),\n",
       " ('Total Time Spent on Website', np.True_, np.int64(1)),\n",
       " ('Page Views Per Visit', np.False_, np.int64(17)),\n",
       " ('Lead Source_Google', np.False_, np.int64(21)),\n",
       " ('Lead Source_Olark Chat', np.True_, np.int64(1)),\n",
       " ('Lead Source_Organic Search', np.False_, np.int64(29)),\n",
       " ('Lead Source_Others', np.False_, np.int64(7)),\n",
       " ('Lead Source_Reference', np.True_, np.int64(1)),\n",
       " ('Lead Origin_Landing Page Submission', np.False_, np.int64(5)),\n",
       " ('Lead Origin_Lead Add Form', np.True_, np.int64(1)),\n",
       " ('Lead Origin_Lead Import', np.False_, np.int64(16)),\n",
       " ('Last Activity_Email Bounced', np.True_, np.int64(1)),\n",
       " ('Last Activity_Email Link Clicked', np.False_, np.int64(33)),\n",
       " ('Last Activity_Email Opened', np.False_, np.int64(3)),\n",
       " ('Last Activity_Olark Chat Conversation', np.True_, np.int64(1)),\n",
       " ('Last Activity_Others', np.False_, np.int64(6)),\n",
       " ('Last Activity_Page Visited on Website', np.False_, np.int64(19)),\n",
       " ('Last Activity_SMS Sent', np.False_, np.int64(2)),\n",
       " ('Specialization_Business Administration', np.False_, np.int64(30)),\n",
       " ('Specialization_Finance Management', np.False_, np.int64(31)),\n",
       " ('Specialization_Human Resource Management', np.False_, np.int64(13)),\n",
       " ('Specialization_IT Projects Management', np.False_, np.int64(24)),\n",
       " ('Specialization_Marketing Management', np.False_, np.int64(26)),\n",
       " ('Specialization_Not_Specified', np.False_, np.int64(4)),\n",
       " ('Specialization_Operations Management', np.False_, np.int64(23)),\n",
       " ('Specialization_Others', np.False_, np.int64(10)),\n",
       " ('Specialization_Select', np.False_, np.int64(20)),\n",
       " ('Specialization_Supply Chain Management', np.False_, np.int64(9)),\n",
       " ('Last Notable Activity_Email Opened', np.False_, np.int64(11)),\n",
       " ('Last Notable Activity_Modified', np.False_, np.int64(8)),\n",
       " ('Last Notable Activity_Olark Chat Conversation', np.False_, np.int64(12)),\n",
       " ('Last Notable Activity_Others', np.False_, np.int64(22)),\n",
       " ('Last Notable Activity_Page Visited on Website', np.False_, np.int64(18)),\n",
       " ('Last Notable Activity_SMS Sent', np.True_, np.int64(1)),\n",
       " ('Tags_Closed by Horizzon', np.True_, np.int64(1)),\n",
       " ('Tags_Interested in other courses', np.True_, np.int64(1)),\n",
       " ('Tags_Not Specified', np.True_, np.int64(1)),\n",
       " ('Tags_Others', np.True_, np.int64(1)),\n",
       " ('Tags_Ringing', np.True_, np.int64(1)),\n",
       " ('Tags_Will revert after reading the email', np.True_, np.int64(1)),\n",
       " ('Tags_switched off', np.True_, np.int64(1)),\n",
       " ('City_Other Cities', np.False_, np.int64(32)),\n",
       " ('City_Other Cities of Maharashtra', np.False_, np.int64(25)),\n",
       " ('City_Other Metro Cities', np.False_, np.int64(14)),\n",
       " ('City_Select', np.True_, np.int64(1)),\n",
       " ('City_Thane & Outskirts', np.False_, np.int64(28)),\n",
       " ('City_Tier II Cities', np.False_, np.int64(27))]"
      ]
     },
     "execution_count": 561,
     "metadata": {},
     "output_type": "execute_result"
    }
   ],
   "source": [
    "list(zip(X_train.columns, rfe.support_,rfe.ranking_))"
   ]
  },
  {
   "cell_type": "code",
   "execution_count": null,
   "id": "d17b6b76-618c-402b-bfbc-b7eddccbb4fb",
   "metadata": {},
   "outputs": [
    {
     "data": {
      "text/plain": [
       "Index(['Total Time Spent on Website', 'Lead Source_Olark Chat',\n",
       "       'Lead Source_Reference', 'Lead Origin_Lead Add Form',\n",
       "       'Last Activity_Email Bounced', 'Last Activity_Olark Chat Conversation',\n",
       "       'Last Notable Activity_SMS Sent', 'Tags_Closed by Horizzon',\n",
       "       'Tags_Interested in other courses', 'Tags_Not Specified', 'Tags_Others',\n",
       "       'Tags_Ringing', 'Tags_Will revert after reading the email',\n",
       "       'Tags_switched off', 'City_Select'],\n",
       "      dtype='object')"
      ]
     },
     "execution_count": 562,
     "metadata": {},
     "output_type": "execute_result"
    }
   ],
   "source": [
    "col = X_train.columns[rfe.support_]\n",
    "col"
   ]
  },
  {
   "cell_type": "markdown",
   "id": "5b6e9431-2fbd-4bbb-8f3f-0b9b40e36e8b",
   "metadata": {},
   "source": [
    "### Building Model"
   ]
  },
  {
   "cell_type": "code",
   "execution_count": null,
   "id": "0dbdae8a-d046-46c0-97e8-ab0996e3c4bf",
   "metadata": {},
   "outputs": [
    {
     "name": "stdout",
     "output_type": "stream",
     "text": [
      "Total Time Spent on Website                 float64\n",
      "Lead Source_Olark Chat                         bool\n",
      "Lead Source_Reference                          bool\n",
      "Lead Origin_Lead Add Form                      bool\n",
      "Last Activity_Email Bounced                    bool\n",
      "Last Activity_Olark Chat Conversation          bool\n",
      "Last Notable Activity_SMS Sent                 bool\n",
      "Tags_Closed by Horizzon                        bool\n",
      "Tags_Interested in other courses               bool\n",
      "Tags_Not Specified                             bool\n",
      "Tags_Others                                    bool\n",
      "Tags_Ringing                                   bool\n",
      "Tags_Will revert after reading the email       bool\n",
      "Tags_switched off                              bool\n",
      "City_Select                                    bool\n",
      "dtype: object\n",
      "int64\n"
     ]
    }
   ],
   "source": [
    "print(X_train[col].dtypes)\n",
    "print(y_train.dtypes)"
   ]
  },
  {
   "cell_type": "code",
   "execution_count": null,
   "id": "9f37297f-eaa7-4d16-aa96-e5d00312f532",
   "metadata": {},
   "outputs": [],
   "source": [
    "X_train[col] = X_train[col].apply(pd.to_numeric, errors='coerce')\n",
    "y_train = pd.to_numeric(y_train, errors='coerce')"
   ]
  },
  {
   "cell_type": "code",
   "execution_count": null,
   "id": "5b43b54e-0d4f-4707-9658-45e8bb154ea6",
   "metadata": {},
   "outputs": [],
   "source": [
    "X_train[col] = X_train[col].astype(int)"
   ]
  },
  {
   "cell_type": "code",
   "execution_count": null,
   "id": "f980d875-138b-453a-bbb7-a64615011a35",
   "metadata": {},
   "outputs": [
    {
     "name": "stdout",
     "output_type": "stream",
     "text": [
      "Total Time Spent on Website                 int64\n",
      "Lead Source_Olark Chat                      int64\n",
      "Lead Source_Reference                       int64\n",
      "Lead Origin_Lead Add Form                   int64\n",
      "Last Activity_Email Bounced                 int64\n",
      "Last Activity_Olark Chat Conversation       int64\n",
      "Last Notable Activity_SMS Sent              int64\n",
      "Tags_Closed by Horizzon                     int64\n",
      "Tags_Interested in other courses            int64\n",
      "Tags_Not Specified                          int64\n",
      "Tags_Others                                 int64\n",
      "Tags_Ringing                                int64\n",
      "Tags_Will revert after reading the email    int64\n",
      "Tags_switched off                           int64\n",
      "City_Select                                 int64\n",
      "dtype: object\n",
      "int64\n"
     ]
    }
   ],
   "source": [
    "print(X_train[col].dtypes)\n",
    "print(y_train.dtypes)"
   ]
  },
  {
   "cell_type": "code",
   "execution_count": null,
   "id": "9dfaa85f-e2ca-46e9-ab21-6fe17e266b6a",
   "metadata": {},
   "outputs": [
    {
     "data": {
      "text/html": [
       "<table class=\"simpletable\">\n",
       "<caption>Generalized Linear Model Regression Results</caption>\n",
       "<tr>\n",
       "  <th>Dep. Variable:</th>       <td>Converted</td>    <th>  No. Observations:  </th>  <td>  7216</td> \n",
       "</tr>\n",
       "<tr>\n",
       "  <th>Model:</th>                  <td>GLM</td>       <th>  Df Residuals:      </th>  <td>  7200</td> \n",
       "</tr>\n",
       "<tr>\n",
       "  <th>Model Family:</th>        <td>Binomial</td>     <th>  Df Model:          </th>  <td>    15</td> \n",
       "</tr>\n",
       "<tr>\n",
       "  <th>Link Function:</th>         <td>Logit</td>      <th>  Scale:             </th> <td>  1.0000</td>\n",
       "</tr>\n",
       "<tr>\n",
       "  <th>Method:</th>                <td>IRLS</td>       <th>  Log-Likelihood:    </th> <td> -1685.7</td>\n",
       "</tr>\n",
       "<tr>\n",
       "  <th>Date:</th>            <td>Sun, 15 Dec 2024</td> <th>  Deviance:          </th> <td>  3371.5</td>\n",
       "</tr>\n",
       "<tr>\n",
       "  <th>Time:</th>                <td>17:48:58</td>     <th>  Pearson chi2:      </th> <td>1.03e+04</td>\n",
       "</tr>\n",
       "<tr>\n",
       "  <th>No. Iterations:</th>          <td>8</td>        <th>  Pseudo R-squ. (CS):</th>  <td>0.5753</td> \n",
       "</tr>\n",
       "<tr>\n",
       "  <th>Covariance Type:</th>     <td>nonrobust</td>    <th>                     </th>     <td> </td>   \n",
       "</tr>\n",
       "</table>\n",
       "<table class=\"simpletable\">\n",
       "<tr>\n",
       "                      <td></td>                        <th>coef</th>     <th>std err</th>      <th>z</th>      <th>P>|z|</th>  <th>[0.025</th>    <th>0.975]</th>  \n",
       "</tr>\n",
       "<tr>\n",
       "  <th>const</th>                                    <td>   -5.8309</td> <td>    0.599</td> <td>   -9.727</td> <td> 0.000</td> <td>   -7.006</td> <td>   -4.656</td>\n",
       "</tr>\n",
       "<tr>\n",
       "  <th>Total Time Spent on Website</th>              <td>    1.4777</td> <td>    0.085</td> <td>   17.380</td> <td> 0.000</td> <td>    1.311</td> <td>    1.644</td>\n",
       "</tr>\n",
       "<tr>\n",
       "  <th>Lead Source_Olark Chat</th>                   <td>    0.3731</td> <td>    0.122</td> <td>    3.058</td> <td> 0.002</td> <td>    0.134</td> <td>    0.612</td>\n",
       "</tr>\n",
       "<tr>\n",
       "  <th>Lead Source_Reference</th>                    <td>   -2.4575</td> <td>    0.622</td> <td>   -3.951</td> <td> 0.000</td> <td>   -3.676</td> <td>   -1.238</td>\n",
       "</tr>\n",
       "<tr>\n",
       "  <th>Lead Origin_Lead Add Form</th>                <td>    3.3721</td> <td>    0.511</td> <td>    6.605</td> <td> 0.000</td> <td>    2.371</td> <td>    4.373</td>\n",
       "</tr>\n",
       "<tr>\n",
       "  <th>Last Activity_Email Bounced</th>              <td>   -1.9652</td> <td>    0.386</td> <td>   -5.094</td> <td> 0.000</td> <td>   -2.721</td> <td>   -1.209</td>\n",
       "</tr>\n",
       "<tr>\n",
       "  <th>Last Activity_Olark Chat Conversation</th>    <td>   -1.4906</td> <td>    0.190</td> <td>   -7.858</td> <td> 0.000</td> <td>   -1.862</td> <td>   -1.119</td>\n",
       "</tr>\n",
       "<tr>\n",
       "  <th>Last Notable Activity_SMS Sent</th>           <td>    2.1423</td> <td>    0.112</td> <td>   19.096</td> <td> 0.000</td> <td>    1.922</td> <td>    2.362</td>\n",
       "</tr>\n",
       "<tr>\n",
       "  <th>Tags_Closed by Horizzon</th>                  <td>   10.4578</td> <td>    1.174</td> <td>    8.911</td> <td> 0.000</td> <td>    8.158</td> <td>   12.758</td>\n",
       "</tr>\n",
       "<tr>\n",
       "  <th>Tags_Interested in other courses</th>         <td>    0.7051</td> <td>    0.692</td> <td>    1.018</td> <td> 0.309</td> <td>   -0.652</td> <td>    2.062</td>\n",
       "</tr>\n",
       "<tr>\n",
       "  <th>Tags_Not Specified</th>                       <td>    3.6526</td> <td>    0.597</td> <td>    6.117</td> <td> 0.000</td> <td>    2.482</td> <td>    4.823</td>\n",
       "</tr>\n",
       "<tr>\n",
       "  <th>Tags_Others</th>                              <td>    3.7562</td> <td>    0.600</td> <td>    6.258</td> <td> 0.000</td> <td>    2.580</td> <td>    4.933</td>\n",
       "</tr>\n",
       "<tr>\n",
       "  <th>Tags_Ringing</th>                             <td>   -0.0641</td> <td>    0.633</td> <td>   -0.101</td> <td> 0.919</td> <td>   -1.305</td> <td>    1.176</td>\n",
       "</tr>\n",
       "<tr>\n",
       "  <th>Tags_Will revert after reading the email</th> <td>    8.1037</td> <td>    0.617</td> <td>   13.136</td> <td> 0.000</td> <td>    6.895</td> <td>    9.313</td>\n",
       "</tr>\n",
       "<tr>\n",
       "  <th>Tags_switched off</th>                        <td>   -0.7123</td> <td>    0.858</td> <td>   -0.830</td> <td> 0.407</td> <td>   -2.394</td> <td>    0.970</td>\n",
       "</tr>\n",
       "<tr>\n",
       "  <th>City_Select</th>                              <td>    1.3511</td> <td>    0.116</td> <td>   11.653</td> <td> 0.000</td> <td>    1.124</td> <td>    1.578</td>\n",
       "</tr>\n",
       "</table>"
      ],
      "text/latex": [
       "\\begin{center}\n",
       "\\begin{tabular}{lclc}\n",
       "\\toprule\n",
       "\\textbf{Dep. Variable:}                            &    Converted     & \\textbf{  No. Observations:  } &     7216    \\\\\n",
       "\\textbf{Model:}                                    &       GLM        & \\textbf{  Df Residuals:      } &     7200    \\\\\n",
       "\\textbf{Model Family:}                             &     Binomial     & \\textbf{  Df Model:          } &       15    \\\\\n",
       "\\textbf{Link Function:}                            &      Logit       & \\textbf{  Scale:             } &    1.0000   \\\\\n",
       "\\textbf{Method:}                                   &       IRLS       & \\textbf{  Log-Likelihood:    } &   -1685.7   \\\\\n",
       "\\textbf{Date:}                                     & Sun, 15 Dec 2024 & \\textbf{  Deviance:          } &    3371.5   \\\\\n",
       "\\textbf{Time:}                                     &     17:48:58     & \\textbf{  Pearson chi2:      } &  1.03e+04   \\\\\n",
       "\\textbf{No. Iterations:}                           &        8         & \\textbf{  Pseudo R-squ. (CS):} &   0.5753    \\\\\n",
       "\\textbf{Covariance Type:}                          &    nonrobust     & \\textbf{                     } &             \\\\\n",
       "\\bottomrule\n",
       "\\end{tabular}\n",
       "\\begin{tabular}{lcccccc}\n",
       "                                                   & \\textbf{coef} & \\textbf{std err} & \\textbf{z} & \\textbf{P$> |$z$|$} & \\textbf{[0.025} & \\textbf{0.975]}  \\\\\n",
       "\\midrule\n",
       "\\textbf{const}                                     &      -5.8309  &        0.599     &    -9.727  &         0.000        &       -7.006    &       -4.656     \\\\\n",
       "\\textbf{Total Time Spent on Website}               &       1.4777  &        0.085     &    17.380  &         0.000        &        1.311    &        1.644     \\\\\n",
       "\\textbf{Lead Source\\_Olark Chat}                   &       0.3731  &        0.122     &     3.058  &         0.002        &        0.134    &        0.612     \\\\\n",
       "\\textbf{Lead Source\\_Reference}                    &      -2.4575  &        0.622     &    -3.951  &         0.000        &       -3.676    &       -1.238     \\\\\n",
       "\\textbf{Lead Origin\\_Lead Add Form}                &       3.3721  &        0.511     &     6.605  &         0.000        &        2.371    &        4.373     \\\\\n",
       "\\textbf{Last Activity\\_Email Bounced}              &      -1.9652  &        0.386     &    -5.094  &         0.000        &       -2.721    &       -1.209     \\\\\n",
       "\\textbf{Last Activity\\_Olark Chat Conversation}    &      -1.4906  &        0.190     &    -7.858  &         0.000        &       -1.862    &       -1.119     \\\\\n",
       "\\textbf{Last Notable Activity\\_SMS Sent}           &       2.1423  &        0.112     &    19.096  &         0.000        &        1.922    &        2.362     \\\\\n",
       "\\textbf{Tags\\_Closed by Horizzon}                  &      10.4578  &        1.174     &     8.911  &         0.000        &        8.158    &       12.758     \\\\\n",
       "\\textbf{Tags\\_Interested in other courses}         &       0.7051  &        0.692     &     1.018  &         0.309        &       -0.652    &        2.062     \\\\\n",
       "\\textbf{Tags\\_Not Specified}                       &       3.6526  &        0.597     &     6.117  &         0.000        &        2.482    &        4.823     \\\\\n",
       "\\textbf{Tags\\_Others}                              &       3.7562  &        0.600     &     6.258  &         0.000        &        2.580    &        4.933     \\\\\n",
       "\\textbf{Tags\\_Ringing}                             &      -0.0641  &        0.633     &    -0.101  &         0.919        &       -1.305    &        1.176     \\\\\n",
       "\\textbf{Tags\\_Will revert after reading the email} &       8.1037  &        0.617     &    13.136  &         0.000        &        6.895    &        9.313     \\\\\n",
       "\\textbf{Tags\\_switched off}                        &      -0.7123  &        0.858     &    -0.830  &         0.407        &       -2.394    &        0.970     \\\\\n",
       "\\textbf{City\\_Select}                              &       1.3511  &        0.116     &    11.653  &         0.000        &        1.124    &        1.578     \\\\\n",
       "\\bottomrule\n",
       "\\end{tabular}\n",
       "%\\caption{Generalized Linear Model Regression Results}\n",
       "\\end{center}"
      ],
      "text/plain": [
       "<class 'statsmodels.iolib.summary.Summary'>\n",
       "\"\"\"\n",
       "                 Generalized Linear Model Regression Results                  \n",
       "==============================================================================\n",
       "Dep. Variable:              Converted   No. Observations:                 7216\n",
       "Model:                            GLM   Df Residuals:                     7200\n",
       "Model Family:                Binomial   Df Model:                           15\n",
       "Link Function:                  Logit   Scale:                          1.0000\n",
       "Method:                          IRLS   Log-Likelihood:                -1685.7\n",
       "Date:                Sun, 15 Dec 2024   Deviance:                       3371.5\n",
       "Time:                        17:48:58   Pearson chi2:                 1.03e+04\n",
       "No. Iterations:                     8   Pseudo R-squ. (CS):             0.5753\n",
       "Covariance Type:            nonrobust                                         \n",
       "============================================================================================================\n",
       "                                               coef    std err          z      P>|z|      [0.025      0.975]\n",
       "------------------------------------------------------------------------------------------------------------\n",
       "const                                       -5.8309      0.599     -9.727      0.000      -7.006      -4.656\n",
       "Total Time Spent on Website                  1.4777      0.085     17.380      0.000       1.311       1.644\n",
       "Lead Source_Olark Chat                       0.3731      0.122      3.058      0.002       0.134       0.612\n",
       "Lead Source_Reference                       -2.4575      0.622     -3.951      0.000      -3.676      -1.238\n",
       "Lead Origin_Lead Add Form                    3.3721      0.511      6.605      0.000       2.371       4.373\n",
       "Last Activity_Email Bounced                 -1.9652      0.386     -5.094      0.000      -2.721      -1.209\n",
       "Last Activity_Olark Chat Conversation       -1.4906      0.190     -7.858      0.000      -1.862      -1.119\n",
       "Last Notable Activity_SMS Sent               2.1423      0.112     19.096      0.000       1.922       2.362\n",
       "Tags_Closed by Horizzon                     10.4578      1.174      8.911      0.000       8.158      12.758\n",
       "Tags_Interested in other courses             0.7051      0.692      1.018      0.309      -0.652       2.062\n",
       "Tags_Not Specified                           3.6526      0.597      6.117      0.000       2.482       4.823\n",
       "Tags_Others                                  3.7562      0.600      6.258      0.000       2.580       4.933\n",
       "Tags_Ringing                                -0.0641      0.633     -0.101      0.919      -1.305       1.176\n",
       "Tags_Will revert after reading the email     8.1037      0.617     13.136      0.000       6.895       9.313\n",
       "Tags_switched off                           -0.7123      0.858     -0.830      0.407      -2.394       0.970\n",
       "City_Select                                  1.3511      0.116     11.653      0.000       1.124       1.578\n",
       "============================================================================================================\n",
       "\"\"\""
      ]
     },
     "execution_count": 567,
     "metadata": {},
     "output_type": "execute_result"
    }
   ],
   "source": [
    "X_train_sm = sm.add_constant(X_train[col])\n",
    "logm1 = sm.GLM(y_train,X_train_sm, family = sm.families.Binomial())\n",
    "res = logm1.fit()\n",
    "res.summary()"
   ]
  },
  {
   "cell_type": "code",
   "execution_count": null,
   "id": "9ee32150",
   "metadata": {},
   "outputs": [],
   "source": [
    "### check for VIF values of the feature variables\n",
    "from statsmodels.stats.outliers_influence import variance_inflation_factor"
   ]
  },
  {
   "cell_type": "code",
   "execution_count": null,
   "id": "eccb0aea",
   "metadata": {},
   "outputs": [
    {
     "data": {
      "text/html": [
       "<div>\n",
       "<style scoped>\n",
       "    .dataframe tbody tr th:only-of-type {\n",
       "        vertical-align: middle;\n",
       "    }\n",
       "\n",
       "    .dataframe tbody tr th {\n",
       "        vertical-align: top;\n",
       "    }\n",
       "\n",
       "    .dataframe thead th {\n",
       "        text-align: right;\n",
       "    }\n",
       "</style>\n",
       "<table border=\"1\" class=\"dataframe\">\n",
       "  <thead>\n",
       "    <tr style=\"text-align: right;\">\n",
       "      <th></th>\n",
       "      <th>Features</th>\n",
       "      <th>VIF</th>\n",
       "    </tr>\n",
       "  </thead>\n",
       "  <tbody>\n",
       "    <tr>\n",
       "      <th>3</th>\n",
       "      <td>Lead Origin_Lead Add Form</td>\n",
       "      <td>4.14</td>\n",
       "    </tr>\n",
       "    <tr>\n",
       "      <th>2</th>\n",
       "      <td>Lead Source_Reference</td>\n",
       "      <td>3.87</td>\n",
       "    </tr>\n",
       "    <tr>\n",
       "      <th>1</th>\n",
       "      <td>Lead Source_Olark Chat</td>\n",
       "      <td>1.75</td>\n",
       "    </tr>\n",
       "    <tr>\n",
       "      <th>12</th>\n",
       "      <td>Tags_Will revert after reading the email</td>\n",
       "      <td>1.73</td>\n",
       "    </tr>\n",
       "    <tr>\n",
       "      <th>6</th>\n",
       "      <td>Last Notable Activity_SMS Sent</td>\n",
       "      <td>1.60</td>\n",
       "    </tr>\n",
       "    <tr>\n",
       "      <th>14</th>\n",
       "      <td>City_Select</td>\n",
       "      <td>1.59</td>\n",
       "    </tr>\n",
       "    <tr>\n",
       "      <th>9</th>\n",
       "      <td>Tags_Not Specified</td>\n",
       "      <td>1.57</td>\n",
       "    </tr>\n",
       "    <tr>\n",
       "      <th>5</th>\n",
       "      <td>Last Activity_Olark Chat Conversation</td>\n",
       "      <td>1.44</td>\n",
       "    </tr>\n",
       "    <tr>\n",
       "      <th>0</th>\n",
       "      <td>Total Time Spent on Website</td>\n",
       "      <td>1.42</td>\n",
       "    </tr>\n",
       "    <tr>\n",
       "      <th>7</th>\n",
       "      <td>Tags_Closed by Horizzon</td>\n",
       "      <td>1.19</td>\n",
       "    </tr>\n",
       "    <tr>\n",
       "      <th>11</th>\n",
       "      <td>Tags_Ringing</td>\n",
       "      <td>1.15</td>\n",
       "    </tr>\n",
       "    <tr>\n",
       "      <th>10</th>\n",
       "      <td>Tags_Others</td>\n",
       "      <td>1.13</td>\n",
       "    </tr>\n",
       "    <tr>\n",
       "      <th>8</th>\n",
       "      <td>Tags_Interested in other courses</td>\n",
       "      <td>1.10</td>\n",
       "    </tr>\n",
       "    <tr>\n",
       "      <th>4</th>\n",
       "      <td>Last Activity_Email Bounced</td>\n",
       "      <td>1.06</td>\n",
       "    </tr>\n",
       "    <tr>\n",
       "      <th>13</th>\n",
       "      <td>Tags_switched off</td>\n",
       "      <td>1.04</td>\n",
       "    </tr>\n",
       "  </tbody>\n",
       "</table>\n",
       "</div>"
      ],
      "text/plain": [
       "                                    Features   VIF\n",
       "3                  Lead Origin_Lead Add Form  4.14\n",
       "2                      Lead Source_Reference  3.87\n",
       "1                     Lead Source_Olark Chat  1.75\n",
       "12  Tags_Will revert after reading the email  1.73\n",
       "6             Last Notable Activity_SMS Sent  1.60\n",
       "14                               City_Select  1.59\n",
       "9                         Tags_Not Specified  1.57\n",
       "5      Last Activity_Olark Chat Conversation  1.44\n",
       "0                Total Time Spent on Website  1.42\n",
       "7                    Tags_Closed by Horizzon  1.19\n",
       "11                              Tags_Ringing  1.15\n",
       "10                               Tags_Others  1.13\n",
       "8           Tags_Interested in other courses  1.10\n",
       "4                Last Activity_Email Bounced  1.06\n",
       "13                         Tags_switched off  1.04"
      ]
     },
     "execution_count": 569,
     "metadata": {},
     "output_type": "execute_result"
    }
   ],
   "source": [
    "vif = pd.DataFrame()\n",
    "vif['Features'] = X_train[col].columns\n",
    "vif['VIF'] = [variance_inflation_factor(X_train[col].values, i) for i in range(X_train[col].shape[1])]\n",
    "vif['VIF'] = round(vif['VIF'], 2)\n",
    "vif = vif.sort_values(by = \"VIF\", ascending = False)\n",
    "vif"
   ]
  },
  {
   "cell_type": "markdown",
   "id": "19f827de-326e-41ea-821f-841b41c42007",
   "metadata": {},
   "source": [
    "#### Building Model 2"
   ]
  },
  {
   "cell_type": "code",
   "execution_count": null,
   "id": "aaba2dd3-1cdd-4fdd-a10d-39a7219aae7f",
   "metadata": {},
   "outputs": [],
   "source": [
    "col=col.drop('Tags_Ringing', 1)"
   ]
  },
  {
   "cell_type": "code",
   "execution_count": null,
   "id": "54e6aa66-043f-4a93-a462-f7c4bc4ea957",
   "metadata": {},
   "outputs": [
    {
     "data": {
      "text/html": [
       "<table class=\"simpletable\">\n",
       "<caption>Generalized Linear Model Regression Results</caption>\n",
       "<tr>\n",
       "  <th>Dep. Variable:</th>       <td>Converted</td>    <th>  No. Observations:  </th>  <td>  7216</td> \n",
       "</tr>\n",
       "<tr>\n",
       "  <th>Model:</th>                  <td>GLM</td>       <th>  Df Residuals:      </th>  <td>  7201</td> \n",
       "</tr>\n",
       "<tr>\n",
       "  <th>Model Family:</th>        <td>Binomial</td>     <th>  Df Model:          </th>  <td>    14</td> \n",
       "</tr>\n",
       "<tr>\n",
       "  <th>Link Function:</th>         <td>Logit</td>      <th>  Scale:             </th> <td>  1.0000</td>\n",
       "</tr>\n",
       "<tr>\n",
       "  <th>Method:</th>                <td>IRLS</td>       <th>  Log-Likelihood:    </th> <td> -1685.7</td>\n",
       "</tr>\n",
       "<tr>\n",
       "  <th>Date:</th>            <td>Sun, 15 Dec 2024</td> <th>  Deviance:          </th> <td>  3371.5</td>\n",
       "</tr>\n",
       "<tr>\n",
       "  <th>Time:</th>                <td>17:48:59</td>     <th>  Pearson chi2:      </th> <td>1.03e+04</td>\n",
       "</tr>\n",
       "<tr>\n",
       "  <th>No. Iterations:</th>          <td>8</td>        <th>  Pseudo R-squ. (CS):</th>  <td>0.5753</td> \n",
       "</tr>\n",
       "<tr>\n",
       "  <th>Covariance Type:</th>     <td>nonrobust</td>    <th>                     </th>     <td> </td>   \n",
       "</tr>\n",
       "</table>\n",
       "<table class=\"simpletable\">\n",
       "<tr>\n",
       "                      <td></td>                        <th>coef</th>     <th>std err</th>      <th>z</th>      <th>P>|z|</th>  <th>[0.025</th>    <th>0.975]</th>  \n",
       "</tr>\n",
       "<tr>\n",
       "  <th>const</th>                                    <td>   -5.8871</td> <td>    0.230</td> <td>  -25.600</td> <td> 0.000</td> <td>   -6.338</td> <td>   -5.436</td>\n",
       "</tr>\n",
       "<tr>\n",
       "  <th>Total Time Spent on Website</th>              <td>    1.4777</td> <td>    0.085</td> <td>   17.379</td> <td> 0.000</td> <td>    1.311</td> <td>    1.644</td>\n",
       "</tr>\n",
       "<tr>\n",
       "  <th>Lead Source_Olark Chat</th>                   <td>    0.3734</td> <td>    0.122</td> <td>    3.060</td> <td> 0.002</td> <td>    0.134</td> <td>    0.613</td>\n",
       "</tr>\n",
       "<tr>\n",
       "  <th>Lead Source_Reference</th>                    <td>   -2.4583</td> <td>    0.622</td> <td>   -3.954</td> <td> 0.000</td> <td>   -3.677</td> <td>   -1.240</td>\n",
       "</tr>\n",
       "<tr>\n",
       "  <th>Lead Origin_Lead Add Form</th>                <td>    3.3716</td> <td>    0.510</td> <td>    6.606</td> <td> 0.000</td> <td>    2.371</td> <td>    4.372</td>\n",
       "</tr>\n",
       "<tr>\n",
       "  <th>Last Activity_Email Bounced</th>              <td>   -1.9653</td> <td>    0.386</td> <td>   -5.095</td> <td> 0.000</td> <td>   -2.721</td> <td>   -1.209</td>\n",
       "</tr>\n",
       "<tr>\n",
       "  <th>Last Activity_Olark Chat Conversation</th>    <td>   -1.4907</td> <td>    0.190</td> <td>   -7.858</td> <td> 0.000</td> <td>   -1.863</td> <td>   -1.119</td>\n",
       "</tr>\n",
       "<tr>\n",
       "  <th>Last Notable Activity_SMS Sent</th>           <td>    2.1409</td> <td>    0.111</td> <td>   19.234</td> <td> 0.000</td> <td>    1.923</td> <td>    2.359</td>\n",
       "</tr>\n",
       "<tr>\n",
       "  <th>Tags_Closed by Horizzon</th>                  <td>   10.5144</td> <td>    1.033</td> <td>   10.177</td> <td> 0.000</td> <td>    8.489</td> <td>   12.539</td>\n",
       "</tr>\n",
       "<tr>\n",
       "  <th>Tags_Interested in other courses</th>         <td>    0.7615</td> <td>    0.415</td> <td>    1.835</td> <td> 0.067</td> <td>   -0.052</td> <td>    1.575</td>\n",
       "</tr>\n",
       "<tr>\n",
       "  <th>Tags_Not Specified</th>                       <td>    3.7091</td> <td>    0.218</td> <td>   17.051</td> <td> 0.000</td> <td>    3.283</td> <td>    4.135</td>\n",
       "</tr>\n",
       "<tr>\n",
       "  <th>Tags_Others</th>                              <td>    3.8127</td> <td>    0.226</td> <td>   16.865</td> <td> 0.000</td> <td>    3.370</td> <td>    4.256</td>\n",
       "</tr>\n",
       "<tr>\n",
       "  <th>Tags_Will revert after reading the email</th> <td>    8.1601</td> <td>    0.268</td> <td>   30.397</td> <td> 0.000</td> <td>    7.634</td> <td>    8.686</td>\n",
       "</tr>\n",
       "<tr>\n",
       "  <th>Tags_switched off</th>                        <td>   -0.6551</td> <td>    0.647</td> <td>   -1.012</td> <td> 0.311</td> <td>   -1.923</td> <td>    0.613</td>\n",
       "</tr>\n",
       "<tr>\n",
       "  <th>City_Select</th>                              <td>    1.3512</td> <td>    0.116</td> <td>   11.655</td> <td> 0.000</td> <td>    1.124</td> <td>    1.578</td>\n",
       "</tr>\n",
       "</table>"
      ],
      "text/latex": [
       "\\begin{center}\n",
       "\\begin{tabular}{lclc}\n",
       "\\toprule\n",
       "\\textbf{Dep. Variable:}                            &    Converted     & \\textbf{  No. Observations:  } &     7216    \\\\\n",
       "\\textbf{Model:}                                    &       GLM        & \\textbf{  Df Residuals:      } &     7201    \\\\\n",
       "\\textbf{Model Family:}                             &     Binomial     & \\textbf{  Df Model:          } &       14    \\\\\n",
       "\\textbf{Link Function:}                            &      Logit       & \\textbf{  Scale:             } &    1.0000   \\\\\n",
       "\\textbf{Method:}                                   &       IRLS       & \\textbf{  Log-Likelihood:    } &   -1685.7   \\\\\n",
       "\\textbf{Date:}                                     & Sun, 15 Dec 2024 & \\textbf{  Deviance:          } &    3371.5   \\\\\n",
       "\\textbf{Time:}                                     &     17:48:59     & \\textbf{  Pearson chi2:      } &  1.03e+04   \\\\\n",
       "\\textbf{No. Iterations:}                           &        8         & \\textbf{  Pseudo R-squ. (CS):} &   0.5753    \\\\\n",
       "\\textbf{Covariance Type:}                          &    nonrobust     & \\textbf{                     } &             \\\\\n",
       "\\bottomrule\n",
       "\\end{tabular}\n",
       "\\begin{tabular}{lcccccc}\n",
       "                                                   & \\textbf{coef} & \\textbf{std err} & \\textbf{z} & \\textbf{P$> |$z$|$} & \\textbf{[0.025} & \\textbf{0.975]}  \\\\\n",
       "\\midrule\n",
       "\\textbf{const}                                     &      -5.8871  &        0.230     &   -25.600  &         0.000        &       -6.338    &       -5.436     \\\\\n",
       "\\textbf{Total Time Spent on Website}               &       1.4777  &        0.085     &    17.379  &         0.000        &        1.311    &        1.644     \\\\\n",
       "\\textbf{Lead Source\\_Olark Chat}                   &       0.3734  &        0.122     &     3.060  &         0.002        &        0.134    &        0.613     \\\\\n",
       "\\textbf{Lead Source\\_Reference}                    &      -2.4583  &        0.622     &    -3.954  &         0.000        &       -3.677    &       -1.240     \\\\\n",
       "\\textbf{Lead Origin\\_Lead Add Form}                &       3.3716  &        0.510     &     6.606  &         0.000        &        2.371    &        4.372     \\\\\n",
       "\\textbf{Last Activity\\_Email Bounced}              &      -1.9653  &        0.386     &    -5.095  &         0.000        &       -2.721    &       -1.209     \\\\\n",
       "\\textbf{Last Activity\\_Olark Chat Conversation}    &      -1.4907  &        0.190     &    -7.858  &         0.000        &       -1.863    &       -1.119     \\\\\n",
       "\\textbf{Last Notable Activity\\_SMS Sent}           &       2.1409  &        0.111     &    19.234  &         0.000        &        1.923    &        2.359     \\\\\n",
       "\\textbf{Tags\\_Closed by Horizzon}                  &      10.5144  &        1.033     &    10.177  &         0.000        &        8.489    &       12.539     \\\\\n",
       "\\textbf{Tags\\_Interested in other courses}         &       0.7615  &        0.415     &     1.835  &         0.067        &       -0.052    &        1.575     \\\\\n",
       "\\textbf{Tags\\_Not Specified}                       &       3.7091  &        0.218     &    17.051  &         0.000        &        3.283    &        4.135     \\\\\n",
       "\\textbf{Tags\\_Others}                              &       3.8127  &        0.226     &    16.865  &         0.000        &        3.370    &        4.256     \\\\\n",
       "\\textbf{Tags\\_Will revert after reading the email} &       8.1601  &        0.268     &    30.397  &         0.000        &        7.634    &        8.686     \\\\\n",
       "\\textbf{Tags\\_switched off}                        &      -0.6551  &        0.647     &    -1.012  &         0.311        &       -1.923    &        0.613     \\\\\n",
       "\\textbf{City\\_Select}                              &       1.3512  &        0.116     &    11.655  &         0.000        &        1.124    &        1.578     \\\\\n",
       "\\bottomrule\n",
       "\\end{tabular}\n",
       "%\\caption{Generalized Linear Model Regression Results}\n",
       "\\end{center}"
      ],
      "text/plain": [
       "<class 'statsmodels.iolib.summary.Summary'>\n",
       "\"\"\"\n",
       "                 Generalized Linear Model Regression Results                  \n",
       "==============================================================================\n",
       "Dep. Variable:              Converted   No. Observations:                 7216\n",
       "Model:                            GLM   Df Residuals:                     7201\n",
       "Model Family:                Binomial   Df Model:                           14\n",
       "Link Function:                  Logit   Scale:                          1.0000\n",
       "Method:                          IRLS   Log-Likelihood:                -1685.7\n",
       "Date:                Sun, 15 Dec 2024   Deviance:                       3371.5\n",
       "Time:                        17:48:59   Pearson chi2:                 1.03e+04\n",
       "No. Iterations:                     8   Pseudo R-squ. (CS):             0.5753\n",
       "Covariance Type:            nonrobust                                         \n",
       "============================================================================================================\n",
       "                                               coef    std err          z      P>|z|      [0.025      0.975]\n",
       "------------------------------------------------------------------------------------------------------------\n",
       "const                                       -5.8871      0.230    -25.600      0.000      -6.338      -5.436\n",
       "Total Time Spent on Website                  1.4777      0.085     17.379      0.000       1.311       1.644\n",
       "Lead Source_Olark Chat                       0.3734      0.122      3.060      0.002       0.134       0.613\n",
       "Lead Source_Reference                       -2.4583      0.622     -3.954      0.000      -3.677      -1.240\n",
       "Lead Origin_Lead Add Form                    3.3716      0.510      6.606      0.000       2.371       4.372\n",
       "Last Activity_Email Bounced                 -1.9653      0.386     -5.095      0.000      -2.721      -1.209\n",
       "Last Activity_Olark Chat Conversation       -1.4907      0.190     -7.858      0.000      -1.863      -1.119\n",
       "Last Notable Activity_SMS Sent               2.1409      0.111     19.234      0.000       1.923       2.359\n",
       "Tags_Closed by Horizzon                     10.5144      1.033     10.177      0.000       8.489      12.539\n",
       "Tags_Interested in other courses             0.7615      0.415      1.835      0.067      -0.052       1.575\n",
       "Tags_Not Specified                           3.7091      0.218     17.051      0.000       3.283       4.135\n",
       "Tags_Others                                  3.8127      0.226     16.865      0.000       3.370       4.256\n",
       "Tags_Will revert after reading the email     8.1601      0.268     30.397      0.000       7.634       8.686\n",
       "Tags_switched off                           -0.6551      0.647     -1.012      0.311      -1.923       0.613\n",
       "City_Select                                  1.3512      0.116     11.655      0.000       1.124       1.578\n",
       "============================================================================================================\n",
       "\"\"\""
      ]
     },
     "execution_count": 571,
     "metadata": {},
     "output_type": "execute_result"
    }
   ],
   "source": [
    "X_train_sm = sm.add_constant(X_train[col])\n",
    "logm1 = sm.GLM(y_train,X_train_sm, family = sm.families.Binomial())\n",
    "res = logm1.fit()\n",
    "res.summary()"
   ]
  },
  {
   "cell_type": "code",
   "execution_count": null,
   "id": "1d9137ab-2b53-48ab-8d30-9b80fa4e6514",
   "metadata": {},
   "outputs": [],
   "source": [
    "col=col.drop('Tags_switched off', 1)"
   ]
  },
  {
   "cell_type": "markdown",
   "id": "5eecb91f-6968-479e-814e-7f348e9ca9ae",
   "metadata": {},
   "source": [
    "#### Building model 3"
   ]
  },
  {
   "cell_type": "code",
   "execution_count": null,
   "id": "82b58467-2f86-4aae-abbe-640edd01783c",
   "metadata": {},
   "outputs": [
    {
     "data": {
      "text/html": [
       "<table class=\"simpletable\">\n",
       "<caption>Generalized Linear Model Regression Results</caption>\n",
       "<tr>\n",
       "  <th>Dep. Variable:</th>       <td>Converted</td>    <th>  No. Observations:  </th>  <td>  7216</td> \n",
       "</tr>\n",
       "<tr>\n",
       "  <th>Model:</th>                  <td>GLM</td>       <th>  Df Residuals:      </th>  <td>  7202</td> \n",
       "</tr>\n",
       "<tr>\n",
       "  <th>Model Family:</th>        <td>Binomial</td>     <th>  Df Model:          </th>  <td>    13</td> \n",
       "</tr>\n",
       "<tr>\n",
       "  <th>Link Function:</th>         <td>Logit</td>      <th>  Scale:             </th> <td>  1.0000</td>\n",
       "</tr>\n",
       "<tr>\n",
       "  <th>Method:</th>                <td>IRLS</td>       <th>  Log-Likelihood:    </th> <td> -1686.3</td>\n",
       "</tr>\n",
       "<tr>\n",
       "  <th>Date:</th>            <td>Sun, 15 Dec 2024</td> <th>  Deviance:          </th> <td>  3372.7</td>\n",
       "</tr>\n",
       "<tr>\n",
       "  <th>Time:</th>                <td>17:48:59</td>     <th>  Pearson chi2:      </th> <td>1.05e+04</td>\n",
       "</tr>\n",
       "<tr>\n",
       "  <th>No. Iterations:</th>          <td>8</td>        <th>  Pseudo R-squ. (CS):</th>  <td>0.5753</td> \n",
       "</tr>\n",
       "<tr>\n",
       "  <th>Covariance Type:</th>     <td>nonrobust</td>    <th>                     </th>     <td> </td>   \n",
       "</tr>\n",
       "</table>\n",
       "<table class=\"simpletable\">\n",
       "<tr>\n",
       "                      <td></td>                        <th>coef</th>     <th>std err</th>      <th>z</th>      <th>P>|z|</th>  <th>[0.025</th>    <th>0.975]</th>  \n",
       "</tr>\n",
       "<tr>\n",
       "  <th>const</th>                                    <td>   -5.9645</td> <td>    0.222</td> <td>  -26.850</td> <td> 0.000</td> <td>   -6.400</td> <td>   -5.529</td>\n",
       "</tr>\n",
       "<tr>\n",
       "  <th>Total Time Spent on Website</th>              <td>    1.4774</td> <td>    0.085</td> <td>   17.382</td> <td> 0.000</td> <td>    1.311</td> <td>    1.644</td>\n",
       "</tr>\n",
       "<tr>\n",
       "  <th>Lead Source_Olark Chat</th>                   <td>    0.3760</td> <td>    0.122</td> <td>    3.083</td> <td> 0.002</td> <td>    0.137</td> <td>    0.615</td>\n",
       "</tr>\n",
       "<tr>\n",
       "  <th>Lead Source_Reference</th>                    <td>   -2.4464</td> <td>    0.624</td> <td>   -3.921</td> <td> 0.000</td> <td>   -3.669</td> <td>   -1.224</td>\n",
       "</tr>\n",
       "<tr>\n",
       "  <th>Lead Origin_Lead Add Form</th>                <td>    3.3753</td> <td>    0.511</td> <td>    6.600</td> <td> 0.000</td> <td>    2.373</td> <td>    4.378</td>\n",
       "</tr>\n",
       "<tr>\n",
       "  <th>Last Activity_Email Bounced</th>              <td>   -1.9653</td> <td>    0.386</td> <td>   -5.095</td> <td> 0.000</td> <td>   -2.721</td> <td>   -1.209</td>\n",
       "</tr>\n",
       "<tr>\n",
       "  <th>Last Activity_Olark Chat Conversation</th>    <td>   -1.4916</td> <td>    0.190</td> <td>   -7.863</td> <td> 0.000</td> <td>   -1.863</td> <td>   -1.120</td>\n",
       "</tr>\n",
       "<tr>\n",
       "  <th>Last Notable Activity_SMS Sent</th>           <td>    2.1388</td> <td>    0.111</td> <td>   19.214</td> <td> 0.000</td> <td>    1.921</td> <td>    2.357</td>\n",
       "</tr>\n",
       "<tr>\n",
       "  <th>Tags_Closed by Horizzon</th>                  <td>   10.5882</td> <td>    1.032</td> <td>   10.263</td> <td> 0.000</td> <td>    8.566</td> <td>   12.610</td>\n",
       "</tr>\n",
       "<tr>\n",
       "  <th>Tags_Interested in other courses</th>         <td>    0.8386</td> <td>    0.411</td> <td>    2.041</td> <td> 0.041</td> <td>    0.033</td> <td>    1.644</td>\n",
       "</tr>\n",
       "<tr>\n",
       "  <th>Tags_Not Specified</th>                       <td>    3.7863</td> <td>    0.209</td> <td>   18.091</td> <td> 0.000</td> <td>    3.376</td> <td>    4.197</td>\n",
       "</tr>\n",
       "<tr>\n",
       "  <th>Tags_Others</th>                              <td>    3.8899</td> <td>    0.218</td> <td>   17.831</td> <td> 0.000</td> <td>    3.462</td> <td>    4.317</td>\n",
       "</tr>\n",
       "<tr>\n",
       "  <th>Tags_Will revert after reading the email</th> <td>    8.2366</td> <td>    0.262</td> <td>   31.439</td> <td> 0.000</td> <td>    7.723</td> <td>    8.750</td>\n",
       "</tr>\n",
       "<tr>\n",
       "  <th>City_Select</th>                              <td>    1.3513</td> <td>    0.116</td> <td>   11.662</td> <td> 0.000</td> <td>    1.124</td> <td>    1.578</td>\n",
       "</tr>\n",
       "</table>"
      ],
      "text/latex": [
       "\\begin{center}\n",
       "\\begin{tabular}{lclc}\n",
       "\\toprule\n",
       "\\textbf{Dep. Variable:}                            &    Converted     & \\textbf{  No. Observations:  } &     7216    \\\\\n",
       "\\textbf{Model:}                                    &       GLM        & \\textbf{  Df Residuals:      } &     7202    \\\\\n",
       "\\textbf{Model Family:}                             &     Binomial     & \\textbf{  Df Model:          } &       13    \\\\\n",
       "\\textbf{Link Function:}                            &      Logit       & \\textbf{  Scale:             } &    1.0000   \\\\\n",
       "\\textbf{Method:}                                   &       IRLS       & \\textbf{  Log-Likelihood:    } &   -1686.3   \\\\\n",
       "\\textbf{Date:}                                     & Sun, 15 Dec 2024 & \\textbf{  Deviance:          } &    3372.7   \\\\\n",
       "\\textbf{Time:}                                     &     17:48:59     & \\textbf{  Pearson chi2:      } &  1.05e+04   \\\\\n",
       "\\textbf{No. Iterations:}                           &        8         & \\textbf{  Pseudo R-squ. (CS):} &   0.5753    \\\\\n",
       "\\textbf{Covariance Type:}                          &    nonrobust     & \\textbf{                     } &             \\\\\n",
       "\\bottomrule\n",
       "\\end{tabular}\n",
       "\\begin{tabular}{lcccccc}\n",
       "                                                   & \\textbf{coef} & \\textbf{std err} & \\textbf{z} & \\textbf{P$> |$z$|$} & \\textbf{[0.025} & \\textbf{0.975]}  \\\\\n",
       "\\midrule\n",
       "\\textbf{const}                                     &      -5.9645  &        0.222     &   -26.850  &         0.000        &       -6.400    &       -5.529     \\\\\n",
       "\\textbf{Total Time Spent on Website}               &       1.4774  &        0.085     &    17.382  &         0.000        &        1.311    &        1.644     \\\\\n",
       "\\textbf{Lead Source\\_Olark Chat}                   &       0.3760  &        0.122     &     3.083  &         0.002        &        0.137    &        0.615     \\\\\n",
       "\\textbf{Lead Source\\_Reference}                    &      -2.4464  &        0.624     &    -3.921  &         0.000        &       -3.669    &       -1.224     \\\\\n",
       "\\textbf{Lead Origin\\_Lead Add Form}                &       3.3753  &        0.511     &     6.600  &         0.000        &        2.373    &        4.378     \\\\\n",
       "\\textbf{Last Activity\\_Email Bounced}              &      -1.9653  &        0.386     &    -5.095  &         0.000        &       -2.721    &       -1.209     \\\\\n",
       "\\textbf{Last Activity\\_Olark Chat Conversation}    &      -1.4916  &        0.190     &    -7.863  &         0.000        &       -1.863    &       -1.120     \\\\\n",
       "\\textbf{Last Notable Activity\\_SMS Sent}           &       2.1388  &        0.111     &    19.214  &         0.000        &        1.921    &        2.357     \\\\\n",
       "\\textbf{Tags\\_Closed by Horizzon}                  &      10.5882  &        1.032     &    10.263  &         0.000        &        8.566    &       12.610     \\\\\n",
       "\\textbf{Tags\\_Interested in other courses}         &       0.8386  &        0.411     &     2.041  &         0.041        &        0.033    &        1.644     \\\\\n",
       "\\textbf{Tags\\_Not Specified}                       &       3.7863  &        0.209     &    18.091  &         0.000        &        3.376    &        4.197     \\\\\n",
       "\\textbf{Tags\\_Others}                              &       3.8899  &        0.218     &    17.831  &         0.000        &        3.462    &        4.317     \\\\\n",
       "\\textbf{Tags\\_Will revert after reading the email} &       8.2366  &        0.262     &    31.439  &         0.000        &        7.723    &        8.750     \\\\\n",
       "\\textbf{City\\_Select}                              &       1.3513  &        0.116     &    11.662  &         0.000        &        1.124    &        1.578     \\\\\n",
       "\\bottomrule\n",
       "\\end{tabular}\n",
       "%\\caption{Generalized Linear Model Regression Results}\n",
       "\\end{center}"
      ],
      "text/plain": [
       "<class 'statsmodels.iolib.summary.Summary'>\n",
       "\"\"\"\n",
       "                 Generalized Linear Model Regression Results                  \n",
       "==============================================================================\n",
       "Dep. Variable:              Converted   No. Observations:                 7216\n",
       "Model:                            GLM   Df Residuals:                     7202\n",
       "Model Family:                Binomial   Df Model:                           13\n",
       "Link Function:                  Logit   Scale:                          1.0000\n",
       "Method:                          IRLS   Log-Likelihood:                -1686.3\n",
       "Date:                Sun, 15 Dec 2024   Deviance:                       3372.7\n",
       "Time:                        17:48:59   Pearson chi2:                 1.05e+04\n",
       "No. Iterations:                     8   Pseudo R-squ. (CS):             0.5753\n",
       "Covariance Type:            nonrobust                                         \n",
       "============================================================================================================\n",
       "                                               coef    std err          z      P>|z|      [0.025      0.975]\n",
       "------------------------------------------------------------------------------------------------------------\n",
       "const                                       -5.9645      0.222    -26.850      0.000      -6.400      -5.529\n",
       "Total Time Spent on Website                  1.4774      0.085     17.382      0.000       1.311       1.644\n",
       "Lead Source_Olark Chat                       0.3760      0.122      3.083      0.002       0.137       0.615\n",
       "Lead Source_Reference                       -2.4464      0.624     -3.921      0.000      -3.669      -1.224\n",
       "Lead Origin_Lead Add Form                    3.3753      0.511      6.600      0.000       2.373       4.378\n",
       "Last Activity_Email Bounced                 -1.9653      0.386     -5.095      0.000      -2.721      -1.209\n",
       "Last Activity_Olark Chat Conversation       -1.4916      0.190     -7.863      0.000      -1.863      -1.120\n",
       "Last Notable Activity_SMS Sent               2.1388      0.111     19.214      0.000       1.921       2.357\n",
       "Tags_Closed by Horizzon                     10.5882      1.032     10.263      0.000       8.566      12.610\n",
       "Tags_Interested in other courses             0.8386      0.411      2.041      0.041       0.033       1.644\n",
       "Tags_Not Specified                           3.7863      0.209     18.091      0.000       3.376       4.197\n",
       "Tags_Others                                  3.8899      0.218     17.831      0.000       3.462       4.317\n",
       "Tags_Will revert after reading the email     8.2366      0.262     31.439      0.000       7.723       8.750\n",
       "City_Select                                  1.3513      0.116     11.662      0.000       1.124       1.578\n",
       "============================================================================================================\n",
       "\"\"\""
      ]
     },
     "execution_count": 573,
     "metadata": {},
     "output_type": "execute_result"
    }
   ],
   "source": [
    "X_train_sm = sm.add_constant(X_train[col])\n",
    "logm1 = sm.GLM(y_train,X_train_sm, family = sm.families.Binomial())\n",
    "res = logm1.fit()\n",
    "res.summary()"
   ]
  },
  {
   "cell_type": "markdown",
   "id": "856e2241-cd76-4498-ad58-c55ac6d7a804",
   "metadata": {},
   "source": [
    "#### VIF Values of the feature variables"
   ]
  },
  {
   "cell_type": "code",
   "execution_count": null,
   "id": "9f17e09c-3180-4a08-8bd9-1346090b7217",
   "metadata": {},
   "outputs": [],
   "source": [
    "### check for VIF values of the feature variables\n",
    "from statsmodels.stats.outliers_influence import variance_inflation_factor"
   ]
  },
  {
   "cell_type": "code",
   "execution_count": null,
   "id": "53d53bc7-176b-4709-aae1-d6ec8b995509",
   "metadata": {},
   "outputs": [
    {
     "data": {
      "text/html": [
       "<div>\n",
       "<style scoped>\n",
       "    .dataframe tbody tr th:only-of-type {\n",
       "        vertical-align: middle;\n",
       "    }\n",
       "\n",
       "    .dataframe tbody tr th {\n",
       "        vertical-align: top;\n",
       "    }\n",
       "\n",
       "    .dataframe thead th {\n",
       "        text-align: right;\n",
       "    }\n",
       "</style>\n",
       "<table border=\"1\" class=\"dataframe\">\n",
       "  <thead>\n",
       "    <tr style=\"text-align: right;\">\n",
       "      <th></th>\n",
       "      <th>Features</th>\n",
       "      <th>VIF</th>\n",
       "    </tr>\n",
       "  </thead>\n",
       "  <tbody>\n",
       "    <tr>\n",
       "      <th>3</th>\n",
       "      <td>Lead Origin_Lead Add Form</td>\n",
       "      <td>4.13</td>\n",
       "    </tr>\n",
       "    <tr>\n",
       "      <th>2</th>\n",
       "      <td>Lead Source_Reference</td>\n",
       "      <td>3.87</td>\n",
       "    </tr>\n",
       "    <tr>\n",
       "      <th>1</th>\n",
       "      <td>Lead Source_Olark Chat</td>\n",
       "      <td>1.75</td>\n",
       "    </tr>\n",
       "    <tr>\n",
       "      <th>11</th>\n",
       "      <td>Tags_Will revert after reading the email</td>\n",
       "      <td>1.64</td>\n",
       "    </tr>\n",
       "    <tr>\n",
       "      <th>12</th>\n",
       "      <td>City_Select</td>\n",
       "      <td>1.54</td>\n",
       "    </tr>\n",
       "    <tr>\n",
       "      <th>9</th>\n",
       "      <td>Tags_Not Specified</td>\n",
       "      <td>1.53</td>\n",
       "    </tr>\n",
       "    <tr>\n",
       "      <th>6</th>\n",
       "      <td>Last Notable Activity_SMS Sent</td>\n",
       "      <td>1.47</td>\n",
       "    </tr>\n",
       "    <tr>\n",
       "      <th>5</th>\n",
       "      <td>Last Activity_Olark Chat Conversation</td>\n",
       "      <td>1.44</td>\n",
       "    </tr>\n",
       "    <tr>\n",
       "      <th>0</th>\n",
       "      <td>Total Time Spent on Website</td>\n",
       "      <td>1.39</td>\n",
       "    </tr>\n",
       "    <tr>\n",
       "      <th>7</th>\n",
       "      <td>Tags_Closed by Horizzon</td>\n",
       "      <td>1.18</td>\n",
       "    </tr>\n",
       "    <tr>\n",
       "      <th>10</th>\n",
       "      <td>Tags_Others</td>\n",
       "      <td>1.11</td>\n",
       "    </tr>\n",
       "    <tr>\n",
       "      <th>8</th>\n",
       "      <td>Tags_Interested in other courses</td>\n",
       "      <td>1.10</td>\n",
       "    </tr>\n",
       "    <tr>\n",
       "      <th>4</th>\n",
       "      <td>Last Activity_Email Bounced</td>\n",
       "      <td>1.06</td>\n",
       "    </tr>\n",
       "  </tbody>\n",
       "</table>\n",
       "</div>"
      ],
      "text/plain": [
       "                                    Features   VIF\n",
       "3                  Lead Origin_Lead Add Form  4.13\n",
       "2                      Lead Source_Reference  3.87\n",
       "1                     Lead Source_Olark Chat  1.75\n",
       "11  Tags_Will revert after reading the email  1.64\n",
       "12                               City_Select  1.54\n",
       "9                         Tags_Not Specified  1.53\n",
       "6             Last Notable Activity_SMS Sent  1.47\n",
       "5      Last Activity_Olark Chat Conversation  1.44\n",
       "0                Total Time Spent on Website  1.39\n",
       "7                    Tags_Closed by Horizzon  1.18\n",
       "10                               Tags_Others  1.11\n",
       "8           Tags_Interested in other courses  1.10\n",
       "4                Last Activity_Email Bounced  1.06"
      ]
     },
     "execution_count": 575,
     "metadata": {},
     "output_type": "execute_result"
    }
   ],
   "source": [
    "vif = pd.DataFrame()\n",
    "vif['Features'] = X_train[col].columns\n",
    "vif['VIF'] = [variance_inflation_factor(X_train[col].values, i) for i in range(X_train[col].shape[1])]\n",
    "vif['VIF'] = round(vif['VIF'], 2)\n",
    "vif = vif.sort_values(by = \"VIF\", ascending = False)\n",
    "vif"
   ]
  },
  {
   "cell_type": "markdown",
   "id": "feeddccd-6eb6-40fe-95a3-65b01d2c900a",
   "metadata": {},
   "source": [
    "##### We have now removed all variables with P Value less more than 0.05 and VIF more than 5. No other variables have to be dropped.\n"
   ]
  },
  {
   "cell_type": "code",
   "execution_count": null,
   "id": "8dabc45c-d41b-4681-9415-7714183ef790",
   "metadata": {},
   "outputs": [
    {
     "data": {
      "text/plain": [
       "181     0.032342\n",
       "3683    0.002562\n",
       "8541    0.999046\n",
       "2016    0.977010\n",
       "1784    0.014243\n",
       "5480    0.906537\n",
       "1193    0.977010\n",
       "6459    0.111588\n",
       "4660    0.903867\n",
       "2779    0.024849\n",
       "dtype: float64"
      ]
     },
     "execution_count": 576,
     "metadata": {},
     "output_type": "execute_result"
    }
   ],
   "source": [
    "y_train_pred = res.predict(X_train_sm)\n",
    "y_train_pred[:10]"
   ]
  },
  {
   "cell_type": "code",
   "execution_count": null,
   "id": "f0d96da9-8329-4644-98e4-2ae5e6686fc9",
   "metadata": {},
   "outputs": [
    {
     "data": {
      "text/html": [
       "<div>\n",
       "<style scoped>\n",
       "    .dataframe tbody tr th:only-of-type {\n",
       "        vertical-align: middle;\n",
       "    }\n",
       "\n",
       "    .dataframe tbody tr th {\n",
       "        vertical-align: top;\n",
       "    }\n",
       "\n",
       "    .dataframe thead th {\n",
       "        text-align: right;\n",
       "    }\n",
       "</style>\n",
       "<table border=\"1\" class=\"dataframe\">\n",
       "  <thead>\n",
       "    <tr style=\"text-align: right;\">\n",
       "      <th></th>\n",
       "      <th>Converted</th>\n",
       "      <th>Converted_prob</th>\n",
       "      <th>Prospect ID</th>\n",
       "    </tr>\n",
       "  </thead>\n",
       "  <tbody>\n",
       "    <tr>\n",
       "      <th>181</th>\n",
       "      <td>0</td>\n",
       "      <td>0.032342</td>\n",
       "      <td>181</td>\n",
       "    </tr>\n",
       "    <tr>\n",
       "      <th>3683</th>\n",
       "      <td>0</td>\n",
       "      <td>0.002562</td>\n",
       "      <td>3683</td>\n",
       "    </tr>\n",
       "    <tr>\n",
       "      <th>8541</th>\n",
       "      <td>1</td>\n",
       "      <td>0.999046</td>\n",
       "      <td>8541</td>\n",
       "    </tr>\n",
       "    <tr>\n",
       "      <th>2016</th>\n",
       "      <td>1</td>\n",
       "      <td>0.977010</td>\n",
       "      <td>2016</td>\n",
       "    </tr>\n",
       "    <tr>\n",
       "      <th>1784</th>\n",
       "      <td>0</td>\n",
       "      <td>0.014243</td>\n",
       "      <td>1784</td>\n",
       "    </tr>\n",
       "  </tbody>\n",
       "</table>\n",
       "</div>"
      ],
      "text/plain": [
       "      Converted  Converted_prob  Prospect ID\n",
       "181           0        0.032342          181\n",
       "3683          0        0.002562         3683\n",
       "8541          1        0.999046         8541\n",
       "2016          1        0.977010         2016\n",
       "1784          0        0.014243         1784"
      ]
     },
     "execution_count": 577,
     "metadata": {},
     "output_type": "execute_result"
    }
   ],
   "source": [
    "y_train_pred_final = pd.DataFrame({'Converted' : y_train.values, 'Converted_prob' : y_train_pred})\n",
    "y_train_pred_final['Prospect ID'] = y_train.index\n",
    "y_train_pred_final.head()"
   ]
  },
  {
   "cell_type": "code",
   "execution_count": null,
   "id": "b99d7971-850a-4432-9de7-48166db323f2",
   "metadata": {},
   "outputs": [
    {
     "data": {
      "text/html": [
       "<div>\n",
       "<style scoped>\n",
       "    .dataframe tbody tr th:only-of-type {\n",
       "        vertical-align: middle;\n",
       "    }\n",
       "\n",
       "    .dataframe tbody tr th {\n",
       "        vertical-align: top;\n",
       "    }\n",
       "\n",
       "    .dataframe thead th {\n",
       "        text-align: right;\n",
       "    }\n",
       "</style>\n",
       "<table border=\"1\" class=\"dataframe\">\n",
       "  <thead>\n",
       "    <tr style=\"text-align: right;\">\n",
       "      <th></th>\n",
       "      <th>Converted</th>\n",
       "      <th>Converted_prob</th>\n",
       "      <th>Prospect ID</th>\n",
       "      <th>Predicted</th>\n",
       "    </tr>\n",
       "  </thead>\n",
       "  <tbody>\n",
       "    <tr>\n",
       "      <th>181</th>\n",
       "      <td>0</td>\n",
       "      <td>0.032342</td>\n",
       "      <td>181</td>\n",
       "      <td>0</td>\n",
       "    </tr>\n",
       "    <tr>\n",
       "      <th>3683</th>\n",
       "      <td>0</td>\n",
       "      <td>0.002562</td>\n",
       "      <td>3683</td>\n",
       "      <td>0</td>\n",
       "    </tr>\n",
       "    <tr>\n",
       "      <th>8541</th>\n",
       "      <td>1</td>\n",
       "      <td>0.999046</td>\n",
       "      <td>8541</td>\n",
       "      <td>1</td>\n",
       "    </tr>\n",
       "    <tr>\n",
       "      <th>2016</th>\n",
       "      <td>1</td>\n",
       "      <td>0.977010</td>\n",
       "      <td>2016</td>\n",
       "      <td>1</td>\n",
       "    </tr>\n",
       "    <tr>\n",
       "      <th>1784</th>\n",
       "      <td>0</td>\n",
       "      <td>0.014243</td>\n",
       "      <td>1784</td>\n",
       "      <td>0</td>\n",
       "    </tr>\n",
       "  </tbody>\n",
       "</table>\n",
       "</div>"
      ],
      "text/plain": [
       "      Converted  Converted_prob  Prospect ID  Predicted\n",
       "181           0        0.032342          181          0\n",
       "3683          0        0.002562         3683          0\n",
       "8541          1        0.999046         8541          1\n",
       "2016          1        0.977010         2016          1\n",
       "1784          0        0.014243         1784          0"
      ]
     },
     "execution_count": 578,
     "metadata": {},
     "output_type": "execute_result"
    }
   ],
   "source": [
    "y_train_pred_final['Predicted'] = y_train_pred_final.Converted_prob.map(lambda x: 1 if x > 0.5 else 0)\n",
    "y_train_pred_final.head()"
   ]
  },
  {
   "cell_type": "code",
   "execution_count": null,
   "id": "df3e04c5-7fab-46be-b245-631ea02de13b",
   "metadata": {},
   "outputs": [
    {
     "name": "stdout",
     "output_type": "stream",
     "text": [
      "[[4312  194]\n",
      " [ 510 2200]]\n"
     ]
    }
   ],
   "source": [
    "from sklearn import metrics\n",
    "# Confusion matrix \n",
    "confusion = metrics.confusion_matrix(y_train_pred_final.Converted, y_train_pred_final.Predicted )\n",
    "print(confusion)"
   ]
  },
  {
   "cell_type": "code",
   "execution_count": null,
   "id": "b59d8dd3-b5de-4687-b4c3-c31659561579",
   "metadata": {},
   "outputs": [
    {
     "name": "stdout",
     "output_type": "stream",
     "text": [
      "0.9024390243902439\n"
     ]
    }
   ],
   "source": [
    "##### Lets check the overall accuracy\n",
    "print(metrics.accuracy_score(y_train_pred_final.Converted, y_train_pred_final.Predicted))"
   ]
  },
  {
   "cell_type": "code",
   "execution_count": null,
   "id": "daaa43c0-3c30-402d-9f22-733e95de2240",
   "metadata": {},
   "outputs": [],
   "source": [
    "TP = confusion[1,1] # true positive \n",
    "TN = confusion[0,0] # true negatives\n",
    "FP = confusion[0,1] # false positives\n",
    "FN = confusion[1,0] # false negatives"
   ]
  },
  {
   "cell_type": "code",
   "execution_count": null,
   "id": "dff8988d-a275-41c3-aa42-732b18c4083b",
   "metadata": {},
   "outputs": [
    {
     "data": {
      "text/plain": [
       "np.float64(0.8118081180811808)"
      ]
     },
     "execution_count": 582,
     "metadata": {},
     "output_type": "execute_result"
    }
   ],
   "source": [
    "# Let's see the sensitivity of our logistic regression model\n",
    "TP / float(TP+FN)"
   ]
  },
  {
   "cell_type": "code",
   "execution_count": null,
   "id": "e71eec34-f569-452c-b918-bbe9fb875763",
   "metadata": {},
   "outputs": [
    {
     "data": {
      "text/plain": [
       "np.float64(0.9569462938304483)"
      ]
     },
     "execution_count": 583,
     "metadata": {},
     "output_type": "execute_result"
    }
   ],
   "source": [
    "# Let us calculate specificity\n",
    "TN / float(TN+FP)"
   ]
  },
  {
   "cell_type": "code",
   "execution_count": null,
   "id": "1df7a9d8-2c50-4475-93da-c5a611acad23",
   "metadata": {},
   "outputs": [
    {
     "name": "stdout",
     "output_type": "stream",
     "text": [
      "0.04305370616955171\n"
     ]
    }
   ],
   "source": [
    "# Calculate False Postive Rate - predicting conversion when customer does not have convert\n",
    "print(FP/ float(TN+FP))"
   ]
  },
  {
   "cell_type": "code",
   "execution_count": null,
   "id": "5dedfe62-0652-4df2-8b20-0e9e3919d435",
   "metadata": {},
   "outputs": [
    {
     "name": "stdout",
     "output_type": "stream",
     "text": [
      "0.9189640768588136\n"
     ]
    }
   ],
   "source": [
    "# positive predictive value \n",
    "print (TP / float(TP+FP))"
   ]
  },
  {
   "cell_type": "code",
   "execution_count": null,
   "id": "294651a6-a796-4837-a6c0-115a597a9ab4",
   "metadata": {},
   "outputs": [
    {
     "name": "stdout",
     "output_type": "stream",
     "text": [
      "0.8942347573620905\n"
     ]
    }
   ],
   "source": [
    "# Negative predictive value\n",
    "print (TN / float(TN+ FN))"
   ]
  },
  {
   "cell_type": "markdown",
   "id": "c7769ec0",
   "metadata": {},
   "source": [
    "Generating Scorecard (Values from 0-100)"
   ]
  },
  {
   "cell_type": "code",
   "execution_count": null,
   "id": "500f58e0",
   "metadata": {},
   "outputs": [
    {
     "data": {
      "text/plain": [
       "181      3.234193\n",
       "3683     0.256170\n",
       "8541    99.904628\n",
       "2016    97.700995\n",
       "1784     1.424320\n",
       "          ...    \n",
       "368      3.578612\n",
       "82      98.200417\n",
       "8250    10.172321\n",
       "7116    93.389437\n",
       "5783    98.800155\n",
       "Length: 7216, dtype: float64"
      ]
     },
     "execution_count": 587,
     "metadata": {},
     "output_type": "execute_result"
    }
   ],
   "source": [
    "y_train_pred = res.predict(X_train_sm)\n",
    "y_train_pred[:] * 100"
   ]
  },
  {
   "cell_type": "markdown",
   "id": "11b4504a-0a0e-4f05-aab4-17abf6307d02",
   "metadata": {},
   "source": [
    "### PLOTTING ROC curve"
   ]
  },
  {
   "cell_type": "code",
   "execution_count": null,
   "id": "194ddb77-bc56-4fe8-91f3-cc7afd3dd22a",
   "metadata": {},
   "outputs": [],
   "source": [
    "def draw_roc( actual, probs ):\n",
    "    fpr, tpr, thresholds = metrics.roc_curve( actual, probs,\n",
    "                                              drop_intermediate = False )\n",
    "    auc_score = metrics.roc_auc_score( actual, probs )\n",
    "    plt.figure(figsize=(5, 5))\n",
    "    plt.plot( fpr, tpr, label='ROC curve (area = %0.2f)' % auc_score )\n",
    "    plt.plot([0, 1], [0, 1], 'k--')\n",
    "    plt.xlim([0.0, 1.0])\n",
    "    plt.ylim([0.0, 1.05])\n",
    "    plt.xlabel('False Positive Rate or [1 - True Negative Rate]')\n",
    "    plt.ylabel('True Positive Rate')\n",
    "    plt.title('Receiver operating characteristic example')\n",
    "    plt.legend(loc=\"lower right\")\n",
    "    plt.show()\n",
    "\n",
    "    return None"
   ]
  },
  {
   "cell_type": "code",
   "execution_count": null,
   "id": "03f29702-60c8-4220-9c26-c22f12326594",
   "metadata": {},
   "outputs": [],
   "source": [
    "fpr, tpr, thresholds = metrics.roc_curve( y_train_pred_final.Converted, y_train_pred_final.Converted_prob, drop_intermediate = False )"
   ]
  },
  {
   "cell_type": "code",
   "execution_count": null,
   "id": "6914f216-ef2a-406b-a459-0e7180872721",
   "metadata": {},
   "outputs": [
    {
     "data": {
      "image/png": "[encoded data removed]",
      "text/plain": [
       "<Figure size 500x500 with 1 Axes>"
      ]
     },
     "metadata": {},
     "output_type": "display_data"
    }
   ],
   "source": [
    "draw_roc(y_train_pred_final.Converted, y_train_pred_final.Converted_prob)"
   ]
  },
  {
   "cell_type": "markdown",
   "id": "fcebcec8-105e-44b4-9085-4ea73420407c",
   "metadata": {},
   "source": [
    "#### Finding Optimal cutoff point\n",
    "#### Optimal cutoff probability is that prob where we get balanced sensitivity and specificity\n",
    "##### Let's create columns with different probability cutoffs "
   ]
  },
  {
   "cell_type": "code",
   "execution_count": null,
   "id": "a2eb4941-8311-4770-8306-66a79abfcf46",
   "metadata": {},
   "outputs": [
    {
     "data": {
      "text/html": [
       "<div>\n",
       "<style scoped>\n",
       "    .dataframe tbody tr th:only-of-type {\n",
       "        vertical-align: middle;\n",
       "    }\n",
       "\n",
       "    .dataframe tbody tr th {\n",
       "        vertical-align: top;\n",
       "    }\n",
       "\n",
       "    .dataframe thead th {\n",
       "        text-align: right;\n",
       "    }\n",
       "</style>\n",
       "<table border=\"1\" class=\"dataframe\">\n",
       "  <thead>\n",
       "    <tr style=\"text-align: right;\">\n",
       "      <th></th>\n",
       "      <th>Converted</th>\n",
       "      <th>Converted_prob</th>\n",
       "      <th>Prospect ID</th>\n",
       "      <th>Predicted</th>\n",
       "      <th>0.0</th>\n",
       "      <th>0.1</th>\n",
       "      <th>0.2</th>\n",
       "      <th>0.3</th>\n",
       "      <th>0.4</th>\n",
       "      <th>0.5</th>\n",
       "      <th>0.6</th>\n",
       "      <th>0.7</th>\n",
       "      <th>0.8</th>\n",
       "      <th>0.9</th>\n",
       "    </tr>\n",
       "  </thead>\n",
       "  <tbody>\n",
       "    <tr>\n",
       "      <th>181</th>\n",
       "      <td>0</td>\n",
       "      <td>0.032342</td>\n",
       "      <td>181</td>\n",
       "      <td>0</td>\n",
       "      <td>1</td>\n",
       "      <td>0</td>\n",
       "      <td>0</td>\n",
       "      <td>0</td>\n",
       "      <td>0</td>\n",
       "      <td>0</td>\n",
       "      <td>0</td>\n",
       "      <td>0</td>\n",
       "      <td>0</td>\n",
       "      <td>0</td>\n",
       "    </tr>\n",
       "    <tr>\n",
       "      <th>3683</th>\n",
       "      <td>0</td>\n",
       "      <td>0.002562</td>\n",
       "      <td>3683</td>\n",
       "      <td>0</td>\n",
       "      <td>1</td>\n",
       "      <td>0</td>\n",
       "      <td>0</td>\n",
       "      <td>0</td>\n",
       "      <td>0</td>\n",
       "      <td>0</td>\n",
       "      <td>0</td>\n",
       "      <td>0</td>\n",
       "      <td>0</td>\n",
       "      <td>0</td>\n",
       "    </tr>\n",
       "    <tr>\n",
       "      <th>8541</th>\n",
       "      <td>1</td>\n",
       "      <td>0.999046</td>\n",
       "      <td>8541</td>\n",
       "      <td>1</td>\n",
       "      <td>1</td>\n",
       "      <td>1</td>\n",
       "      <td>1</td>\n",
       "      <td>1</td>\n",
       "      <td>1</td>\n",
       "      <td>1</td>\n",
       "      <td>1</td>\n",
       "      <td>1</td>\n",
       "      <td>1</td>\n",
       "      <td>1</td>\n",
       "    </tr>\n",
       "    <tr>\n",
       "      <th>2016</th>\n",
       "      <td>1</td>\n",
       "      <td>0.977010</td>\n",
       "      <td>2016</td>\n",
       "      <td>1</td>\n",
       "      <td>1</td>\n",
       "      <td>1</td>\n",
       "      <td>1</td>\n",
       "      <td>1</td>\n",
       "      <td>1</td>\n",
       "      <td>1</td>\n",
       "      <td>1</td>\n",
       "      <td>1</td>\n",
       "      <td>1</td>\n",
       "      <td>1</td>\n",
       "    </tr>\n",
       "    <tr>\n",
       "      <th>1784</th>\n",
       "      <td>0</td>\n",
       "      <td>0.014243</td>\n",
       "      <td>1784</td>\n",
       "      <td>0</td>\n",
       "      <td>1</td>\n",
       "      <td>0</td>\n",
       "      <td>0</td>\n",
       "      <td>0</td>\n",
       "      <td>0</td>\n",
       "      <td>0</td>\n",
       "      <td>0</td>\n",
       "      <td>0</td>\n",
       "      <td>0</td>\n",
       "      <td>0</td>\n",
       "    </tr>\n",
       "  </tbody>\n",
       "</table>\n",
       "</div>"
      ],
      "text/plain": [
       "      Converted  Converted_prob  Prospect ID  Predicted  0.0  0.1  0.2  0.3  \\\n",
       "181           0        0.032342          181          0    1    0    0    0   \n",
       "3683          0        0.002562         3683          0    1    0    0    0   \n",
       "8541          1        0.999046         8541          1    1    1    1    1   \n",
       "2016          1        0.977010         2016          1    1    1    1    1   \n",
       "1784          0        0.014243         1784          0    1    0    0    0   \n",
       "\n",
       "      0.4  0.5  0.6  0.7  0.8  0.9  \n",
       "181     0    0    0    0    0    0  \n",
       "3683    0    0    0    0    0    0  \n",
       "8541    1    1    1    1    1    1  \n",
       "2016    1    1    1    1    1    1  \n",
       "1784    0    0    0    0    0    0  "
      ]
     },
     "execution_count": 591,
     "metadata": {},
     "output_type": "execute_result"
    }
   ],
   "source": [
    "numbers = [float(x)/10 for x in range(10)]\n",
    "for i in numbers:\n",
    "    y_train_pred_final[i] = y_train_pred_final.Converted_prob.map(lambda x:1 if x>i else 0)\n",
    "y_train_pred_final.head()"
   ]
  },
  {
   "cell_type": "markdown",
   "id": "06f4a90f-6e13-4161-93aa-ac1d890fef62",
   "metadata": {},
   "source": [
    "#### now let's calculate accuracy , sensitivity and specificity for various prob ability cutoffs"
   ]
  },
  {
   "cell_type": "code",
   "execution_count": null,
   "id": "fcdaf080-efd0-4963-b214-a7172c49cd93",
   "metadata": {},
   "outputs": [
    {
     "name": "stdout",
     "output_type": "stream",
     "text": [
      "     prob  accuracy     sensi     speci\n",
      "0.0   0.0  0.375554  1.000000  0.000000\n",
      "0.1   0.1  0.705100  0.980074  0.539725\n",
      "0.2   0.2  0.892045  0.927675  0.870617\n",
      "0.3   0.3  0.895371  0.926568  0.876609\n",
      "0.4   0.4  0.903963  0.847970  0.937639\n",
      "0.5   0.5  0.902439  0.811808  0.956946\n",
      "0.6   0.6  0.904102  0.792251  0.971372\n",
      "0.7   0.7  0.901746  0.775646  0.977585\n",
      "0.8   0.8  0.895649  0.753875  0.980914\n",
      "0.9   0.9  0.877910  0.696310  0.987128\n"
     ]
    }
   ],
   "source": [
    "cutoff_df = pd.DataFrame(columns =[ 'prob', 'accuracy', 'sensi','speci'])\n",
    "from sklearn.metrics import confusion_matrix\n",
    "num = [0.0,0.1,0.2,0.3,0.4,0.5,0.6,0.7,0.8,0.9]\n",
    "for i in num:\n",
    "    cm1 = metrics.confusion_matrix(y_train_pred_final.Converted, y_train_pred_final[i] )\n",
    "    total1=sum(sum(cm1))\n",
    "    accuracy = (cm1[0,0]+cm1[1,1])/total1\n",
    "    \n",
    "    speci = cm1[0,0]/(cm1[0,0]+cm1[0,1])\n",
    "    sensi = cm1[1,1]/(cm1[1,0]+cm1[1,1])\n",
    "    cutoff_df.loc[i] =[ i ,accuracy,sensi,speci]\n",
    "print(cutoff_df)"
   ]
  },
  {
   "cell_type": "code",
   "execution_count": null,
   "id": "07ed664b-9964-4605-897d-a0f73ade6edd",
   "metadata": {},
   "outputs": [
    {
     "data": {
      "image/png": "[encoded data removed]",
      "text/plain": [
       "<Figure size 640x480 with 1 Axes>"
      ]
     },
     "metadata": {},
     "output_type": "display_data"
    }
   ],
   "source": [
    "# Let's plot accuracy sensitivity and specificity for various probabilities.\n",
    "cutoff_df.plot.line(x='prob', y=['accuracy','sensi','speci'])\n",
    "plt.show()"
   ]
  },
  {
   "cell_type": "code",
   "execution_count": null,
   "id": "87b4786d-25dd-4c8d-bb9e-e540593ee6e0",
   "metadata": {},
   "outputs": [
    {
     "data": {
      "text/html": [
       "<div>\n",
       "<style scoped>\n",
       "    .dataframe tbody tr th:only-of-type {\n",
       "        vertical-align: middle;\n",
       "    }\n",
       "\n",
       "    .dataframe tbody tr th {\n",
       "        vertical-align: top;\n",
       "    }\n",
       "\n",
       "    .dataframe thead th {\n",
       "        text-align: right;\n",
       "    }\n",
       "</style>\n",
       "<table border=\"1\" class=\"dataframe\">\n",
       "  <thead>\n",
       "    <tr style=\"text-align: right;\">\n",
       "      <th></th>\n",
       "      <th>Converted</th>\n",
       "      <th>Converted_prob</th>\n",
       "      <th>Prospect ID</th>\n",
       "      <th>Predicted</th>\n",
       "      <th>0.0</th>\n",
       "      <th>0.1</th>\n",
       "      <th>0.2</th>\n",
       "      <th>0.3</th>\n",
       "      <th>0.4</th>\n",
       "      <th>0.5</th>\n",
       "      <th>0.6</th>\n",
       "      <th>0.7</th>\n",
       "      <th>0.8</th>\n",
       "      <th>0.9</th>\n",
       "      <th>final_predicted</th>\n",
       "    </tr>\n",
       "  </thead>\n",
       "  <tbody>\n",
       "    <tr>\n",
       "      <th>181</th>\n",
       "      <td>0</td>\n",
       "      <td>0.032342</td>\n",
       "      <td>181</td>\n",
       "      <td>0</td>\n",
       "      <td>1</td>\n",
       "      <td>0</td>\n",
       "      <td>0</td>\n",
       "      <td>0</td>\n",
       "      <td>0</td>\n",
       "      <td>0</td>\n",
       "      <td>0</td>\n",
       "      <td>0</td>\n",
       "      <td>0</td>\n",
       "      <td>0</td>\n",
       "      <td>0</td>\n",
       "    </tr>\n",
       "    <tr>\n",
       "      <th>3683</th>\n",
       "      <td>0</td>\n",
       "      <td>0.002562</td>\n",
       "      <td>3683</td>\n",
       "      <td>0</td>\n",
       "      <td>1</td>\n",
       "      <td>0</td>\n",
       "      <td>0</td>\n",
       "      <td>0</td>\n",
       "      <td>0</td>\n",
       "      <td>0</td>\n",
       "      <td>0</td>\n",
       "      <td>0</td>\n",
       "      <td>0</td>\n",
       "      <td>0</td>\n",
       "      <td>0</td>\n",
       "    </tr>\n",
       "    <tr>\n",
       "      <th>8541</th>\n",
       "      <td>1</td>\n",
       "      <td>0.999046</td>\n",
       "      <td>8541</td>\n",
       "      <td>1</td>\n",
       "      <td>1</td>\n",
       "      <td>1</td>\n",
       "      <td>1</td>\n",
       "      <td>1</td>\n",
       "      <td>1</td>\n",
       "      <td>1</td>\n",
       "      <td>1</td>\n",
       "      <td>1</td>\n",
       "      <td>1</td>\n",
       "      <td>1</td>\n",
       "      <td>1</td>\n",
       "    </tr>\n",
       "    <tr>\n",
       "      <th>2016</th>\n",
       "      <td>1</td>\n",
       "      <td>0.977010</td>\n",
       "      <td>2016</td>\n",
       "      <td>1</td>\n",
       "      <td>1</td>\n",
       "      <td>1</td>\n",
       "      <td>1</td>\n",
       "      <td>1</td>\n",
       "      <td>1</td>\n",
       "      <td>1</td>\n",
       "      <td>1</td>\n",
       "      <td>1</td>\n",
       "      <td>1</td>\n",
       "      <td>1</td>\n",
       "      <td>1</td>\n",
       "    </tr>\n",
       "    <tr>\n",
       "      <th>1784</th>\n",
       "      <td>0</td>\n",
       "      <td>0.014243</td>\n",
       "      <td>1784</td>\n",
       "      <td>0</td>\n",
       "      <td>1</td>\n",
       "      <td>0</td>\n",
       "      <td>0</td>\n",
       "      <td>0</td>\n",
       "      <td>0</td>\n",
       "      <td>0</td>\n",
       "      <td>0</td>\n",
       "      <td>0</td>\n",
       "      <td>0</td>\n",
       "      <td>0</td>\n",
       "      <td>0</td>\n",
       "    </tr>\n",
       "  </tbody>\n",
       "</table>\n",
       "</div>"
      ],
      "text/plain": [
       "      Converted  Converted_prob  Prospect ID  Predicted  0.0  0.1  0.2  0.3  \\\n",
       "181           0        0.032342          181          0    1    0    0    0   \n",
       "3683          0        0.002562         3683          0    1    0    0    0   \n",
       "8541          1        0.999046         8541          1    1    1    1    1   \n",
       "2016          1        0.977010         2016          1    1    1    1    1   \n",
       "1784          0        0.014243         1784          0    1    0    0    0   \n",
       "\n",
       "      0.4  0.5  0.6  0.7  0.8  0.9  final_predicted  \n",
       "181     0    0    0    0    0    0                0  \n",
       "3683    0    0    0    0    0    0                0  \n",
       "8541    1    1    1    1    1    1                1  \n",
       "2016    1    1    1    1    1    1                1  \n",
       "1784    0    0    0    0    0    0                0  "
      ]
     },
     "execution_count": 594,
     "metadata": {},
     "output_type": "execute_result"
    }
   ],
   "source": [
    "y_train_pred_final['final_predicted'] = y_train_pred_final.Converted_prob.map( lambda x: 1 if x > 0.2 else 0)\n",
    "\n",
    "y_train_pred_final.head()"
   ]
  },
  {
   "cell_type": "markdown",
   "id": "01987af7",
   "metadata": {},
   "source": [
    ".3 Looks like a decent probability cut off above which we can consider lead conversion \n"
   ]
  }
 ],
 "metadata": {
  "kernelspec": {
   "display_name": "Python 3",
   "language": "python",
   "name": "python3"
  },
  "language_info": {
   "codemirror_mode": {
    "name": "ipython",
    "version": 3
   },
   "file_extension": ".py",
   "mimetype": "text/x-python",
   "name": "python",
   "nbconvert_exporter": "python",
   "pygments_lexer": "ipython3",
   "version": "3.12.2"
  }
 },
 "nbformat": 4,
 "nbformat_minor": 5
}
